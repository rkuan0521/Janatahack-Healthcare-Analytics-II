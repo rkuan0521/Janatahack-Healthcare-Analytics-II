{
 "cells": [
  {
   "cell_type": "markdown",
   "metadata": {},
   "source": [
    "# CatBoostClassifier"
   ]
  },
  {
   "cell_type": "code",
   "execution_count": 92,
   "metadata": {},
   "outputs": [],
   "source": [
    "import numpy as np\n",
    "import pandas as pd\n",
    "import matplotlib.pyplot as plt\n",
    "import seaborn as sns\n",
    "from sklearn.model_selection import train_test_split\n",
    "from sklearn.metrics import plot_confusion_matrix\n",
    "from sklearn.metrics import confusion_matrix\n",
    "from sklearn.metrics import accuracy_score\n",
    "import os\n",
    "os.environ['KMP_DUPLICATE_LIB_OK']='True'\n"
   ]
  },
  {
   "cell_type": "code",
   "execution_count": 93,
   "metadata": {},
   "outputs": [
    {
     "name": "stdout",
     "output_type": "stream",
     "text": [
      "(318438, 17)\n",
      "(137057, 16)\n"
     ]
    }
   ],
   "source": [
    "df_train = pd.read_csv(\"train_data.csv\",index_col=0)\n",
    "df_test = pd.read_csv(\"test_data.csv\",index_col=0)\n",
    "print(df_train.shape)\n",
    "print(df_test.shape)"
   ]
  },
  {
   "cell_type": "markdown",
   "metadata": {},
   "source": [
    "## Preprocessing"
   ]
  },
  {
   "cell_type": "code",
   "execution_count": 94,
   "metadata": {},
   "outputs": [
    {
     "name": "stdout",
     "output_type": "stream",
     "text": [
      "{'TB & Chest disease': 0, 'anesthesia': 1, 'gynecology': 2, 'radiotherapy': 3, 'surgery': 4}\n",
      "{'X': 0, 'Y': 1, 'Z': 2}\n",
      "{'P': 0, 'Q': 1, 'R': 2, 'S': 3, 'T': 4, 'U': 5}\n",
      "{'A': 0, 'B': 1, 'C': 2, 'D': 3, 'E': 4, 'F': 5}\n",
      "{'Emergency': 0, 'Trauma': 1, 'Urgent': 2}\n",
      "{'0-10': 0, '11-20': 1, '21-30': 2, '31-40': 3, '41-50': 4, '51-60': 5, '61-70': 6, '71-80': 7, '81-90': 8, '91-100': 9}\n",
      "{'a': 0, 'b': 1, 'c': 2, 'd': 3, 'e': 4, 'f': 5, 'g': 6}\n",
      "{'0-10': 0, '11-20': 1, '21-30': 2, '31-40': 3, '41-50': 4, '51-60': 5, '61-70': 6, '71-80': 7, '81-90': 8, '91-100': 9, 'More than 100 Days': 10}\n"
     ]
    }
   ],
   "source": [
    "def Convert_to_Num(df):\n",
    "    dept_lst = df[\"Department\"].unique()\n",
    "    dept_lst.sort()\n",
    "    dept_dict = dict(zip(dept_lst, range(len(dept_lst))))\n",
    "    df.Department.replace(dept_dict, inplace=True)\n",
    "    print(dept_dict)\n",
    "    \n",
    "    HRC_lst = df[\"Hospital_region_code\"].unique()\n",
    "    HRC_lst.sort()\n",
    "    HRC_dict = dict(zip(HRC_lst, range(len(HRC_lst))))\n",
    "    df.Hospital_region_code.replace(HRC_dict, inplace=True)\n",
    "    print(HRC_dict)\n",
    "    \n",
    "    ward_lst = df[\"Ward_Type\"].unique()\n",
    "    ward_lst.sort()\n",
    "    ward_dict = dict(zip(ward_lst, range(len(ward_lst))))\n",
    "    df.Ward_Type.replace(ward_dict, inplace=True)\n",
    "    print(ward_dict)\n",
    "    \n",
    "    WFC_lst = df[\"Ward_Facility_Code\"].unique()\n",
    "    WFC_lst.sort()\n",
    "    WFC_dict = dict(zip(WFC_lst, range(len(WFC_lst))))\n",
    "    df.Ward_Facility_Code.replace(WFC_dict, inplace=True)\n",
    "    print(WFC_dict)\n",
    "    \n",
    "    TOA_lst = df[\"Type of Admission\"].unique()\n",
    "    TOA_lst.sort()\n",
    "    TOA_dict = dict(zip(TOA_lst, range(len(TOA_lst))))\n",
    "    df[\"Type of Admission\"].replace(TOA_dict, inplace=True)\n",
    "    print(TOA_dict)\n",
    "    \n",
    "    age_lst = df[\"Age\"].unique()\n",
    "    age_lst.sort()\n",
    "    age_dict = dict(zip(age_lst, range(len(age_lst))))\n",
    "    df[\"Age\"].replace(age_dict, inplace=True)\n",
    "    print(age_dict)\n",
    "    \n",
    "    HTC_lst = df[\"Hospital_type_code\"].unique()\n",
    "    HTC_lst.sort()\n",
    "    HTC_dict = dict(zip(HTC_lst, range(len(HTC_lst))))\n",
    "    df[\"Hospital_type_code\"].replace(HTC_dict, inplace=True)\n",
    "    print(HTC_dict)\n",
    "    \n",
    "    \n",
    "Convert_to_Num(df_train)\n",
    "stay_list = df_train[\"Stay\"].unique()\n",
    "stay_list.sort()\n",
    "dept_Stay = dict(zip(stay_list, range(len(stay_list))))\n",
    "df_train[\"Stay\"].replace(dept_Stay, inplace=True)\n",
    "df_train['Severity of Illness'] = df_train['Severity of Illness'].map({'Minor': 1,'Moderate': 2,'Extreme': 3})\n",
    "print(dept_Stay)\n",
    "df_train[\"Bed Grade\"] = df_train[\"Bed Grade\"].fillna(2)"
   ]
  },
  {
   "cell_type": "code",
   "execution_count": 95,
   "metadata": {},
   "outputs": [
    {
     "data": {
      "text/plain": [
       "Hospital_code                           0\n",
       "Hospital_type_code                      0\n",
       "City_Code_Hospital                      0\n",
       "Hospital_region_code                    0\n",
       "Available Extra Rooms in Hospital       0\n",
       "Department                              0\n",
       "Ward_Type                               0\n",
       "Ward_Facility_Code                      0\n",
       "Bed Grade                               0\n",
       "patientid                               0\n",
       "City_Code_Patient                    4532\n",
       "Type of Admission                       0\n",
       "Severity of Illness                     0\n",
       "Visitors with Patient                   0\n",
       "Age                                     0\n",
       "Admission_Deposit                       0\n",
       "Stay                                    0\n",
       "dtype: int64"
      ]
     },
     "execution_count": 95,
     "metadata": {},
     "output_type": "execute_result"
    }
   ],
   "source": [
    "df_train.isnull().sum()"
   ]
  },
  {
   "cell_type": "markdown",
   "metadata": {},
   "source": [
    "## Group Features"
   ]
  },
  {
   "cell_type": "code",
   "execution_count": 78,
   "metadata": {},
   "outputs": [],
   "source": [
    "def featureGroup(df_train):\n",
    "    df_train[\"Bed Grade\"] = df_train[\"Bed Grade\"].fillna(2)\n",
    "    \n",
    "    df_train['mean_Hospital_code_Deposit']=df_train.groupby(['Hospital_code'])['Admission_Deposit'].transform('mean')\n",
    "    df_train['min_Hospital_code_Deposit']=df_train.groupby(['Hospital_code'])['Admission_Deposit'].transform('min')\n",
    "    df_train['max_Hospital_code_Deposit']=df_train.groupby(['Hospital_code'])['Admission_Deposit'].transform('max')\n",
    "    df_train['diff_Hospital_code_Deposit']=df_train['max_Hospital_code_Deposit']-df_train['min_Hospital_code_Deposit']\n",
    "    df_train['mean_Hospital_code_BedGrade_Deposit']=df_train.groupby(['Hospital_code'])['Bed Grade'].transform('mean')\n",
    "\n",
    "\n",
    "    df_train['mean_SeverityDeposit']=df_train.groupby(['Severity of Illness'])['Admission_Deposit'].transform('mean')\n",
    "    df_train['min_SeverityDeposit']=df_train.groupby(['Severity of Illness'])['Admission_Deposit'].transform('min')\n",
    "    df_train['max_SeverityDeposit']=df_train.groupby(['Severity of Illness'])['Admission_Deposit'].transform('max')\n",
    "    df_train['diff_SeverityDeposit']=df_train['max_SeverityDeposit']-df_train['min_SeverityDeposit']\n",
    "    df_train['mean_Hospital_code_Severity']=df_train.groupby(['Hospital_type_code'])['Severity of Illness'].transform('mean')\n",
    "    \n",
    "    df_train['sumVisitorsPatient']=df_train.groupby(['patientid'])['Visitors with Patient'].transform('sum')\n",
    "    df_train['meanVisitorsPatient']=df_train.groupby(['patientid'])['Visitors with Patient'].transform('mean')\n",
    "    df_train['countPatient']=df_train.groupby(['patientid'])['Admission_Deposit'].transform('count')\n",
    "    \n",
    "    df_train['maxPatientDeposit']=df_train.groupby(['patientid'])['Admission_Deposit'].transform('max')\n",
    "    df_train['minPatientDeposit']=df_train.groupby(['patientid'])['Admission_Deposit'].transform('min')\n",
    "    df_train['meanPatientDeposit']=df_train.groupby(['patientid'])['Admission_Deposit'].transform('mean')\n",
    "    \n",
    "    \n",
    "    df_train['SeverityCount']=df_train.groupby('Hospital_code')['Severity of Illness'].transform('count')\n",
    "    df_train['SeverityGradeCount']=df_train.groupby(['Hospital_code','Severity of Illness','Bed Grade'])['Available Extra Rooms in Hospital'].transform('count')\n",
    "    df_train['SeverityGradeMean']=df_train.groupby(['Hospital_code','Severity of Illness','Bed Grade'])['Available Extra Rooms in Hospital'].transform('mean')\n",
    "    df_train['roomDepartment_mean']=df_train.groupby(['Hospital_code','Department','Bed Grade'])['Available Extra Rooms in Hospital'].transform('mean')\n",
    "    df_train['Department_count']=df_train.groupby(['Hospital_code','Department'])['Bed Grade'].transform('count')\n",
    "\n",
    "\n",
    "    df_train['wardFacility_count']=df_train.groupby(['Hospital_code','Ward_Type','Ward_Facility_Code'])['Admission_Deposit'].transform('count')\n",
    "    df_train['wardFacility_mean']=df_train.groupby(['Hospital_code','Ward_Type','Ward_Facility_Code'])['Admission_Deposit'].transform('mean')\n",
    "    df_train['Admission_count']=df_train.groupby(['Hospital_code','Type of Admission'])['Admission_Deposit'].transform('mean')\n",
    "    \n",
    "    \n",
    "    return df_train\n"
   ]
  },
  {
   "cell_type": "code",
   "execution_count": 99,
   "metadata": {},
   "outputs": [
    {
     "data": {
      "text/html": [
       "<div>\n",
       "<style scoped>\n",
       "    .dataframe tbody tr th:only-of-type {\n",
       "        vertical-align: middle;\n",
       "    }\n",
       "\n",
       "    .dataframe tbody tr th {\n",
       "        vertical-align: top;\n",
       "    }\n",
       "\n",
       "    .dataframe thead th {\n",
       "        text-align: right;\n",
       "    }\n",
       "</style>\n",
       "<table border=\"1\" class=\"dataframe\">\n",
       "  <thead>\n",
       "    <tr style=\"text-align: right;\">\n",
       "      <th></th>\n",
       "      <th>Hospital_code</th>\n",
       "      <th>Hospital_type_code</th>\n",
       "      <th>City_Code_Hospital</th>\n",
       "      <th>Hospital_region_code</th>\n",
       "      <th>Available Extra Rooms in Hospital</th>\n",
       "      <th>Department</th>\n",
       "      <th>Ward_Type</th>\n",
       "      <th>Ward_Facility_Code</th>\n",
       "      <th>Bed Grade</th>\n",
       "      <th>patientid</th>\n",
       "      <th>...</th>\n",
       "      <th>SeverityGradeCount</th>\n",
       "      <th>SeverityGradeSum</th>\n",
       "      <th>SeverityGradeMean</th>\n",
       "      <th>room_Sum</th>\n",
       "      <th>room_count</th>\n",
       "      <th>roomDepartment_count</th>\n",
       "      <th>Department_count</th>\n",
       "      <th>ward_count</th>\n",
       "      <th>wardFacility_count</th>\n",
       "      <th>Admission_count</th>\n",
       "    </tr>\n",
       "    <tr>\n",
       "      <th>case_id</th>\n",
       "      <th></th>\n",
       "      <th></th>\n",
       "      <th></th>\n",
       "      <th></th>\n",
       "      <th></th>\n",
       "      <th></th>\n",
       "      <th></th>\n",
       "      <th></th>\n",
       "      <th></th>\n",
       "      <th></th>\n",
       "      <th></th>\n",
       "      <th></th>\n",
       "      <th></th>\n",
       "      <th></th>\n",
       "      <th></th>\n",
       "      <th></th>\n",
       "      <th></th>\n",
       "      <th></th>\n",
       "      <th></th>\n",
       "      <th></th>\n",
       "      <th></th>\n",
       "    </tr>\n",
       "  </thead>\n",
       "  <tbody>\n",
       "    <tr>\n",
       "      <th>1</th>\n",
       "      <td>8</td>\n",
       "      <td>2</td>\n",
       "      <td>3</td>\n",
       "      <td>2</td>\n",
       "      <td>3</td>\n",
       "      <td>3</td>\n",
       "      <td>2</td>\n",
       "      <td>5</td>\n",
       "      <td>2.0</td>\n",
       "      <td>31397</td>\n",
       "      <td>...</td>\n",
       "      <td>270</td>\n",
       "      <td>971</td>\n",
       "      <td>3.596296</td>\n",
       "      <td>12632</td>\n",
       "      <td>3663</td>\n",
       "      <td>775</td>\n",
       "      <td>235</td>\n",
       "      <td>5034.789895</td>\n",
       "      <td>5034.789895</td>\n",
       "      <td>4837.363495</td>\n",
       "    </tr>\n",
       "    <tr>\n",
       "      <th>2</th>\n",
       "      <td>2</td>\n",
       "      <td>2</td>\n",
       "      <td>5</td>\n",
       "      <td>2</td>\n",
       "      <td>2</td>\n",
       "      <td>3</td>\n",
       "      <td>3</td>\n",
       "      <td>5</td>\n",
       "      <td>2.0</td>\n",
       "      <td>31397</td>\n",
       "      <td>...</td>\n",
       "      <td>367</td>\n",
       "      <td>1021</td>\n",
       "      <td>2.782016</td>\n",
       "      <td>13737</td>\n",
       "      <td>5102</td>\n",
       "      <td>1135</td>\n",
       "      <td>444</td>\n",
       "      <td>5037.976996</td>\n",
       "      <td>5037.976996</td>\n",
       "      <td>5084.350735</td>\n",
       "    </tr>\n",
       "    <tr>\n",
       "      <th>3</th>\n",
       "      <td>10</td>\n",
       "      <td>4</td>\n",
       "      <td>1</td>\n",
       "      <td>0</td>\n",
       "      <td>2</td>\n",
       "      <td>1</td>\n",
       "      <td>3</td>\n",
       "      <td>4</td>\n",
       "      <td>2.0</td>\n",
       "      <td>31397</td>\n",
       "      <td>...</td>\n",
       "      <td>626</td>\n",
       "      <td>2030</td>\n",
       "      <td>3.242812</td>\n",
       "      <td>29185</td>\n",
       "      <td>9435</td>\n",
       "      <td>1937</td>\n",
       "      <td>763</td>\n",
       "      <td>4564.486800</td>\n",
       "      <td>4564.486800</td>\n",
       "      <td>4618.402009</td>\n",
       "    </tr>\n",
       "    <tr>\n",
       "      <th>4</th>\n",
       "      <td>26</td>\n",
       "      <td>1</td>\n",
       "      <td>2</td>\n",
       "      <td>1</td>\n",
       "      <td>2</td>\n",
       "      <td>3</td>\n",
       "      <td>2</td>\n",
       "      <td>3</td>\n",
       "      <td>2.0</td>\n",
       "      <td>31397</td>\n",
       "      <td>...</td>\n",
       "      <td>2528</td>\n",
       "      <td>8518</td>\n",
       "      <td>3.369462</td>\n",
       "      <td>109008</td>\n",
       "      <td>33076</td>\n",
       "      <td>10890</td>\n",
       "      <td>3519</td>\n",
       "      <td>4975.934545</td>\n",
       "      <td>4975.934545</td>\n",
       "      <td>4990.976460</td>\n",
       "    </tr>\n",
       "    <tr>\n",
       "      <th>5</th>\n",
       "      <td>26</td>\n",
       "      <td>1</td>\n",
       "      <td>2</td>\n",
       "      <td>1</td>\n",
       "      <td>2</td>\n",
       "      <td>3</td>\n",
       "      <td>3</td>\n",
       "      <td>3</td>\n",
       "      <td>2.0</td>\n",
       "      <td>31397</td>\n",
       "      <td>...</td>\n",
       "      <td>2528</td>\n",
       "      <td>8518</td>\n",
       "      <td>3.369462</td>\n",
       "      <td>109008</td>\n",
       "      <td>33076</td>\n",
       "      <td>10890</td>\n",
       "      <td>3519</td>\n",
       "      <td>4917.667741</td>\n",
       "      <td>4917.667741</td>\n",
       "      <td>4990.976460</td>\n",
       "    </tr>\n",
       "  </tbody>\n",
       "</table>\n",
       "<p>5 rows × 47 columns</p>\n",
       "</div>"
      ],
      "text/plain": [
       "         Hospital_code  Hospital_type_code  City_Code_Hospital  \\\n",
       "case_id                                                          \n",
       "1                    8                   2                   3   \n",
       "2                    2                   2                   5   \n",
       "3                   10                   4                   1   \n",
       "4                   26                   1                   2   \n",
       "5                   26                   1                   2   \n",
       "\n",
       "         Hospital_region_code  Available Extra Rooms in Hospital  Department  \\\n",
       "case_id                                                                        \n",
       "1                           2                                  3           3   \n",
       "2                           2                                  2           3   \n",
       "3                           0                                  2           1   \n",
       "4                           1                                  2           3   \n",
       "5                           1                                  2           3   \n",
       "\n",
       "         Ward_Type  Ward_Facility_Code  Bed Grade  patientid  ...  \\\n",
       "case_id                                                       ...   \n",
       "1                2                   5        2.0      31397  ...   \n",
       "2                3                   5        2.0      31397  ...   \n",
       "3                3                   4        2.0      31397  ...   \n",
       "4                2                   3        2.0      31397  ...   \n",
       "5                3                   3        2.0      31397  ...   \n",
       "\n",
       "         SeverityGradeCount  SeverityGradeSum  SeverityGradeMean  room_Sum  \\\n",
       "case_id                                                                      \n",
       "1                       270               971           3.596296     12632   \n",
       "2                       367              1021           2.782016     13737   \n",
       "3                       626              2030           3.242812     29185   \n",
       "4                      2528              8518           3.369462    109008   \n",
       "5                      2528              8518           3.369462    109008   \n",
       "\n",
       "         room_count  roomDepartment_count  Department_count   ward_count  \\\n",
       "case_id                                                                    \n",
       "1              3663                   775               235  5034.789895   \n",
       "2              5102                  1135               444  5037.976996   \n",
       "3              9435                  1937               763  4564.486800   \n",
       "4             33076                 10890              3519  4975.934545   \n",
       "5             33076                 10890              3519  4917.667741   \n",
       "\n",
       "         wardFacility_count  Admission_count  \n",
       "case_id                                       \n",
       "1               5034.789895      4837.363495  \n",
       "2               5037.976996      5084.350735  \n",
       "3               4564.486800      4618.402009  \n",
       "4               4975.934545      4990.976460  \n",
       "5               4917.667741      4990.976460  \n",
       "\n",
       "[5 rows x 47 columns]"
      ]
     },
     "execution_count": 99,
     "metadata": {},
     "output_type": "execute_result"
    }
   ],
   "source": [
    "df_train=featureGroup(df_train)\n",
    "df_train.head()"
   ]
  },
  {
   "cell_type": "code",
   "execution_count": 105,
   "metadata": {},
   "outputs": [],
   "source": [
    "def dropFeature(df,check=True):\n",
    "    #x = df.drop(columns=[\"City_Code_Patient\", \"patientid\",\"Hospital_type_code\",\"City_Code_Hospital\",\n",
    "    #                       \"Hospital_region_code\",\"Admission_Deposit\",\"Hospital_code\",\n",
    "    #                      \"Available Extra Rooms in Hospital\",\"Ward_Type\",\"Ward_Facility_Code\"])\n",
    "    \n",
    "    x = df.drop(columns=[\"City_Code_Patient\", \"patientid\",\"Hospital_code\",])\n",
    "    if (check == True):\n",
    "        x = x.drop(columns=[\"Stay\"])\n",
    "    return x"
   ]
  },
  {
   "cell_type": "code",
   "execution_count": 106,
   "metadata": {},
   "outputs": [],
   "source": [
    "y = df_train.Stay\n",
    "x = dropFeature(df_train)\n",
    "x_train, x_test, y_train, y_test = train_test_split(x, y, test_size=0.2, random_state=42)"
   ]
  },
  {
   "cell_type": "code",
   "execution_count": 108,
   "metadata": {},
   "outputs": [
    {
     "data": {
      "text/plain": [
       "Hospital_type_code                     0\n",
       "City_Code_Hospital                     0\n",
       "Hospital_region_code                   0\n",
       "Available Extra Rooms in Hospital      0\n",
       "Department                             0\n",
       "Ward_Type                              0\n",
       "Ward_Facility_Code                     0\n",
       "Bed Grade                              0\n",
       "Type of Admission                      0\n",
       "Severity of Illness                    0\n",
       "Visitors with Patient                  0\n",
       "Age                                    0\n",
       "Admission_Deposit                      0\n",
       "mean_Hospital_code_Deposit             0\n",
       "min_Hospital_code_Deposit              0\n",
       "max_Hospital_code_Deposit              0\n",
       "diff_Hospital_code_Deposit             0\n",
       "mean_Hospital_code_BedGrade_Deposit    0\n",
       "mean_SeverityDeposit                   0\n",
       "min_SeverityDeposit                    0\n",
       "max_SeverityDeposit                    0\n",
       "diff_SeverityDeposit                   0\n",
       "mean_Hospital_code_Severity            0\n",
       "sumVisitorsPatient                     0\n",
       "minVisitorsPatient                     0\n",
       "maxVisitorsPatient                     0\n",
       "meanVisitorsPatient                    0\n",
       "maxPatientDeposit                      0\n",
       "minPatientDeposit                      0\n",
       "meanPatientDeposit                     0\n",
       "countPatientDeposit                    0\n",
       "count                                  0\n",
       "SeverityCount                          0\n",
       "SeverityGradeCount                     0\n",
       "SeverityGradeSum                       0\n",
       "SeverityGradeMean                      0\n",
       "room_Sum                               0\n",
       "room_count                             0\n",
       "roomDepartment_count                   0\n",
       "Department_count                       0\n",
       "ward_count                             0\n",
       "wardFacility_count                     0\n",
       "Admission_count                        0\n",
       "dtype: int64"
      ]
     },
     "execution_count": 108,
     "metadata": {},
     "output_type": "execute_result"
    }
   ],
   "source": [
    "x_train.isnull().sum()"
   ]
  },
  {
   "cell_type": "markdown",
   "metadata": {},
   "source": [
    "## Training the CatBoost Classification model on the Training set"
   ]
  },
  {
   "cell_type": "code",
   "execution_count": 109,
   "metadata": {},
   "outputs": [
    {
     "name": "stdout",
     "output_type": "stream",
     "text": [
      "0:\tlearn: 0.3924593\ttest: 0.3915965\tbest: 0.3915965 (0)\ttotal: 2.6s\tremaining: 34m 37s\n",
      "50:\tlearn: 0.4158155\ttest: 0.4105326\tbest: 0.4105954 (49)\ttotal: 2m 22s\tremaining: 34m 53s\n",
      "100:\tlearn: 0.4250599\ttest: 0.4154472\tbest: 0.4155728 (96)\ttotal: 4m 23s\tremaining: 30m 24s\n",
      "150:\tlearn: 0.4320667\ttest: 0.4180536\tbest: 0.4181635 (148)\ttotal: 6m 26s\tremaining: 27m 43s\n",
      "200:\tlearn: 0.4374132\ttest: 0.4199064\tbest: 0.4199535 (195)\ttotal: 8m 23s\tremaining: 25m 1s\n",
      "250:\tlearn: 0.4423081\ttest: 0.4208956\tbest: 0.4213039 (245)\ttotal: 10m 18s\tremaining: 22m 32s\n",
      "300:\tlearn: 0.4476860\ttest: 0.4217121\tbest: 0.4218691 (291)\ttotal: 12m 15s\tremaining: 20m 19s\n",
      "350:\tlearn: 0.4527223\ttest: 0.4227798\tbest: 0.4227798 (342)\ttotal: 14m 6s\tremaining: 18m 3s\n",
      "400:\tlearn: 0.4574210\ttest: 0.4229839\tbest: 0.4230310 (382)\ttotal: 16m 1s\tremaining: 15m 56s\n",
      "450:\tlearn: 0.4624141\ttest: 0.4240830\tbest: 0.4241929 (449)\ttotal: 17m 49s\tremaining: 13m 47s\n",
      "500:\tlearn: 0.4671482\ttest: 0.4244442\tbest: 0.4245070 (466)\ttotal: 19m 37s\tremaining: 11m 42s\n",
      "550:\tlearn: 0.4719764\ttest: 0.4250408\tbest: 0.4252763 (525)\ttotal: 21m 25s\tremaining: 9m 40s\n",
      "600:\tlearn: 0.4768871\ttest: 0.4250565\tbest: 0.4253392 (574)\ttotal: 23m 11s\tremaining: 7m 40s\n",
      "650:\tlearn: 0.4818803\ttest: 0.4253078\tbest: 0.4254648 (648)\ttotal: 24m 58s\tremaining: 5m 43s\n",
      "700:\tlearn: 0.4863513\ttest: 0.4248524\tbest: 0.4254648 (648)\ttotal: 26m 50s\tremaining: 3m 47s\n",
      "750:\tlearn: 0.4914936\ttest: 0.4247739\tbest: 0.4254648 (648)\ttotal: 28m 35s\tremaining: 1m 51s\n",
      "799:\tlearn: 0.4967537\ttest: 0.4251507\tbest: 0.4255276 (777)\ttotal: 30m 26s\tremaining: 0us\n",
      "\n",
      "bestTest = 0.4255275719\n",
      "bestIteration = 777\n",
      "\n",
      "Shrink model to first 778 iterations.\n",
      "{'learn': {'Accuracy': 0.49675368007850834, 'MultiClass': 1.3290674851981026}, 'validation': {'Accuracy': 0.4255275719130762, 'MultiClass': 1.4969774148248307}}\n",
      "[[8.2400e+02 2.3120e+03 1.5130e+03 2.1000e+01 2.0000e+00 1.6000e+01\n",
      "  0.0000e+00 0.0000e+00 0.0000e+00 0.0000e+00 1.0000e+00]\n",
      " [4.6900e+02 7.9410e+03 5.9530e+03 7.0100e+02 2.0000e+00 4.9000e+02\n",
      "  0.0000e+00 3.0000e+00 1.0000e+00 0.0000e+00 1.0000e+00]\n",
      " [3.5000e+02 5.2430e+03 1.1466e+04 2.5200e+02 1.0000e+00 2.5200e+02\n",
      "  0.0000e+00 2.0000e+00 1.9000e+01 0.0000e+00 1.8000e+01]\n",
      " [1.5600e+02 2.0770e+03 4.4160e+03 2.5190e+03 3.0000e+00 1.7410e+03\n",
      "  0.0000e+00 1.1000e+01 1.3000e+01 0.0000e+00 4.5000e+01]\n",
      " [6.5000e+01 4.8200e+02 1.4440e+03 1.6300e+02 4.0000e+00 1.6500e+02\n",
      "  0.0000e+00 2.0000e+00 9.0000e+00 0.0000e+00 2.3000e+01]\n",
      " [6.7000e+01 5.5800e+02 1.0380e+03 1.7110e+03 1.0000e+00 3.5210e+03\n",
      "  1.0000e+00 1.3000e+01 1.1000e+02 0.0000e+00 1.0800e+02]\n",
      " [1.6000e+01 7.3000e+01 2.7300e+02 5.5000e+01 1.0000e+00 1.0500e+02\n",
      "  0.0000e+00 6.0000e+00 8.0000e+00 0.0000e+00 1.7000e+01]\n",
      " [2.4000e+01 1.2900e+02 2.1500e+02 4.2300e+02 0.0000e+00 1.0190e+03\n",
      "  0.0000e+00 5.1000e+01 2.6000e+01 0.0000e+00 1.4400e+02]\n",
      " [7.0000e+00 3.5000e+01 4.0000e+01 8.2000e+01 0.0000e+00 4.9400e+02\n",
      "  0.0000e+00 7.0000e+00 1.7500e+02 1.0000e+00 1.0000e+02]\n",
      " [6.0000e+00 2.5000e+01 6.0000e+01 9.7000e+01 0.0000e+00 2.6500e+02\n",
      "  0.0000e+00 7.0000e+00 6.0000e+00 8.0000e+00 7.8000e+01]\n",
      " [2.1000e+01 5.5000e+01 5.9000e+01 8.2000e+01 2.0000e+00 3.9100e+02\n",
      "  0.0000e+00 1.7000e+01 7.1000e+01 1.0000e+00 5.9200e+02]]\n"
     ]
    },
    {
     "data": {
      "image/png": "[encoded data removed]",
      "text/plain": [
       "<Figure size 432x288 with 2 Axes>"
      ]
     },
     "metadata": {
      "needs_background": "light"
     },
     "output_type": "display_data"
    },
    {
     "name": "stdout",
     "output_type": "stream",
     "text": [
      "catboost Acc :  0.7591373635891218\n"
     ]
    }
   ],
   "source": [
    "from catboost import CatBoostClassifier, Pool\n",
    "from catboost.utils import get_confusion_matrix\n",
    "\n",
    "eval_dataset = Pool(x_test,\n",
    "                    y_test)\n",
    "\n",
    "model = CatBoostClassifier(iterations=800,\n",
    "                           learning_rate=0.03,\n",
    "                           depth=10,\n",
    "                           l2_leaf_reg = 3,\n",
    "                           loss_function='MultiClass',\n",
    "                           eval_metric='Accuracy')\n",
    "\n",
    "\n",
    "model.fit(x_train,\n",
    "          y_train,\n",
    "          eval_set=eval_dataset,\n",
    "          verbose=50)\n",
    "\n",
    "\n",
    "\n",
    "print(model.get_best_score())\n",
    "cm = get_confusion_matrix(model, eval_dataset)\n",
    "print(cm)\n",
    "predict_accuracy_on_test_set = (cm[0,0] + cm[1,1])/(cm[0,0] + cm[1,1]+cm[1,0] + cm[0,1])\n",
    "ax = sns.heatmap(cm, linewidth=1)\n",
    "plt.show()\n",
    "print(\"catboost Acc : \", predict_accuracy_on_test_set)"
   ]
  },
  {
   "cell_type": "markdown",
   "metadata": {},
   "source": [
    "## Training Result"
   ]
  },
  {
   "cell_type": "code",
   "execution_count": 111,
   "metadata": {},
   "outputs": [],
   "source": [
    "import catboost\n",
    "pred = model.predict(\n",
    "                 eval_dataset, \n",
    "                 verbose=True)"
   ]
  },
  {
   "cell_type": "code",
   "execution_count": 112,
   "metadata": {},
   "outputs": [
    {
     "data": {
      "text/plain": [
       "0.4255275719130762"
      ]
     },
     "execution_count": 112,
     "metadata": {},
     "output_type": "execute_result"
    }
   ],
   "source": [
    "from sklearn.metrics import accuracy_score\n",
    "accuracy_score(y_test, pred)"
   ]
  },
  {
   "cell_type": "markdown",
   "metadata": {},
   "source": [
    "## Predicting the Test set results"
   ]
  },
  {
   "cell_type": "code",
   "execution_count": 155,
   "metadata": {},
   "outputs": [
    {
     "name": "stdout",
     "output_type": "stream",
     "text": [
      "{'TB & Chest disease': 0, 'anesthesia': 1, 'gynecology': 2, 'radiotherapy': 3, 'surgery': 4}\n",
      "{'X': 0, 'Y': 1, 'Z': 2}\n",
      "{'P': 0, 'Q': 1, 'R': 2, 'S': 3, 'T': 4, 'U': 5}\n",
      "{'A': 0, 'B': 1, 'C': 2, 'D': 3, 'E': 4, 'F': 5}\n",
      "{'Emergency': 0, 'Trauma': 1, 'Urgent': 2}\n",
      "{'0-10': 0, '11-20': 1, '21-30': 2, '31-40': 3, '41-50': 4, '51-60': 5, '61-70': 6, '71-80': 7, '81-90': 8, '91-100': 9}\n",
      "{'a': 0, 'b': 1, 'c': 2, 'd': 3, 'e': 4, 'f': 5, 'g': 6}\n"
     ]
    },
    {
     "data": {
      "text/plain": [
       "(137057, 1)"
      ]
     },
     "execution_count": 155,
     "metadata": {},
     "output_type": "execute_result"
    }
   ],
   "source": [
    "df_test = pd.read_csv(\"test_data.csv\",index_col=0)\n",
    "df_test[\"Bed Grade\"] = df_test[\"Bed Grade\"].fillna(2)\n",
    "Convert_to_Num(df_test)\n",
    "df_test['Severity of Illness'] = df_test['Severity of Illness'].map({'Minor': 1,'Moderate': 2,'Extreme': 3})\n",
    "df_test=featureGroup(df_test)\n",
    "df_test = dropFeature(df_test,check=False)\n",
    "eval_dt = Pool(df_test)\n",
    "preds_class = model.predict(eval_dt)\n",
    "preds_class.shape"
   ]
  },
  {
   "cell_type": "code",
   "execution_count": 157,
   "metadata": {},
   "outputs": [
    {
     "data": {
      "text/html": [
       "<div>\n",
       "<style scoped>\n",
       "    .dataframe tbody tr th:only-of-type {\n",
       "        vertical-align: middle;\n",
       "    }\n",
       "\n",
       "    .dataframe tbody tr th {\n",
       "        vertical-align: top;\n",
       "    }\n",
       "\n",
       "    .dataframe thead th {\n",
       "        text-align: right;\n",
       "    }\n",
       "</style>\n",
       "<table border=\"1\" class=\"dataframe\">\n",
       "  <thead>\n",
       "    <tr style=\"text-align: right;\">\n",
       "      <th></th>\n",
       "      <th>Stay</th>\n",
       "    </tr>\n",
       "    <tr>\n",
       "      <th>case_id</th>\n",
       "      <th></th>\n",
       "    </tr>\n",
       "  </thead>\n",
       "  <tbody>\n",
       "    <tr>\n",
       "      <th>318439</th>\n",
       "      <td>0-10</td>\n",
       "    </tr>\n",
       "    <tr>\n",
       "      <th>318440</th>\n",
       "      <td>51-60</td>\n",
       "    </tr>\n",
       "    <tr>\n",
       "      <th>318441</th>\n",
       "      <td>21-30</td>\n",
       "    </tr>\n",
       "    <tr>\n",
       "      <th>318442</th>\n",
       "      <td>21-30</td>\n",
       "    </tr>\n",
       "    <tr>\n",
       "      <th>318443</th>\n",
       "      <td>51-60</td>\n",
       "    </tr>\n",
       "  </tbody>\n",
       "</table>\n",
       "</div>"
      ],
      "text/plain": [
       "          Stay\n",
       "case_id       \n",
       "318439    0-10\n",
       "318440   51-60\n",
       "318441   21-30\n",
       "318442   21-30\n",
       "318443   51-60"
      ]
     },
     "execution_count": 157,
     "metadata": {},
     "output_type": "execute_result"
    }
   ],
   "source": [
    "df_sub = pd.DataFrame(index=df_test.index)\n",
    "df_sub[\"Stay\"] = preds_class\n",
    "swap_dict_Stay = dict([(value, key) for key, value in dept_Stay.items()])\n",
    "df_sub[\"Stay\"].replace(swap_dict_Stay, inplace=True)\n",
    "df_sub.head()"
   ]
  },
  {
   "cell_type": "markdown",
   "metadata": {},
   "source": [
    "## Save test result"
   ]
  },
  {
   "cell_type": "code",
   "execution_count": 158,
   "metadata": {},
   "outputs": [],
   "source": [
    "df_sub.to_csv(\"SubmissionCat.csv\")"
   ]
  },
  {
   "cell_type": "code",
   "execution_count": null,
   "metadata": {},
   "outputs": [],
   "source": []
  }
 ],
 "metadata": {
  "kernelspec": {
   "display_name": "Python 3",
   "language": "python",
   "name": "python3"
  },
  "language_info": {
   "codemirror_mode": {
    "name": "ipython",
    "version": 3
   },
   "file_extension": ".py",
   "mimetype": "text/x-python",
   "name": "python",
   "nbconvert_exporter": "python",
   "pygments_lexer": "ipython3",
   "version": "3.8.3"
  }
 },
 "nbformat": 4,
 "nbformat_minor": 4
}
