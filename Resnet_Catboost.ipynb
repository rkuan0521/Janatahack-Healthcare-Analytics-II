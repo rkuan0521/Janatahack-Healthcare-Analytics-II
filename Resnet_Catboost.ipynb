{
 "cells": [
  {
   "cell_type": "markdown",
   "metadata": {},
   "source": [
    "# Resnet & Catboost"
   ]
  },
  {
   "cell_type": "code",
   "execution_count": 4,
   "metadata": {},
   "outputs": [
    {
     "name": "stdout",
     "output_type": "stream",
     "text": [
      "(318438, 19)\n",
      "(137057, 18)\n"
     ]
    }
   ],
   "source": [
    "import numpy as np\n",
    "import pandas as pd\n",
    "import matplotlib.pyplot as plt\n",
    "import seaborn as sns\n",
    "from sklearn.model_selection import train_test_split\n",
    "from sklearn.metrics import plot_confusion_matrix\n",
    "from sklearn.metrics import confusion_matrix\n",
    "from sklearn.metrics import accuracy_score\n",
    "import os\n",
    "import matplotlib.pyplot as plt\n",
    "from sklearn.metrics import accuracy_score\n",
    "\n",
    "df_train = pd.read_csv(\"train_data_emb.csv\",index_col=0)\n",
    "df_test = pd.read_csv(\"test_data_emb.csv\",index_col=0)\n",
    "print(df_train.shape)\n",
    "print(df_test.shape)\n"
   ]
  },
  {
   "cell_type": "markdown",
   "metadata": {},
   "source": [
    "## Preprocessing"
   ]
  },
  {
   "cell_type": "code",
   "execution_count": 5,
   "metadata": {},
   "outputs": [
    {
     "name": "stdout",
     "output_type": "stream",
     "text": [
      "{'TB & Chest disease': 0, 'anesthesia': 1, 'gynecology': 2, 'radiotherapy': 3, 'surgery': 4}\n",
      "{'X': 0, 'Y': 1, 'Z': 2}\n",
      "{'P': 0, 'Q': 1, 'R': 2, 'S': 3, 'T': 4, 'U': 5}\n",
      "{'A': 0, 'B': 1, 'C': 2, 'D': 3, 'E': 4, 'F': 5}\n",
      "{'Emergency': 0, 'Trauma': 1, 'Urgent': 2}\n",
      "{'0-10': 0, '11-20': 1, '21-30': 2, '31-40': 3, '41-50': 4, '51-60': 5, '61-70': 6, '71-80': 7, '81-90': 8, '91-100': 9}\n",
      "{'a': 0, 'b': 1, 'c': 2, 'd': 3, 'e': 4, 'f': 5, 'g': 6}\n",
      "{'0-10': 0, '11-20': 1, '21-30': 2, '31-40': 3, '41-50': 4, '51-60': 5, '61-70': 6, '71-80': 7, '81-90': 8, '91-100': 9, 'More than 100 Days': 10}\n"
     ]
    }
   ],
   "source": [
    "def Convert_to_Num(df):\n",
    "    dept_lst = df[\"Department\"].unique()\n",
    "    dept_lst.sort()\n",
    "    dept_dict = dict(zip(dept_lst, range(len(dept_lst))))\n",
    "    df.Department.replace(dept_dict, inplace=True)\n",
    "    print(dept_dict)\n",
    "    \n",
    "    HRC_lst = df[\"Hospital_region_code\"].unique()\n",
    "    HRC_lst.sort()\n",
    "    HRC_dict = dict(zip(HRC_lst, range(len(HRC_lst))))\n",
    "    df.Hospital_region_code.replace(HRC_dict, inplace=True)\n",
    "    print(HRC_dict)\n",
    "    \n",
    "    ward_lst = df[\"Ward_Type\"].unique()\n",
    "    ward_lst.sort()\n",
    "    ward_dict = dict(zip(ward_lst, range(len(ward_lst))))\n",
    "    df.Ward_Type.replace(ward_dict, inplace=True)\n",
    "    print(ward_dict)\n",
    "    \n",
    "    WFC_lst = df[\"Ward_Facility_Code\"].unique()\n",
    "    WFC_lst.sort()\n",
    "    WFC_dict = dict(zip(WFC_lst, range(len(WFC_lst))))\n",
    "    df.Ward_Facility_Code.replace(WFC_dict, inplace=True)\n",
    "    print(WFC_dict)\n",
    "    \n",
    "    TOA_lst = df[\"Type of Admission\"].unique()\n",
    "    TOA_lst.sort()\n",
    "    TOA_dict = dict(zip(TOA_lst, range(len(TOA_lst))))\n",
    "    df[\"Type of Admission\"].replace(TOA_dict, inplace=True)\n",
    "    print(TOA_dict)\n",
    "    \n",
    "    age_lst = df[\"Age\"].unique()\n",
    "    age_lst.sort()\n",
    "    age_dict = dict(zip(age_lst, range(len(age_lst))))\n",
    "    df[\"Age\"].replace(age_dict, inplace=True)\n",
    "    print(age_dict)\n",
    "    \n",
    "    HTC_lst = df[\"Hospital_type_code\"].unique()\n",
    "    HTC_lst.sort()\n",
    "    HTC_dict = dict(zip(HTC_lst, range(len(HTC_lst))))\n",
    "    df[\"Hospital_type_code\"].replace(HTC_dict, inplace=True)\n",
    "    print(HTC_dict)\n",
    "    \n",
    "Convert_to_Num(df_train)\n",
    "stay_list = df_train[\"Stay\"].unique()\n",
    "stay_list.sort()\n",
    "dept_Stay = dict(zip(stay_list, range(len(stay_list))))\n",
    "df_train[\"Stay\"].replace(dept_Stay, inplace=True)\n",
    "df_train['Severity of Illness'] = df_train['Severity of Illness'].map({'Minor': 1,'Moderate': 2,'Extreme': 3})\n",
    "print(dept_Stay)\n",
    "    "
   ]
  },
  {
   "cell_type": "code",
   "execution_count": 6,
   "metadata": {},
   "outputs": [
    {
     "data": {
      "text/plain": [
       "case_id                                 0\n",
       "Hospital_code                           0\n",
       "Hospital_type_code                      0\n",
       "City_Code_Hospital                      0\n",
       "Hospital_region_code                    0\n",
       "Available Extra Rooms in Hospital       0\n",
       "Department                              0\n",
       "Ward_Type                               0\n",
       "Ward_Facility_Code                      0\n",
       "Bed Grade                               0\n",
       "patientid                               0\n",
       "City_Code_Patient                    4532\n",
       "Type of Admission                       0\n",
       "Severity of Illness                     0\n",
       "Visitors with Patient                   0\n",
       "Age                                     0\n",
       "Admission_Deposit                       0\n",
       "Stay                                    0\n",
       "StayCat                                 0\n",
       "dtype: int64"
      ]
     },
     "execution_count": 6,
     "metadata": {},
     "output_type": "execute_result"
    }
   ],
   "source": [
    "df_train[\"Bed Grade\"] = df_train[\"Bed Grade\"].fillna(2)\n",
    "df_train.isnull().sum()\n"
   ]
  },
  {
   "cell_type": "code",
   "execution_count": 7,
   "metadata": {},
   "outputs": [],
   "source": [
    "df_train = pd.concat([df_train,pd.get_dummies(df_train['Hospital_region_code'], prefix='Hospital_region_code')],axis=1)\n",
    "df_train = pd.concat([df_train,pd.get_dummies(df_train['Hospital_code'], prefix='Hospital_code')],axis=1)\n",
    "df_train = pd.concat([df_train,pd.get_dummies(df_train['Hospital_type_code'], prefix='Hospital_type_code')],axis=1)\n",
    "df_train = pd.concat([df_train,pd.get_dummies(df_train['City_Code_Hospital'], prefix='City_Code_Hospital')],axis=1)\n",
    "df_train = pd.concat([df_train,pd.get_dummies(df_train['StayCat'], prefix='StayCat')],axis=1)\n"
   ]
  },
  {
   "cell_type": "code",
   "execution_count": 8,
   "metadata": {},
   "outputs": [],
   "source": [
    "from sklearn.preprocessing import MinMaxScaler\n",
    "from sklearn.preprocessing import StandardScaler\n",
    "sc = StandardScaler()\n",
    "df_train[['Admission_Deposit']] = sc.fit_transform(df_train[['Admission_Deposit']])\n"
   ]
  },
  {
   "cell_type": "markdown",
   "metadata": {},
   "source": [
    "## Split Data"
   ]
  },
  {
   "cell_type": "code",
   "execution_count": 10,
   "metadata": {},
   "outputs": [],
   "source": [
    "y = df_train.Stay\n",
    "x = df_train.drop(['Hospital_region_code','Hospital_code','Hospital_type_code','City_Code_Hospital',\"Stay\", \"City_Code_Patient\", \"patientid\",\"case_id\",\"StayCat\"],axis=1, inplace=False)\n",
    "x_train, x_test, y_train, y_test = train_test_split(x, y, test_size=0.1, random_state=8)"
   ]
  },
  {
   "cell_type": "code",
   "execution_count": 11,
   "metadata": {},
   "outputs": [
    {
     "name": "stdout",
     "output_type": "stream",
     "text": [
      "<class 'pandas.core.frame.DataFrame'>\n",
      "Int64Index: 286594 entries, 147932 to 70083\n",
      "Data columns (total 71 columns):\n",
      " #   Column                             Non-Null Count   Dtype  \n",
      "---  ------                             --------------   -----  \n",
      " 0   Available Extra Rooms in Hospital  286594 non-null  int64  \n",
      " 1   Department                         286594 non-null  int64  \n",
      " 2   Ward_Type                          286594 non-null  int64  \n",
      " 3   Ward_Facility_Code                 286594 non-null  int64  \n",
      " 4   Bed Grade                          286594 non-null  float64\n",
      " 5   Type of Admission                  286594 non-null  int64  \n",
      " 6   Severity of Illness                286594 non-null  int64  \n",
      " 7   Visitors with Patient              286594 non-null  int64  \n",
      " 8   Age                                286594 non-null  int64  \n",
      " 9   Admission_Deposit                  286594 non-null  float64\n",
      " 10  Hospital_region_code_0             286594 non-null  uint8  \n",
      " 11  Hospital_region_code_1             286594 non-null  uint8  \n",
      " 12  Hospital_region_code_2             286594 non-null  uint8  \n",
      " 13  Hospital_code_1                    286594 non-null  uint8  \n",
      " 14  Hospital_code_2                    286594 non-null  uint8  \n",
      " 15  Hospital_code_3                    286594 non-null  uint8  \n",
      " 16  Hospital_code_4                    286594 non-null  uint8  \n",
      " 17  Hospital_code_5                    286594 non-null  uint8  \n",
      " 18  Hospital_code_6                    286594 non-null  uint8  \n",
      " 19  Hospital_code_7                    286594 non-null  uint8  \n",
      " 20  Hospital_code_8                    286594 non-null  uint8  \n",
      " 21  Hospital_code_9                    286594 non-null  uint8  \n",
      " 22  Hospital_code_10                   286594 non-null  uint8  \n",
      " 23  Hospital_code_11                   286594 non-null  uint8  \n",
      " 24  Hospital_code_12                   286594 non-null  uint8  \n",
      " 25  Hospital_code_13                   286594 non-null  uint8  \n",
      " 26  Hospital_code_14                   286594 non-null  uint8  \n",
      " 27  Hospital_code_15                   286594 non-null  uint8  \n",
      " 28  Hospital_code_16                   286594 non-null  uint8  \n",
      " 29  Hospital_code_17                   286594 non-null  uint8  \n",
      " 30  Hospital_code_18                   286594 non-null  uint8  \n",
      " 31  Hospital_code_19                   286594 non-null  uint8  \n",
      " 32  Hospital_code_20                   286594 non-null  uint8  \n",
      " 33  Hospital_code_21                   286594 non-null  uint8  \n",
      " 34  Hospital_code_22                   286594 non-null  uint8  \n",
      " 35  Hospital_code_23                   286594 non-null  uint8  \n",
      " 36  Hospital_code_24                   286594 non-null  uint8  \n",
      " 37  Hospital_code_25                   286594 non-null  uint8  \n",
      " 38  Hospital_code_26                   286594 non-null  uint8  \n",
      " 39  Hospital_code_27                   286594 non-null  uint8  \n",
      " 40  Hospital_code_28                   286594 non-null  uint8  \n",
      " 41  Hospital_code_29                   286594 non-null  uint8  \n",
      " 42  Hospital_code_30                   286594 non-null  uint8  \n",
      " 43  Hospital_code_31                   286594 non-null  uint8  \n",
      " 44  Hospital_code_32                   286594 non-null  uint8  \n",
      " 45  Hospital_type_code_0               286594 non-null  uint8  \n",
      " 46  Hospital_type_code_1               286594 non-null  uint8  \n",
      " 47  Hospital_type_code_2               286594 non-null  uint8  \n",
      " 48  Hospital_type_code_3               286594 non-null  uint8  \n",
      " 49  Hospital_type_code_4               286594 non-null  uint8  \n",
      " 50  Hospital_type_code_5               286594 non-null  uint8  \n",
      " 51  Hospital_type_code_6               286594 non-null  uint8  \n",
      " 52  City_Code_Hospital_1               286594 non-null  uint8  \n",
      " 53  City_Code_Hospital_2               286594 non-null  uint8  \n",
      " 54  City_Code_Hospital_3               286594 non-null  uint8  \n",
      " 55  City_Code_Hospital_4               286594 non-null  uint8  \n",
      " 56  City_Code_Hospital_5               286594 non-null  uint8  \n",
      " 57  City_Code_Hospital_6               286594 non-null  uint8  \n",
      " 58  City_Code_Hospital_7               286594 non-null  uint8  \n",
      " 59  City_Code_Hospital_9               286594 non-null  uint8  \n",
      " 60  City_Code_Hospital_10              286594 non-null  uint8  \n",
      " 61  City_Code_Hospital_11              286594 non-null  uint8  \n",
      " 62  City_Code_Hospital_13              286594 non-null  uint8  \n",
      " 63  StayCat_0.0                        286594 non-null  uint8  \n",
      " 64  StayCat_1.0                        286594 non-null  uint8  \n",
      " 65  StayCat_2.0                        286594 non-null  uint8  \n",
      " 66  StayCat_3.0                        286594 non-null  uint8  \n",
      " 67  StayCat_5.0                        286594 non-null  uint8  \n",
      " 68  StayCat_7.0                        286594 non-null  uint8  \n",
      " 69  StayCat_8.0                        286594 non-null  uint8  \n",
      " 70  StayCat_10.0                       286594 non-null  uint8  \n",
      "dtypes: float64(2), int64(8), uint8(61)\n",
      "memory usage: 40.7 MB\n"
     ]
    }
   ],
   "source": [
    "x_train.info()"
   ]
  },
  {
   "cell_type": "markdown",
   "metadata": {},
   "source": [
    "## Create dataloader"
   ]
  },
  {
   "cell_type": "code",
   "execution_count": 12,
   "metadata": {},
   "outputs": [],
   "source": [
    "import torch\n",
    "\n",
    "train = torch.tensor(x_train.values.astype(np.float32)) \n",
    "train_target = torch.tensor(y_train.values.astype(np.long))\n",
    "train_tensor = torch.utils.data.TensorDataset(train, train_target) \n",
    "train_loader = torch.utils.data.DataLoader(dataset = train_tensor, batch_size = 3, shuffle = True)\n",
    "\n",
    "\n",
    "test = torch.tensor(x_test.values.astype(np.float32)) \n",
    "test_target = torch.tensor(y_test.values.astype(np.long))\n",
    "test_tensor = torch.utils.data.TensorDataset(test, test_target) \n",
    "test_loader = torch.utils.data.DataLoader(dataset = test_tensor, batch_size = 3, shuffle = True)\n",
    "#DL_resnet2 46 best score 42/DL_resnetMax5 best 102\n",
    "model_save_path = './saved_models/DL_resnetMax'\n",
    "os.makedirs(model_save_path, exist_ok = True)"
   ]
  },
  {
   "cell_type": "markdown",
   "metadata": {},
   "source": [
    "## Resnet Model"
   ]
  },
  {
   "cell_type": "code",
   "execution_count": 13,
   "metadata": {},
   "outputs": [
    {
     "name": "stdout",
     "output_type": "stream",
     "text": [
      "Model(\n",
      "  (fc1): Linear(in_features=71, out_features=60, bias=True)\n",
      "  (fc12): Linear(in_features=60, out_features=60, bias=True)\n",
      "  (fc13): Linear(in_features=60, out_features=60, bias=True)\n",
      "  (n1): BatchNorm1d(60, eps=1e-05, momentum=0.1, affine=True, track_running_stats=True)\n",
      "  (drop1): Dropout(p=0.2, inplace=False)\n",
      "  (fc2): Linear(in_features=60, out_features=50, bias=True)\n",
      "  (fc22): Linear(in_features=50, out_features=50, bias=True)\n",
      "  (fc23): Linear(in_features=50, out_features=50, bias=True)\n",
      "  (n2): BatchNorm1d(50, eps=1e-05, momentum=0.1, affine=True, track_running_stats=True)\n",
      "  (fc3): Linear(in_features=50, out_features=40, bias=True)\n",
      "  (fc32): Linear(in_features=40, out_features=40, bias=True)\n",
      "  (fc33): Linear(in_features=40, out_features=40, bias=True)\n",
      "  (n3): BatchNorm1d(40, eps=1e-05, momentum=0.1, affine=True, track_running_stats=True)\n",
      "  (fc4): Linear(in_features=40, out_features=30, bias=True)\n",
      "  (fc42): Linear(in_features=30, out_features=30, bias=True)\n",
      "  (fc43): Linear(in_features=30, out_features=30, bias=True)\n",
      "  (n4): BatchNorm1d(30, eps=1e-05, momentum=0.1, affine=True, track_running_stats=True)\n",
      "  (fc5): Linear(in_features=30, out_features=20, bias=True)\n",
      "  (fc52): Linear(in_features=20, out_features=20, bias=True)\n",
      "  (fc53): Linear(in_features=20, out_features=20, bias=True)\n",
      "  (n5): BatchNorm1d(20, eps=1e-05, momentum=0.1, affine=True, track_running_stats=True)\n",
      "  (fc6): Linear(in_features=20, out_features=11, bias=True)\n",
      ")\n"
     ]
    }
   ],
   "source": [
    "import torch.nn as nn\n",
    "import torch.nn.functional as F\n",
    "import torch.optim as optim\n",
    "class Model(nn.Module):\n",
    "    \n",
    "    def __init__(self):\n",
    "        '''Define model modules.'''\n",
    "        super(Model, self).__init__()\n",
    "        \n",
    "        self.fc1 = nn.Linear(71, 60)\n",
    "        self.fc12 = nn.Linear(60, 60)\n",
    "        self.fc13 = nn.Linear(60, 60)\n",
    "        self.n1 = nn.BatchNorm1d(60)\n",
    "        self.drop1 = nn.Dropout(0.2)\n",
    "        \n",
    "        self.fc2 = nn.Linear(60, 50)\n",
    "        self.fc22 = nn.Linear(50, 50)\n",
    "        self.fc23 = nn.Linear(50, 50)\n",
    "        self.n2 = nn.BatchNorm1d(50)\n",
    "        \n",
    "        self.fc3 = nn.Linear(50, 40)\n",
    "        self.fc32 = nn.Linear(40, 40)\n",
    "        self.fc33 = nn.Linear(40, 40) \n",
    "        self.n3 = nn.BatchNorm1d(40)\n",
    "        \n",
    "        self.fc4 = nn.Linear(40, 30)\n",
    "        self.fc42 = nn.Linear(30, 30)\n",
    "        self.fc43 = nn.Linear(30, 30) \n",
    "        self.n4 = nn.BatchNorm1d(30)\n",
    "        \n",
    "        self.fc5 = nn.Linear(30, 20)\n",
    "        self.fc52 = nn.Linear(20, 20)\n",
    "        self.fc53 = nn.Linear(20, 20) \n",
    "        self.n5 = nn.BatchNorm1d(20)\n",
    "        \n",
    "        \n",
    "        self.fc6 = nn.Linear(20, 11)\n",
    "    def forward(self, x):\n",
    "        '''Define the model architecture (the sequence to place the model modules).'''\n",
    "        x1 = F.relu( self.n1(self.fc1(x)) )\n",
    "        x  = F.relu( self.n1(self.fc12(x1)) )\n",
    "        x  = F.relu(x+x1)\n",
    "        x  = self.drop1(x)\n",
    "        \n",
    "      \n",
    "        x2 = F.relu( self.n2(self.fc2(x)) )\n",
    "        x  = F.relu( self.n2(self.fc22(x2)) )\n",
    "        x  = F.relu(x+x2)\n",
    "        x  = self.drop1(x)\n",
    "        \n",
    "        x3 = F.relu( self.n3(self.fc3(x)) )\n",
    "        x  = F.relu( self.n3(self.fc32(x3)) )\n",
    "        x  = F.relu(x+x3)\n",
    "        x  = self.drop1(x)\n",
    "        \n",
    "        x4 = F.relu( self.n4(self.fc4(x)) )\n",
    "        x  = F.relu( self.n4(self.fc42(x4)) )\n",
    "        x  = F.relu(x+x4)\n",
    "        x  = self.drop1(x)\n",
    "        \n",
    "        x5 = F.relu( self.n5(self.fc5(x)) )\n",
    "        x  = F.relu( self.n5(self.fc52(x5)) )\n",
    "        x  = F.relu(x+x5)\n",
    "        x  = self.drop1(x)\n",
    "\n",
    "        x = self.fc6(x)\n",
    "        return F.log_softmax(x, dim = 1)\n",
    "net = Model()\n",
    "print(net)"
   ]
  },
  {
   "cell_type": "markdown",
   "metadata": {},
   "source": [
    "## Training"
   ]
  },
  {
   "cell_type": "code",
   "execution_count": 14,
   "metadata": {
    "collapsed": true,
    "jupyter": {
     "outputs_hidden": true
    }
   },
   "outputs": [
    {
     "name": "stdout",
     "output_type": "stream",
     "text": [
      "Starting Training Process\n",
      "Epoch:   1,  train Loss: 0.55149,  validation Loss: 0.53401,  current lr:  0.001 , Time: 352.99 s\tBest model saved at loss: 0.53401\n",
      "Epoch:   2,  train Loss: 0.53105,  validation Loss: 0.52681,  current lr:  0.001 , Time: 375.19 s\n",
      "Epoch:   3,  train Loss: 0.52498,  validation Loss: 0.52354,  current lr:  0.001 , Time: 356.81 s\n",
      "Epoch:   4,  train Loss: 0.52192,  validation Loss: 0.51978,  current lr:  0.001 , Time: 344.51 s\n",
      "Epoch:   5,  train Loss: 0.51911,  validation Loss: 0.51803,  current lr:  0.001 , Time: 360.48 s\n",
      "Epoch:   6,  train Loss: 0.51723,  validation Loss: 0.51664,  current lr:  0.001 , Time: 358.87 s\n",
      "Epoch:   7,  train Loss: 0.51575,  validation Loss: 0.51660,  current lr:  0.001 , Time: 351.56 s\n",
      "Epoch:   8,  train Loss: 0.51419,  validation Loss: 0.51526,  current lr:  0.001 , Time: 342.96 s\n",
      "Epoch:   9,  train Loss: 0.51333,  validation Loss: 0.51262,  current lr:  0.001 , Time: 342.71 s\n",
      "Epoch:  10,  train Loss: 0.51245,  validation Loss: 0.51257,  current lr:  0.001 , Time: 343.60 s\n",
      "Epoch:  11,  train Loss: 0.51155,  validation Loss: 0.51381,  current lr:  0.001 , Time: 347.99 s\n",
      "Epoch:  12,  train Loss: 0.51106,  validation Loss: 0.51107,  current lr:  0.001 , Time: 323.98 s\n",
      "Epoch:  13,  train Loss: 0.51052,  validation Loss: 0.50973,  current lr:  0.001 , Time: 319.11 s\n",
      "Epoch:  14,  train Loss: 0.51001,  validation Loss: 0.51185,  current lr:  0.001 , Time: 316.37 s\n",
      "Epoch:  15,  train Loss: 0.50972,  validation Loss: 0.51241,  current lr:  0.001 , Time: 346.25 s\n",
      "Epoch    16: reducing learning rate of group 0 to 8.5000e-04.\n",
      "Epoch:  16,  train Loss: 0.50956,  validation Loss: 0.51001,  current lr:  0.00085 , Time: 388.33 s\n",
      "Epoch:  17,  train Loss: 0.50829,  validation Loss: 0.50980,  current lr:  0.00085 , Time: 373.47 s\n",
      "Epoch:  18,  train Loss: 0.50806,  validation Loss: 0.51132,  current lr:  0.00085 , Time: 360.24 s\n",
      "Epoch    19: reducing learning rate of group 0 to 7.2250e-04.\n",
      "Epoch:  19,  train Loss: 0.50790,  validation Loss: 0.51119,  current lr:  0.0007224999999999999 , Time: 369.05 s\n",
      "Epoch:  20,  train Loss: 0.50743,  validation Loss: 0.50970,  current lr:  0.0007224999999999999 , Time: 366.15 s\n",
      "Epoch:  21,  train Loss: 0.50675,  validation Loss: 0.50793,  current lr:  0.0007224999999999999 , Time: 355.54 s\n",
      "Epoch:  22,  train Loss: 0.50652,  validation Loss: 0.50739,  current lr:  0.0007224999999999999 , Time: 388.62 s\n",
      "Epoch:  23,  train Loss: 0.50626,  validation Loss: 0.50766,  current lr:  0.0007224999999999999 , Time: 357.63 s\n",
      "Epoch:  24,  train Loss: 0.50587,  validation Loss: 0.50810,  current lr:  0.0007224999999999999 , Time: 357.62 s\n",
      "Epoch    25: reducing learning rate of group 0 to 6.1412e-04.\n",
      "Epoch:  25,  train Loss: 0.50572,  validation Loss: 0.50750,  current lr:  0.000614125 , Time: 339.91 s\n",
      "Epoch:  26,  train Loss: 0.50485,  validation Loss: 0.50752,  current lr:  0.000614125 , Time: 364.45 s\n",
      "Epoch:  27,  train Loss: 0.50468,  validation Loss: 0.50692,  current lr:  0.000614125 , Time: 357.24 s\n",
      "Epoch:  28,  train Loss: 0.50472,  validation Loss: 0.50717,  current lr:  0.000614125 , Time: 362.80 s\n",
      "Epoch:  29,  train Loss: 0.50423,  validation Loss: 0.50685,  current lr:  0.000614125 , Time: 366.64 s\n",
      "Epoch:  30,  train Loss: 0.50423,  validation Loss: 0.50688,  current lr:  0.000614125 , Time: 354.48 s\n",
      "Epoch:  31,  train Loss: 0.50401,  validation Loss: 0.50621,  current lr:  0.000614125 , Time: 349.93 s\n",
      "Epoch:  32,  train Loss: 0.50383,  validation Loss: 0.50714,  current lr:  0.000614125 , Time: 346.91 s\n",
      "Epoch:  33,  train Loss: 0.50387,  validation Loss: 0.50666,  current lr:  0.000614125 , Time: 378.01 s\n",
      "Epoch:  34,  train Loss: 0.50353,  validation Loss: 0.50592,  current lr:  0.000614125 , Time: 382.91 s\n",
      "Epoch:  35,  train Loss: 0.50342,  validation Loss: 0.50553,  current lr:  0.000614125 , Time: 348.48 s\n",
      "Epoch:  36,  train Loss: 0.50327,  validation Loss: 0.50691,  current lr:  0.000614125 , Time: 360.64 s\n",
      "Epoch:  37,  train Loss: 0.50308,  validation Loss: 0.50730,  current lr:  0.000614125 , Time: 385.26 s\n",
      "Epoch    38: reducing learning rate of group 0 to 5.2201e-04.\n",
      "Epoch:  38,  train Loss: 0.50299,  validation Loss: 0.50646,  current lr:  0.00052200625 , Time: 359.66 s\n",
      "Epoch:  39,  train Loss: 0.50246,  validation Loss: 0.50543,  current lr:  0.00052200625 , Time: 357.57 s\n",
      "Epoch:  40,  train Loss: 0.50231,  validation Loss: 0.50756,  current lr:  0.00052200625 , Time: 347.20 s\n",
      "Epoch:  41,  train Loss: 0.50211,  validation Loss: 0.50561,  current lr:  0.00052200625 , Time: 367.49 s\n",
      "Epoch    42: reducing learning rate of group 0 to 4.4371e-04.\n",
      "Epoch:  42,  train Loss: 0.50204,  validation Loss: 0.50596,  current lr:  0.00044370531249999997 , Time: 357.94 s\n",
      "Epoch:  43,  train Loss: 0.50149,  validation Loss: 0.50531,  current lr:  0.00044370531249999997 , Time: 352.86 s\n",
      "Epoch:  44,  train Loss: 0.50272,  validation Loss: 0.50489,  current lr:  0.00044370531249999997 , Time: 348.84 s\n",
      "Epoch:  45,  train Loss: 0.50156,  validation Loss: 0.50572,  current lr:  0.00044370531249999997 , Time: 482.67 s\n",
      "Epoch:  46,  train Loss: 0.50133,  validation Loss: 0.50702,  current lr:  0.00044370531249999997 , Time: 429.70 s\n",
      "Epoch    47: reducing learning rate of group 0 to 3.7715e-04.\n",
      "Epoch:  47,  train Loss: 0.50115,  validation Loss: 0.50602,  current lr:  0.00037714951562499996 , Time: 424.07 s\n",
      "Epoch:  48,  train Loss: 0.50074,  validation Loss: 0.50612,  current lr:  0.00037714951562499996 , Time: 415.87 s\n",
      "Epoch:  49,  train Loss: 0.50055,  validation Loss: 0.50473,  current lr:  0.00037714951562499996 , Time: 351.33 s\n",
      "Epoch:  50,  train Loss: 0.50037,  validation Loss: 0.50604,  current lr:  0.00037714951562499996 , Time: 357.56 s\n",
      "Epoch:  51,  train Loss: 0.50054,  validation Loss: 0.50534,  current lr:  0.00037714951562499996 , Time: 363.16 s\n",
      "Epoch    52: reducing learning rate of group 0 to 3.2058e-04.\n",
      "Epoch:  52,  train Loss: 0.50029,  validation Loss: 0.50593,  current lr:  0.00032057708828124994 , Time: 347.58 s\n",
      "Epoch:  53,  train Loss: 0.50014,  validation Loss: 0.50640,  current lr:  0.00032057708828124994 , Time: 353.30 s\n",
      "Epoch:  54,  train Loss: 0.49993,  validation Loss: 0.50514,  current lr:  0.00032057708828124994 , Time: 346.54 s\n",
      "Epoch    55: reducing learning rate of group 0 to 2.7249e-04.\n",
      "Epoch:  55,  train Loss: 0.49980,  validation Loss: 0.50769,  current lr:  0.0002724905250390624 , Time: 348.31 s\n",
      "Epoch:  56,  train Loss: 0.49947,  validation Loss: 0.50525,  current lr:  0.0002724905250390624 , Time: 351.97 s\n",
      "Epoch:  57,  train Loss: 0.49955,  validation Loss: 0.50528,  current lr:  0.0002724905250390624 , Time: 346.35 s\n",
      "Epoch:  58,  train Loss: 0.49947,  validation Loss: 0.50466,  current lr:  0.0002724905250390624 , Time: 340.22 s\n",
      "Epoch:  59,  train Loss: 0.49955,  validation Loss: 0.50505,  current lr:  0.0002724905250390624 , Time: 320.00 s\n",
      "Epoch:  60,  train Loss: 0.49976,  validation Loss: 0.50552,  current lr:  0.0002724905250390624 , Time: 317.49 s\n",
      "Epoch    61: reducing learning rate of group 0 to 2.3162e-04.\n",
      "Epoch:  61,  train Loss: 0.49948,  validation Loss: 0.50488,  current lr:  0.00023161694628320305 , Time: 313.68 s\n",
      "Epoch:  62,  train Loss: 0.49908,  validation Loss: 0.50505,  current lr:  0.00023161694628320305 , Time: 314.85 s\n",
      "Epoch:  63,  train Loss: 0.49900,  validation Loss: 0.50478,  current lr:  0.00023161694628320305 , Time: 313.21 s\n",
      "Epoch    64: reducing learning rate of group 0 to 1.9687e-04.\n",
      "Epoch:  64,  train Loss: 0.49907,  validation Loss: 0.50525,  current lr:  0.0001968744043407226 , Time: 315.02 s\n",
      "Epoch:  65,  train Loss: 0.49855,  validation Loss: 0.50444,  current lr:  0.0001968744043407226 , Time: 314.74 s\n",
      "Epoch:  66,  train Loss: 0.49862,  validation Loss: 0.50470,  current lr:  0.0001968744043407226 , Time: 314.19 s\n",
      "Epoch:  67,  train Loss: 0.49858,  validation Loss: 0.50476,  current lr:  0.0001968744043407226 , Time: 313.63 s\n",
      "Epoch    68: reducing learning rate of group 0 to 1.6734e-04.\n",
      "Epoch:  68,  train Loss: 0.49846,  validation Loss: 0.50456,  current lr:  0.0001673432436896142 , Time: 312.18 s\n",
      "Epoch:  69,  train Loss: 0.49823,  validation Loss: 0.50427,  current lr:  0.0001673432436896142 , Time: 311.32 s\n",
      "Epoch:  70,  train Loss: 0.49816,  validation Loss: 0.50459,  current lr:  0.0001673432436896142 , Time: 313.02 s\n",
      "Epoch:  71,  train Loss: 0.49816,  validation Loss: 0.50439,  current lr:  0.0001673432436896142 , Time: 313.37 s\n",
      "Epoch    72: reducing learning rate of group 0 to 1.4224e-04.\n",
      "Epoch:  72,  train Loss: 0.49814,  validation Loss: 0.50547,  current lr:  0.00014224175713617207 , Time: 310.74 s\n",
      "Epoch:  73,  train Loss: 0.49797,  validation Loss: 0.50448,  current lr:  0.00014224175713617207 , Time: 313.32 s\n",
      "Epoch:  74,  train Loss: 0.49796,  validation Loss: 0.50489,  current lr:  0.00014224175713617207 , Time: 313.12 s\n",
      "Epoch    75: reducing learning rate of group 0 to 1.2091e-04.\n",
      "Epoch:  75,  train Loss: 0.50423,  validation Loss: 0.50765,  current lr:  0.00012090549356574625 , Time: 311.28 s\n",
      "Epoch:  76,  train Loss: 0.50125,  validation Loss: 0.50647,  current lr:  0.00012090549356574625 , Time: 312.76 s\n",
      "Epoch:  77,  train Loss: 0.50046,  validation Loss: 0.50579,  current lr:  0.00012090549356574625 , Time: 312.64 s\n",
      "Epoch    78: reducing learning rate of group 0 to 1.0277e-04.\n",
      "Epoch:  78,  train Loss: 0.49992,  validation Loss: 0.50606,  current lr:  0.00010276966953088431 , Time: 311.39 s\n",
      "Epoch:  79,  train Loss: 0.49940,  validation Loss: 0.50555,  current lr:  0.00010276966953088431 , Time: 311.31 s\n",
      "Epoch:  80,  train Loss: 0.49921,  validation Loss: 0.50563,  current lr:  0.00010276966953088431 , Time: 311.31 s\n",
      "Epoch    81: reducing learning rate of group 0 to 8.7354e-05.\n",
      "Epoch:  81,  train Loss: 0.49935,  validation Loss: 0.50538,  current lr:  8.735421910125166e-05 , Time: 311.33 s\n",
      "Epoch:  82,  train Loss: 0.49876,  validation Loss: 0.50495,  current lr:  8.735421910125166e-05 , Time: 310.93 s\n",
      "Epoch:  83,  train Loss: 0.49900,  validation Loss: 0.50479,  current lr:  8.735421910125166e-05 , Time: 312.06 s\n",
      "Epoch    84: reducing learning rate of group 0 to 7.4251e-05.\n",
      "Epoch:  84,  train Loss: 0.49860,  validation Loss: 0.50509,  current lr:  7.425108623606391e-05 , Time: 311.47 s\n",
      "Epoch:  85,  train Loss: 0.49880,  validation Loss: 0.50529,  current lr:  7.425108623606391e-05 , Time: 311.04 s\n",
      "Epoch:  86,  train Loss: 0.49851,  validation Loss: 0.50506,  current lr:  7.425108623606391e-05 , Time: 311.18 s\n",
      "Epoch    87: reducing learning rate of group 0 to 6.3113e-05.\n",
      "Epoch:  87,  train Loss: 0.49854,  validation Loss: 0.50494,  current lr:  6.311342330065433e-05 , Time: 311.82 s\n",
      "Epoch:  88,  train Loss: 0.49825,  validation Loss: 0.50494,  current lr:  6.311342330065433e-05 , Time: 311.34 s\n",
      "Epoch:  89,  train Loss: 0.49844,  validation Loss: 0.50501,  current lr:  6.311342330065433e-05 , Time: 20003.73 s\n",
      "Epoch    90: reducing learning rate of group 0 to 5.3646e-05.\n",
      "Epoch:  90,  train Loss: 0.49836,  validation Loss: 0.50457,  current lr:  5.3646409805556176e-05 , Time: 431.94 s\n",
      "Epoch:  91,  train Loss: 0.49825,  validation Loss: 0.50489,  current lr:  5.3646409805556176e-05 , Time: 355.33 s\n",
      "Epoch:  92,  train Loss: 0.49840,  validation Loss: 0.50493,  current lr:  5.3646409805556176e-05 , Time: 360.16 s\n",
      "Epoch    93: reducing learning rate of group 0 to 4.5599e-05.\n",
      "Epoch:  93,  train Loss: 0.49833,  validation Loss: 0.50464,  current lr:  4.559944833472275e-05 , Time: 348.07 s\n",
      "Epoch:  94,  train Loss: 0.49829,  validation Loss: 0.50467,  current lr:  4.559944833472275e-05 , Time: 349.19 s\n",
      "Epoch:  95,  train Loss: 0.49830,  validation Loss: 0.50488,  current lr:  4.559944833472275e-05 , Time: 349.45 s\n",
      "Epoch    96: reducing learning rate of group 0 to 3.8760e-05.\n",
      "Epoch:  96,  train Loss: 0.49816,  validation Loss: 0.50462,  current lr:  3.875953108451434e-05 , Time: 347.81 s\n",
      "Epoch:  97,  train Loss: 0.49821,  validation Loss: 0.50465,  current lr:  3.875953108451434e-05 , Time: 349.33 s\n",
      "Epoch:  98,  train Loss: 0.49801,  validation Loss: 0.50475,  current lr:  3.875953108451434e-05 , Time: 352.33 s\n",
      "Epoch    99: reducing learning rate of group 0 to 3.2946e-05.\n",
      "Epoch:  99,  train Loss: 0.49796,  validation Loss: 0.50455,  current lr:  3.294560142183719e-05 , Time: 351.37 s\n",
      "Epoch: 100,  train Loss: 0.49817,  validation Loss: 0.50459,  current lr:  3.294560142183719e-05 , Time: 350.70 s\n",
      "Epoch: 101,  train Loss: 0.49836,  validation Loss: 0.50459,  current lr:  3.294560142183719e-05 , Time: 349.48 s\n",
      "Epoch   102: reducing learning rate of group 0 to 2.8004e-05.\n",
      "Epoch: 102,  train Loss: 0.49844,  validation Loss: 0.50484,  current lr:  2.800376120856161e-05 , Time: 351.11 s\n",
      "Epoch: 103,  train Loss: 0.49831,  validation Loss: 0.50445,  current lr:  2.800376120856161e-05 , Time: 350.48 s\n",
      "Epoch: 104,  train Loss: 0.49832,  validation Loss: 0.50456,  current lr:  2.800376120856161e-05 , Time: 354.93 s\n",
      "Epoch   105: reducing learning rate of group 0 to 2.3803e-05.\n",
      "Epoch: 105,  train Loss: 0.49804,  validation Loss: 0.50474,  current lr:  2.380319702727737e-05 , Time: 348.05 s\n",
      "Epoch: 106,  train Loss: 0.49898,  validation Loss: 0.50485,  current lr:  2.380319702727737e-05 , Time: 348.86 s\n",
      "Epoch: 107,  train Loss: 0.49828,  validation Loss: 0.50482,  current lr:  2.380319702727737e-05 , Time: 352.47 s\n",
      "Epoch   108: reducing learning rate of group 0 to 2.0233e-05.\n",
      "Epoch: 108,  train Loss: 0.49813,  validation Loss: 0.50501,  current lr:  2.0232717473185764e-05 , Time: 350.21 s\n",
      "Epoch: 109,  train Loss: 0.49859,  validation Loss: 0.50483,  current lr:  2.0232717473185764e-05 , Time: 352.12 s\n",
      "Epoch: 110,  train Loss: 0.49858,  validation Loss: 0.50476,  current lr:  2.0232717473185764e-05 , Time: 347.18 s\n",
      "Epoch   111: reducing learning rate of group 0 to 1.7198e-05.\n",
      "Epoch: 111,  train Loss: 0.49870,  validation Loss: 0.50491,  current lr:  1.71978098522079e-05 , Time: 429.47 s\n",
      "Epoch: 112,  train Loss: 0.49980,  validation Loss: 0.50492,  current lr:  1.71978098522079e-05 , Time: 531.66 s\n",
      "Epoch: 113,  train Loss: 0.49866,  validation Loss: 0.50465,  current lr:  1.71978098522079e-05 , Time: 506.75 s\n",
      "Epoch   114: reducing learning rate of group 0 to 1.4618e-05.\n",
      "Epoch: 114,  train Loss: 0.49866,  validation Loss: 0.50472,  current lr:  1.4618138374376715e-05 , Time: 526.64 s\n",
      "Epoch: 115,  train Loss: 0.49868,  validation Loss: 0.50464,  current lr:  1.4618138374376715e-05 , Time: 523.00 s\n",
      "Epoch: 116,  train Loss: 0.49909,  validation Loss: 0.50481,  current lr:  1.4618138374376715e-05 , Time: 534.33 s\n",
      "Epoch   117: reducing learning rate of group 0 to 1.2425e-05.\n",
      "Epoch: 117,  train Loss: 0.49919,  validation Loss: 0.50487,  current lr:  1.2425417618220208e-05 , Time: 529.49 s\n",
      "Epoch: 118,  train Loss: 0.49997,  validation Loss: 0.50498,  current lr:  1.2425417618220208e-05 , Time: 483.35 s\n",
      "Epoch: 119,  train Loss: 0.49913,  validation Loss: 0.50486,  current lr:  1.2425417618220208e-05 , Time: 373.70 s\n",
      "Epoch   120: reducing learning rate of group 0 to 1.0562e-05.\n",
      "Epoch: 120,  train Loss: 0.49913,  validation Loss: 0.50510,  current lr:  1.0561604975487176e-05 , Time: 348.70 s\n",
      "Epoch: 121,  train Loss: 0.49923,  validation Loss: 0.50503,  current lr:  1.0561604975487176e-05 , Time: 345.69 s\n",
      "Epoch: 122,  train Loss: 0.49915,  validation Loss: 0.50474,  current lr:  1.0561604975487176e-05 , Time: 344.39 s\n",
      "Epoch   123: reducing learning rate of group 0 to 8.9774e-06.\n",
      "Epoch: 123,  train Loss: 0.49926,  validation Loss: 0.50480,  current lr:  8.9773642291641e-06 , Time: 428.24 s\n",
      "Epoch: 124,  train Loss: 0.49937,  validation Loss: 0.50474,  current lr:  8.9773642291641e-06 , Time: 427.43 s\n",
      "Epoch: 125,  train Loss: 0.49956,  validation Loss: 0.50504,  current lr:  8.9773642291641e-06 , Time: 369.30 s\n",
      "Epoch   126: reducing learning rate of group 0 to 7.6308e-06.\n",
      "Epoch: 126,  train Loss: 0.49940,  validation Loss: 0.50485,  current lr:  7.630759594789484e-06 , Time: 381.28 s\n",
      "Epoch: 127,  train Loss: 0.49957,  validation Loss: 0.50460,  current lr:  7.630759594789484e-06 , Time: 382.68 s\n",
      "Epoch: 128,  train Loss: 0.49979,  validation Loss: 0.50494,  current lr:  7.630759594789484e-06 , Time: 383.80 s\n",
      "Epoch   129: reducing learning rate of group 0 to 6.4861e-06.\n",
      "Epoch: 129,  train Loss: 0.50040,  validation Loss: 0.50467,  current lr:  6.486145655571062e-06 , Time: 462.58 s\n",
      "Epoch: 130,  train Loss: 0.49962,  validation Loss: 0.50445,  current lr:  6.486145655571062e-06 , Time: 461.84 s\n",
      "Epoch: 131,  train Loss: 0.49959,  validation Loss: 0.50464,  current lr:  6.486145655571062e-06 , Time: 425.50 s\n",
      "Epoch   132: reducing learning rate of group 0 to 5.5132e-06.\n",
      "Epoch: 132,  train Loss: 0.50002,  validation Loss: 0.50465,  current lr:  5.513223807235402e-06 , Time: 527.36 s\n",
      "Epoch: 133,  train Loss: 0.49995,  validation Loss: 0.50506,  current lr:  5.513223807235402e-06 , Time: 420.27 s\n",
      "Epoch: 134,  train Loss: 0.50077,  validation Loss: 0.50528,  current lr:  5.513223807235402e-06 , Time: 352.28 s\n",
      "Epoch   135: reducing learning rate of group 0 to 4.6862e-06.\n",
      "Epoch: 135,  train Loss: 0.50022,  validation Loss: 0.50522,  current lr:  4.686240236150092e-06 , Time: 345.88 s\n",
      "Epoch: 136,  train Loss: 0.50074,  validation Loss: 0.50565,  current lr:  4.686240236150092e-06 , Time: 363.79 s\n",
      "Epoch: 137,  train Loss: 0.50023,  validation Loss: 0.50553,  current lr:  4.686240236150092e-06 , Time: 361.02 s\n",
      "Epoch   138: reducing learning rate of group 0 to 3.9833e-06.\n",
      "Epoch: 138,  train Loss: 0.50019,  validation Loss: 0.50540,  current lr:  3.983304200727578e-06 , Time: 403.02 s\n",
      "Epoch: 139,  train Loss: 0.50086,  validation Loss: 0.50580,  current lr:  3.983304200727578e-06 , Time: 370.42 s\n",
      "Epoch: 140,  train Loss: 0.50037,  validation Loss: 0.50542,  current lr:  3.983304200727578e-06 , Time: 326.05 s\n",
      "Epoch   141: reducing learning rate of group 0 to 3.3858e-06.\n",
      "Epoch: 141,  train Loss: 0.50020,  validation Loss: 0.50556,  current lr:  3.3858085706184414e-06 , Time: 318.25 s\n",
      "Epoch: 142,  train Loss: 0.50147,  validation Loss: 0.50555,  current lr:  3.3858085706184414e-06 , Time: 341.55 s\n",
      "Epoch: 143,  train Loss: 0.50224,  validation Loss: 0.50572,  current lr:  3.3858085706184414e-06 , Time: 358.76 s\n",
      "Epoch   144: reducing learning rate of group 0 to 2.8779e-06.\n",
      "Epoch: 144,  train Loss: 0.50084,  validation Loss: 0.50557,  current lr:  2.8779372850256753e-06 , Time: 364.99 s\n",
      "Epoch: 145,  train Loss: 0.50054,  validation Loss: 0.50530,  current lr:  2.8779372850256753e-06 , Time: 364.77 s\n",
      "Epoch: 146,  train Loss: 0.50068,  validation Loss: 0.50562,  current lr:  2.8779372850256753e-06 , Time: 367.77 s\n",
      "Epoch   147: reducing learning rate of group 0 to 2.4462e-06.\n",
      "Epoch: 147,  train Loss: 0.50159,  validation Loss: 0.50598,  current lr:  2.446246692271824e-06 , Time: 349.92 s\n",
      "Epoch: 148,  train Loss: 0.50212,  validation Loss: 0.50655,  current lr:  2.446246692271824e-06 , Time: 352.39 s\n",
      "Epoch: 149,  train Loss: 0.50039,  validation Loss: 0.50612,  current lr:  2.446246692271824e-06 , Time: 352.59 s\n",
      "Epoch   150: reducing learning rate of group 0 to 2.0793e-06.\n",
      "Epoch: 150,  train Loss: 0.50077,  validation Loss: 0.50593,  current lr:  2.07930968843105e-06 , Time: 353.87 s\n",
      "Epoch: 151,  train Loss: 0.50187,  validation Loss: 0.50631,  current lr:  2.07930968843105e-06 , Time: 346.48 s\n"
     ]
    },
    {
     "ename": "KeyboardInterrupt",
     "evalue": "",
     "output_type": "error",
     "traceback": [
      "\u001b[0;31m---------------------------------------------------------------------------\u001b[0m",
      "\u001b[0;31mKeyboardInterrupt\u001b[0m                         Traceback (most recent call last)",
      "\u001b[0;32m<ipython-input-14-aef4f571544c>\u001b[0m in \u001b[0;36m<module>\u001b[0;34m\u001b[0m\n\u001b[1;32m     33\u001b[0m         \u001b[0moptimizer\u001b[0m\u001b[0;34m.\u001b[0m\u001b[0mzero_grad\u001b[0m\u001b[0;34m(\u001b[0m\u001b[0;34m)\u001b[0m\u001b[0;34m\u001b[0m\u001b[0;34m\u001b[0m\u001b[0m\n\u001b[1;32m     34\u001b[0m         \u001b[0;31m# backpropagate the loss\u001b[0m\u001b[0;34m\u001b[0m\u001b[0;34m\u001b[0m\u001b[0;34m\u001b[0m\u001b[0m\n\u001b[0;32m---> 35\u001b[0;31m         \u001b[0mloss_value\u001b[0m\u001b[0;34m.\u001b[0m\u001b[0mbackward\u001b[0m\u001b[0;34m(\u001b[0m\u001b[0;34m)\u001b[0m\u001b[0;34m\u001b[0m\u001b[0;34m\u001b[0m\u001b[0m\n\u001b[0m\u001b[1;32m     36\u001b[0m         \u001b[0;31m# update the parameters\u001b[0m\u001b[0;34m\u001b[0m\u001b[0;34m\u001b[0m\u001b[0;34m\u001b[0m\u001b[0m\n\u001b[1;32m     37\u001b[0m         \u001b[0moptimizer\u001b[0m\u001b[0;34m.\u001b[0m\u001b[0mstep\u001b[0m\u001b[0;34m(\u001b[0m\u001b[0;34m)\u001b[0m\u001b[0;34m\u001b[0m\u001b[0;34m\u001b[0m\u001b[0m\n",
      "\u001b[0;32m/opt/anaconda3/lib/python3.8/site-packages/torch/tensor.py\u001b[0m in \u001b[0;36mbackward\u001b[0;34m(self, gradient, retain_graph, create_graph)\u001b[0m\n\u001b[1;32m    183\u001b[0m                 \u001b[0mproducts\u001b[0m\u001b[0;34m.\u001b[0m \u001b[0mDefaults\u001b[0m \u001b[0mto\u001b[0m\u001b[0;31m \u001b[0m\u001b[0;31m`\u001b[0m\u001b[0;31m`\u001b[0m\u001b[0;32mFalse\u001b[0m\u001b[0;31m`\u001b[0m\u001b[0;31m`\u001b[0m\u001b[0;34m.\u001b[0m\u001b[0;34m\u001b[0m\u001b[0;34m\u001b[0m\u001b[0m\n\u001b[1;32m    184\u001b[0m         \"\"\"\n\u001b[0;32m--> 185\u001b[0;31m         \u001b[0mtorch\u001b[0m\u001b[0;34m.\u001b[0m\u001b[0mautograd\u001b[0m\u001b[0;34m.\u001b[0m\u001b[0mbackward\u001b[0m\u001b[0;34m(\u001b[0m\u001b[0mself\u001b[0m\u001b[0;34m,\u001b[0m \u001b[0mgradient\u001b[0m\u001b[0;34m,\u001b[0m \u001b[0mretain_graph\u001b[0m\u001b[0;34m,\u001b[0m \u001b[0mcreate_graph\u001b[0m\u001b[0;34m)\u001b[0m\u001b[0;34m\u001b[0m\u001b[0;34m\u001b[0m\u001b[0m\n\u001b[0m\u001b[1;32m    186\u001b[0m \u001b[0;34m\u001b[0m\u001b[0m\n\u001b[1;32m    187\u001b[0m     \u001b[0;32mdef\u001b[0m \u001b[0mregister_hook\u001b[0m\u001b[0;34m(\u001b[0m\u001b[0mself\u001b[0m\u001b[0;34m,\u001b[0m \u001b[0mhook\u001b[0m\u001b[0;34m)\u001b[0m\u001b[0;34m:\u001b[0m\u001b[0;34m\u001b[0m\u001b[0;34m\u001b[0m\u001b[0m\n",
      "\u001b[0;32m/opt/anaconda3/lib/python3.8/site-packages/torch/autograd/__init__.py\u001b[0m in \u001b[0;36mbackward\u001b[0;34m(tensors, grad_tensors, retain_graph, create_graph, grad_variables)\u001b[0m\n\u001b[1;32m    123\u001b[0m         \u001b[0mretain_graph\u001b[0m \u001b[0;34m=\u001b[0m \u001b[0mcreate_graph\u001b[0m\u001b[0;34m\u001b[0m\u001b[0;34m\u001b[0m\u001b[0m\n\u001b[1;32m    124\u001b[0m \u001b[0;34m\u001b[0m\u001b[0m\n\u001b[0;32m--> 125\u001b[0;31m     Variable._execution_engine.run_backward(\n\u001b[0m\u001b[1;32m    126\u001b[0m         \u001b[0mtensors\u001b[0m\u001b[0;34m,\u001b[0m \u001b[0mgrad_tensors\u001b[0m\u001b[0;34m,\u001b[0m \u001b[0mretain_graph\u001b[0m\u001b[0;34m,\u001b[0m \u001b[0mcreate_graph\u001b[0m\u001b[0;34m,\u001b[0m\u001b[0;34m\u001b[0m\u001b[0;34m\u001b[0m\u001b[0m\n\u001b[1;32m    127\u001b[0m         allow_unreachable=True)  # allow_unreachable flag\n",
      "\u001b[0;31mKeyboardInterrupt\u001b[0m: "
     ]
    }
   ],
   "source": [
    "from time import time\n",
    "mini_batch = False\n",
    "net = Model()\n",
    "history = {'train_loss': list(), 'validation_loss': list()}\n",
    "last_score = 10\n",
    "criterion = nn.CrossEntropyLoss()\n",
    "optimizer = optim.SGD(net.parameters(), lr=0.001, momentum=0.9)\n",
    "scheduler = optim.lr_scheduler.ReduceLROnPlateau(optimizer, factor = 0.85, patience = 2, verbose = True)\n",
    "EPOCHS = 1000\n",
    "\n",
    "train_epoch_loss = []\n",
    "validation_epoch_loss = []\n",
    "print('Starting Training Process')\n",
    "for epoch in range(EPOCHS):\n",
    "    train_loss = []\n",
    "    validation_loss = []\n",
    "\n",
    "    train_epoch_loss, train_batch_loss, batch_iteration = 0, 0, 0\n",
    "    validation_score, validation_loss = 0, 0\n",
    "    net.train()\n",
    "    start_time = time()\n",
    "    for batch, (train_features, train_target) in enumerate(train_loader):\n",
    "        batch_iteration += 1\n",
    "        \n",
    "\n",
    "        train_target_predicted = net(train_features)\n",
    "\n",
    "        # compute the loss\n",
    "        loss_value = F.cross_entropy(train_target_predicted, train_target)\n",
    "        train_loss.append(loss_value.cpu().data.item())\n",
    "\n",
    "        # reset the gradient\n",
    "        optimizer.zero_grad()\n",
    "        # backpropagate the loss\n",
    "        loss_value.backward()\n",
    "        # update the parameters\n",
    "        optimizer.step()\n",
    "\n",
    "        #######################################################\n",
    "        ###################### Validation #####################\n",
    "        #######################################################\n",
    "        # Set the model to evaluation mode so that parameters are fixed.\n",
    "        net.eval()\n",
    "\n",
    "        train_epoch_loss += loss_value.item()\n",
    "        train_batch_loss += loss_value.item()\n",
    "\n",
    "        # Printing batch logs if any. Useful if you want to see the training trends within each epoch.\n",
    "        if mini_batch:\n",
    "            if (batch + 1) % mini_batch == 0:\n",
    "                train_batch_loss = train_batch_loss / (mini_batch * train_loader.batch_size)\n",
    "                print(\n",
    "                    f'    Batch: {batch + 1:2d},\\tBatch Loss: {train_batch_loss:.7f}')\n",
    "                train_batch_loss = 0\n",
    "\n",
    "    train_epoch_loss = train_epoch_loss / (batch_iteration * train_loader.batch_size)\n",
    "    \n",
    "    ################################### Validation ##################################################\n",
    "    net.eval()\n",
    "    # To get data in loops.\n",
    "    batch_iteration = 0\n",
    "\n",
    "    for batch, (test_features, test_target) in enumerate(test_loader):\n",
    "        # Keeping track how many iteration is happening.\n",
    "        batch_iteration += 1\n",
    "        # Predicted output from the input sample.\n",
    "        target_prediction = net(test_features)\n",
    "        \n",
    "        # comput validation loss\n",
    "        loss_value = criterion(target_prediction, test_target)\n",
    "        validation_loss += loss_value.item()\n",
    "        \n",
    "        # Threshold elimination.\n",
    "\n",
    "        #target_prediction = target_prediction.cpu().numpy()\n",
    "\n",
    "    # Calculating the mean score for the whole validation dataset.\n",
    "    validation_loss = validation_loss / (batch_iteration * train_loader.batch_size)\n",
    "    \n",
    "    # Collecting all epoch loss values for future visualization.\n",
    "    history['train_loss'].append(train_epoch_loss)\n",
    "    history['validation_loss'].append(validation_loss)\n",
    "    \n",
    "    # Reduce LR On Plateau\n",
    "    scheduler.step(validation_loss)\n",
    "\n",
    "    time_taken = time() - start_time\n",
    "    \n",
    "    # Training Logs printed.\n",
    "    print(f'Epoch: {epoch + 1:3d},  ', end = '')\n",
    "    print(f'train Loss: {train_epoch_loss:.5f},  ', end = '')\n",
    "    print(f'validation Loss: {validation_loss:.5f},  ', end = '')\n",
    "\n",
    "\n",
    "    for pg in optimizer.param_groups:\n",
    "        print('current lr: ', pg['lr'], ', ', end = '')\n",
    "    print(f'Time: {time_taken:.2f} s', end = '')\n",
    "\n",
    "    # Save the model every epoch.\n",
    "    current_epoch_model_save_path = os.path.join(model_save_path, 'Basic_DL_epoch_%s.pth' % (str(epoch).zfill(3)))\n",
    "    torch.save(net.state_dict(), current_epoch_model_save_path)\n",
    "    \n",
    "    # Save the best model (determined by validation score) and give it a unique name.\n",
    "    best_model_path = os.path.join(model_save_path, 'Basic_DL_best_model.pth')\n",
    "    if  last_score > validation_loss:\n",
    "        torch.save(net.state_dict(), best_model_path)\n",
    "        last_score = validation_loss\n",
    "        print(f'\\tBest model saved at loss: {validation_loss:.5f}')\n",
    "    else:\n",
    "        print()\n",
    "\n",
    "print(f'Training Finished after {EPOCHS} epoches')\n",
    "\n"
   ]
  },
  {
   "cell_type": "code",
   "execution_count": 276,
   "metadata": {},
   "outputs": [
    {
     "data": {
      "image/png": "[encoded data removed]",
      "text/plain": [
       "<Figure size 1440x720 with 1 Axes>"
      ]
     },
     "metadata": {
      "needs_background": "light"
     },
     "output_type": "display_data"
    }
   ],
   "source": [
    "plt.figure(figsize=(20, 10))\n",
    "plt.title('Loss Over Epoch')\n",
    "plt.xlabel('Epochs')\n",
    "plt.ylabel('Loss Value')\n",
    "train_curve = plt.plot(history['train_loss'], marker = 'o', label = 'Train loss')\n",
    "validation_curve = plt.plot(history['validation_loss'], marker = 'o', label = 'Validation loss')\n",
    "plt.legend(fontsize = 15)\n",
    "plt.show()"
   ]
  },
  {
   "cell_type": "code",
   "execution_count": 15,
   "metadata": {},
   "outputs": [
    {
     "data": {
      "text/plain": [
       "68"
      ]
     },
     "execution_count": 15,
     "metadata": {},
     "output_type": "execute_result"
    }
   ],
   "source": [
    "history['validation_loss'].index(min(history['validation_loss']))"
   ]
  },
  {
   "cell_type": "code",
   "execution_count": 17,
   "metadata": {},
   "outputs": [
    {
     "data": {
      "text/plain": [
       "0.4160281371686974"
      ]
     },
     "execution_count": 17,
     "metadata": {},
     "output_type": "execute_result"
    }
   ],
   "source": [
    "# Load the net model at its prime (when it performed the best on the validation set).\n",
    "state_dict = torch.load(os.path.join(model_save_path, 'Basic_DL_epoch_068.pth'))\n",
    "net.load_state_dict(state_dict)\n",
    "\n",
    "# Testing process on test data.\n",
    "net.eval()\n",
    "\n",
    "\n",
    "# Score after testing on dataset.\n",
    "mean_test_score = 0\n",
    "result=[]#np.empty([1, 1])\n",
    "targetResult=[]#np.empty([1, 1])\n",
    "\n",
    "for batch, (test_features, test_target) in enumerate(test_loader):\n",
    "    # Data prepared to be given as input to model.\n",
    "    # Predicted output from the input sample.\n",
    "    target_prediction = net(test_features)\n",
    "    p,predicted = torch.max(target_prediction.data, 1)\n",
    "    predicted=predicted.numpy()\n",
    "    #print(predicted)\n",
    "    result=np.append(result,predicted)\n",
    "    targetResult=np.append(targetResult,test_target.numpy())\n",
    "accuracy_score(targetResult, result)"
   ]
  },
  {
   "cell_type": "markdown",
   "metadata": {},
   "source": [
    "## Predict on test dataset"
   ]
  },
  {
   "cell_type": "code",
   "execution_count": 20,
   "metadata": {},
   "outputs": [
    {
     "name": "stdout",
     "output_type": "stream",
     "text": [
      "{'TB & Chest disease': 0, 'anesthesia': 1, 'gynecology': 2, 'radiotherapy': 3, 'surgery': 4}\n",
      "{'X': 0, 'Y': 1, 'Z': 2}\n",
      "{'P': 0, 'Q': 1, 'R': 2, 'S': 3, 'T': 4, 'U': 5}\n",
      "{'A': 0, 'B': 1, 'C': 2, 'D': 3, 'E': 4, 'F': 5}\n",
      "{'Emergency': 0, 'Trauma': 1, 'Urgent': 2}\n",
      "{'0-10': 0, '11-20': 1, '21-30': 2, '31-40': 3, '41-50': 4, '51-60': 5, '61-70': 6, '71-80': 7, '81-90': 8, '91-100': 9}\n",
      "{'a': 0, 'b': 1, 'c': 2, 'd': 3, 'e': 4, 'f': 5, 'g': 6}\n"
     ]
    }
   ],
   "source": [
    "df_test = pd.read_csv(\"test_data_emb.csv\",index_col=0)\n",
    "Convert_to_Num(df_test)\n",
    "df_test[\"Bed Grade\"] = df_test[\"Bed Grade\"].fillna(2)\n",
    "df_test = pd.concat([df_test,pd.get_dummies(df_test['Hospital_region_code'], prefix='Hospital_region_code')],axis=1)\n",
    "df_test = pd.concat([df_test,pd.get_dummies(df_test['Hospital_code'], prefix='Hospital_code')],axis=1)\n",
    "df_test = pd.concat([df_test,pd.get_dummies(df_test['Hospital_type_code'], prefix='Hospital_type_code')],axis=1)\n",
    "df_test = pd.concat([df_test,pd.get_dummies(df_test['City_Code_Hospital'], prefix='City_Code_Hospital')],axis=1)\n",
    "df_test = pd.concat([df_test,pd.get_dummies(df_test['StayCat'], prefix='StayCat')],axis=1)\n",
    "df_test[['Admission_Deposit']] = sc.fit_transform(df_test[['Admission_Deposit']])\n",
    "df_test.drop(['Hospital_region_code','Hospital_code','Hospital_type_code','City_Code_Hospital', \"City_Code_Patient\", \"patientid\", \"case_id\", \"StayCat\"],axis=1, inplace=True)\n",
    "df_test['Severity of Illness'] = df_test['Severity of Illness'].map({'Minor': 1,'Moderate': 2,'Extreme': 3})\n",
    "testPred = torch.tensor(df_test.values.astype(np.float32))"
   ]
  },
  {
   "cell_type": "code",
   "execution_count": 21,
   "metadata": {},
   "outputs": [],
   "source": [
    "result=[]\n",
    "for i in range(len(testPred)):\n",
    "    target_prediction = net(testPred[i,:].view( 1,71))\n",
    "    p,predicted = torch.max(target_prediction.data, 1)\n",
    "    predicted=predicted.numpy()\n",
    "    #print(predicted)\n",
    "    result=np.append(result,predicted)"
   ]
  },
  {
   "cell_type": "markdown",
   "metadata": {},
   "source": [
    "## Save results"
   ]
  },
  {
   "cell_type": "code",
   "execution_count": 22,
   "metadata": {},
   "outputs": [
    {
     "data": {
      "text/html": [
       "<div>\n",
       "<style scoped>\n",
       "    .dataframe tbody tr th:only-of-type {\n",
       "        vertical-align: middle;\n",
       "    }\n",
       "\n",
       "    .dataframe tbody tr th {\n",
       "        vertical-align: top;\n",
       "    }\n",
       "\n",
       "    .dataframe thead th {\n",
       "        text-align: right;\n",
       "    }\n",
       "</style>\n",
       "<table border=\"1\" class=\"dataframe\">\n",
       "  <thead>\n",
       "    <tr style=\"text-align: right;\">\n",
       "      <th></th>\n",
       "      <th>case_id</th>\n",
       "      <th>Stay</th>\n",
       "    </tr>\n",
       "  </thead>\n",
       "  <tbody>\n",
       "    <tr>\n",
       "      <th>0</th>\n",
       "      <td>318439</td>\n",
       "      <td>0-10</td>\n",
       "    </tr>\n",
       "    <tr>\n",
       "      <th>1</th>\n",
       "      <td>318440</td>\n",
       "      <td>51-60</td>\n",
       "    </tr>\n",
       "    <tr>\n",
       "      <th>2</th>\n",
       "      <td>318441</td>\n",
       "      <td>21-30</td>\n",
       "    </tr>\n",
       "    <tr>\n",
       "      <th>3</th>\n",
       "      <td>318442</td>\n",
       "      <td>21-30</td>\n",
       "    </tr>\n",
       "    <tr>\n",
       "      <th>4</th>\n",
       "      <td>318443</td>\n",
       "      <td>51-60</td>\n",
       "    </tr>\n",
       "  </tbody>\n",
       "</table>\n",
       "</div>"
      ],
      "text/plain": [
       "   case_id   Stay\n",
       "0   318439   0-10\n",
       "1   318440  51-60\n",
       "2   318441  21-30\n",
       "3   318442  21-30\n",
       "4   318443  51-60"
      ]
     },
     "execution_count": 22,
     "metadata": {},
     "output_type": "execute_result"
    }
   ],
   "source": [
    "df_ID = pd.read_csv(\"test_data.csv\")\n",
    "dR = {'case_id': df_ID[\"case_id\"]}\n",
    "d_result = pd.DataFrame(data=dR)\n",
    "d_result[\"Stay\"]=result\n",
    "d_result['Stay'] = d_result['Stay'].map({0.: '0-10',1.: '11-20', 2.: '21-30',3.: '31-40', \n",
    "                                         4.: '41-50',5.: '51-60', 6.: '61-70',7.: '71-80',\n",
    "                                         8.: '81-90', 9.: '91-100',10.: 'More than 100 Days'})\n",
    "d_result.to_csv(r'output.csv', index = False)\n",
    "d_result.head()"
   ]
  },
  {
   "cell_type": "markdown",
   "metadata": {},
   "source": [
    "# Catboost\n",
    "## The softmax outputs of all MLPs were recombined subsequently with the catboost to obtain the final ensemble prediction.\n"
   ]
  },
  {
   "cell_type": "code",
   "execution_count": 26,
   "metadata": {},
   "outputs": [],
   "source": [
    "df_trainC = pd.read_csv(\"train_data.csv\",index_col=0)\n",
    "df_testC = pd.read_csv(\"test_data.csv\",index_col=0)\n",
    "df_train.drop(['Hospital_region_code','Hospital_code','Hospital_type_code','City_Code_Hospital',\"Stay\", \"City_Code_Patient\", \"patientid\",\"case_id\",\"StayCat\"],axis=1, inplace=True)"
   ]
  },
  {
   "cell_type": "markdown",
   "metadata": {},
   "source": [
    "## Combine softmax outputs"
   ]
  },
  {
   "cell_type": "code",
   "execution_count": 27,
   "metadata": {},
   "outputs": [],
   "source": [
    "trainPred = torch.tensor(df_train.values.astype(np.float32))\n",
    "result=[]\n",
    "resnet0=[]\n",
    "resnet1=[]\n",
    "resnet2=[]\n",
    "resnet3=[]\n",
    "resnet4=[]\n",
    "resnet5=[]\n",
    "resnet6=[]\n",
    "resnet7=[]\n",
    "resnet8=[]\n",
    "resnet9=[]\n",
    "resnet10=[]\n",
    "resnet=[]\n",
    "#for batch, (test_features,T) in enumerate(testPred_loader):\n",
    "for i in range(len(trainPred)):\n",
    "    target_prediction = net(trainPred[i,:].view( 1,71))\n",
    "    #p,predicted = torch.max(target_prediction.data, 1)\n",
    "    predicted=target_prediction.detach().numpy()\n",
    "    #print(predicted)\n",
    "    #print(np.mean(predicted))\n",
    "\n",
    "    resnet0.append(predicted[0][0])\n",
    "    resnet1.append(predicted[0][1])\n",
    "    resnet2.append(predicted[0][2])\n",
    "    resnet3.append(predicted[0][3])\n",
    "    resnet4.append(predicted[0][4])\n",
    "    resnet5.append(predicted[0][5])\n",
    "    resnet6.append(predicted[0][6])\n",
    "    resnet7.append(predicted[0][7])\n",
    "    resnet8.append(predicted[0][8])\n",
    "    resnet9.append(predicted[0][9])\n",
    "    resnet10.append(predicted[0][10])\n",
    "\n",
    "df_trainC[\"resnet0\"]=resnet0\n",
    "df_trainC[\"resnet1\"]=resnet1\n",
    "df_trainC[\"resnet2\"]=resnet2\n",
    "df_trainC[\"resnet3\"]=resnet3\n",
    "df_trainC[\"resnet4\"]=resnet4\n",
    "df_trainC[\"resnet5\"]=resnet5\n",
    "df_trainC[\"resnet6\"]=resnet6\n",
    "df_trainC[\"resnet7\"]=resnet7\n",
    "df_trainC[\"resnet8\"]=resnet8\n",
    "df_trainC[\"resnet9\"]=resnet9\n",
    "df_trainC[\"resnet10\"]=resnet10\n"
   ]
  },
  {
   "cell_type": "code",
   "execution_count": 28,
   "metadata": {},
   "outputs": [],
   "source": [
    "result=[]\n",
    "resnet0=[]\n",
    "resnet1=[]\n",
    "resnet2=[]\n",
    "resnet3=[]\n",
    "resnet4=[]\n",
    "resnet5=[]\n",
    "resnet6=[]\n",
    "resnet7=[]\n",
    "resnet8=[]\n",
    "resnet9=[]\n",
    "resnet10=[]\n",
    "resnet=[]\n",
    "#for batch, (test_features,T) in enumerate(testPred_loader):\n",
    "for i in range(len(testPred)):\n",
    "    target_prediction = net(testPred[i,:].view( 1,71))\n",
    "    #p,predicted = torch.max(target_prediction.data, 1)\n",
    "    predicted=target_prediction.detach().numpy()\n",
    "\n",
    "    resnet0.append(predicted[0][0])\n",
    "    resnet1.append(predicted[0][1])\n",
    "    resnet2.append(predicted[0][2])\n",
    "    resnet3.append(predicted[0][3])\n",
    "    resnet4.append(predicted[0][4])\n",
    "    resnet5.append(predicted[0][5])\n",
    "    resnet6.append(predicted[0][6])\n",
    "    resnet7.append(predicted[0][7])\n",
    "    resnet8.append(predicted[0][8])\n",
    "    resnet9.append(predicted[0][9])\n",
    "    resnet10.append(predicted[0][10])\n",
    "\n",
    "df_testC[\"resnet0\"]=resnet0\n",
    "df_testC[\"resnet1\"]=resnet1\n",
    "df_testC[\"resnet2\"]=resnet2\n",
    "df_testC[\"resnet3\"]=resnet3\n",
    "df_testC[\"resnet4\"]=resnet4\n",
    "df_testC[\"resnet5\"]=resnet5\n",
    "df_testC[\"resnet6\"]=resnet6\n",
    "df_testC[\"resnet7\"]=resnet7\n",
    "df_testC[\"resnet8\"]=resnet8\n",
    "df_testC[\"resnet9\"]=resnet9\n",
    "df_testC[\"resnet10\"]=resnet10\n"
   ]
  },
  {
   "cell_type": "markdown",
   "metadata": {},
   "source": [
    "## Preprocessing"
   ]
  },
  {
   "cell_type": "code",
   "execution_count": 30,
   "metadata": {},
   "outputs": [
    {
     "name": "stdout",
     "output_type": "stream",
     "text": [
      "{'TB & Chest disease': 0, 'anesthesia': 1, 'gynecology': 2, 'radiotherapy': 3, 'surgery': 4}\n",
      "{'X': 0, 'Y': 1, 'Z': 2}\n",
      "{'P': 0, 'Q': 1, 'R': 2, 'S': 3, 'T': 4, 'U': 5}\n",
      "{'A': 0, 'B': 1, 'C': 2, 'D': 3, 'E': 4, 'F': 5}\n",
      "{'Emergency': 0, 'Trauma': 1, 'Urgent': 2}\n",
      "{'0-10': 0, '11-20': 1, '21-30': 2, '31-40': 3, '41-50': 4, '51-60': 5, '61-70': 6, '71-80': 7, '81-90': 8, '91-100': 9}\n",
      "{'a': 0, 'b': 1, 'c': 2, 'd': 3, 'e': 4, 'f': 5, 'g': 6}\n",
      "{'0-10': 0, '11-20': 1, '21-30': 2, '31-40': 3, '41-50': 4, '51-60': 5, '61-70': 6, '71-80': 7, '81-90': 8, '91-100': 9, 'More than 100 Days': 10}\n"
     ]
    }
   ],
   "source": [
    "Convert_to_Num(df_trainC)\n",
    "stay_list = df_trainC[\"Stay\"].unique()\n",
    "stay_list.sort()\n",
    "dept_Stay = dict(zip(stay_list, range(len(stay_list))))\n",
    "df_trainC[\"Stay\"].replace(dept_Stay, inplace=True)\n",
    "df_trainC['Severity of Illness'] = df_trainC['Severity of Illness'].map({'Minor': 1,'Moderate': 2,'Extreme': 3})\n",
    "print(dept_Stay)\n"
   ]
  },
  {
   "cell_type": "code",
   "execution_count": 31,
   "metadata": {},
   "outputs": [
    {
     "data": {
      "text/plain": [
       "Hospital_code                           0\n",
       "Hospital_type_code                      0\n",
       "City_Code_Hospital                      0\n",
       "Hospital_region_code                    0\n",
       "Available Extra Rooms in Hospital       0\n",
       "Department                              0\n",
       "Ward_Type                               0\n",
       "Ward_Facility_Code                      0\n",
       "Bed Grade                               0\n",
       "patientid                               0\n",
       "City_Code_Patient                    4532\n",
       "Type of Admission                       0\n",
       "Severity of Illness                     0\n",
       "Visitors with Patient                   0\n",
       "Age                                     0\n",
       "Admission_Deposit                       0\n",
       "Stay                                    0\n",
       "resnet0                                 0\n",
       "resnet1                                 0\n",
       "resnet2                                 0\n",
       "resnet3                                 0\n",
       "resnet4                                 0\n",
       "resnet5                                 0\n",
       "resnet6                                 0\n",
       "resnet7                                 0\n",
       "resnet8                                 0\n",
       "resnet9                                 0\n",
       "resnet10                                0\n",
       "dtype: int64"
      ]
     },
     "execution_count": 31,
     "metadata": {},
     "output_type": "execute_result"
    }
   ],
   "source": [
    "df_trainC[\"Bed Grade\"] = df_trainC[\"Bed Grade\"].fillna(2)\n",
    "df_trainC.isnull().sum()"
   ]
  },
  {
   "cell_type": "code",
   "execution_count": 32,
   "metadata": {},
   "outputs": [],
   "source": [
    "y = df_trainC.Stay\n",
    "x = df_trainC.drop(columns=[\"Stay\", \"City_Code_Patient\", \"patientid\"])\n",
    "x_train, x_test, y_train, y_test = train_test_split(x, y, test_size=0.2, random_state=8)"
   ]
  },
  {
   "cell_type": "markdown",
   "metadata": {},
   "source": [
    "## Train again"
   ]
  },
  {
   "cell_type": "code",
   "execution_count": 33,
   "metadata": {
    "collapsed": true,
    "jupyter": {
     "outputs_hidden": true
    }
   },
   "outputs": [
    {
     "name": "stdout",
     "output_type": "stream",
     "text": [
      "0:\tlearn: 0.4169500\ttest: 0.4115375\tbest: 0.4115375 (0)\ttotal: 1.51s\tremaining: 30m 11s\n",
      "50:\tlearn: 0.4271796\ttest: 0.4192156\tbest: 0.4194825 (42)\ttotal: 1m 9s\tremaining: 26m 4s\n",
      "100:\tlearn: 0.4305123\ttest: 0.4199535\tbest: 0.4202204 (67)\ttotal: 2m 13s\tremaining: 24m 12s\n",
      "150:\tlearn: 0.4337507\ttest: 0.4202519\tbest: 0.4205031 (147)\ttotal: 3m 17s\tremaining: 22m 48s\n",
      "200:\tlearn: 0.4370049\ttest: 0.4202204\tbest: 0.4206915 (181)\ttotal: 4m 19s\tremaining: 21m 31s\n",
      "250:\tlearn: 0.4402630\ttest: 0.4206601\tbest: 0.4208328 (235)\ttotal: 5m 21s\tremaining: 20m 16s\n",
      "300:\tlearn: 0.4432699\ttest: 0.4213039\tbest: 0.4213353 (297)\ttotal: 6m 23s\tremaining: 19m 5s\n",
      "350:\tlearn: 0.4463278\ttest: 0.4215551\tbest: 0.4216650 (348)\ttotal: 7m 24s\tremaining: 17m 56s\n",
      "400:\tlearn: 0.4494603\ttest: 0.4214609\tbest: 0.4217749 (356)\ttotal: 8m 27s\tremaining: 16m 50s\n",
      "450:\tlearn: 0.4524318\ttest: 0.4209270\tbest: 0.4217749 (356)\ttotal: 9m 36s\tremaining: 15m 57s\n",
      "500:\tlearn: 0.4547792\ttest: 0.4208956\tbest: 0.4217749 (356)\ttotal: 10m 42s\tremaining: 14m 55s\n",
      "550:\tlearn: 0.4577233\ttest: 0.4209898\tbest: 0.4217749 (356)\ttotal: 11m 49s\tremaining: 13m 56s\n",
      "600:\tlearn: 0.4606045\ttest: 0.4202362\tbest: 0.4217749 (356)\ttotal: 12m 52s\tremaining: 12m 50s\n",
      "650:\tlearn: 0.4632031\ttest: 0.4200163\tbest: 0.4217749 (356)\ttotal: 13m 55s\tremaining: 11m 44s\n",
      "700:\tlearn: 0.4660805\ttest: 0.4203147\tbest: 0.4217749 (356)\ttotal: 14m 58s\tremaining: 10m 39s\n",
      "750:\tlearn: 0.4690638\ttest: 0.4202047\tbest: 0.4217749 (356)\ttotal: 16m\tremaining: 9m 34s\n",
      "800:\tlearn: 0.4716781\ttest: 0.4201105\tbest: 0.4217749 (356)\ttotal: 17m 5s\tremaining: 8m 30s\n",
      "850:\tlearn: 0.4745437\ttest: 0.4197337\tbest: 0.4217749 (356)\ttotal: 18m 7s\tremaining: 7m 26s\n",
      "900:\tlearn: 0.4775074\ttest: 0.4197023\tbest: 0.4217749 (356)\ttotal: 19m 12s\tremaining: 6m 22s\n",
      "950:\tlearn: 0.4801531\ttest: 0.4199849\tbest: 0.4217749 (356)\ttotal: 20m 15s\tremaining: 5m 18s\n",
      "1000:\tlearn: 0.4828224\ttest: 0.4195610\tbest: 0.4217749 (356)\ttotal: 21m 22s\tremaining: 4m 14s\n",
      "1050:\tlearn: 0.4855819\ttest: 0.4195610\tbest: 0.4217749 (356)\ttotal: 22m 24s\tremaining: 3m 10s\n",
      "1100:\tlearn: 0.4883376\ttest: 0.4193569\tbest: 0.4217749 (356)\ttotal: 23m 26s\tremaining: 2m 6s\n",
      "1150:\tlearn: 0.4914073\ttest: 0.4190742\tbest: 0.4217749 (356)\ttotal: 24m 28s\tremaining: 1m 2s\n",
      "1199:\tlearn: 0.4938371\ttest: 0.4193098\tbest: 0.4217749 (356)\ttotal: 25m 27s\tremaining: 0us\n",
      "\n",
      "bestTest = 0.4217749027\n",
      "bestIteration = 356\n",
      "\n",
      "Shrink model to first 357 iterations.\n",
      "{'learn': {'Accuracy': 0.4938370951913641, 'MultiClass': 1.3069780133740672}, 'validation': {'Accuracy': 0.4217749026504208, 'MultiClass': 1.5009301632986827}}\n",
      "[[8.0700e+02 2.3180e+03 1.5690e+03 2.3000e+01 0.0000e+00 8.0000e+00\n",
      "  0.0000e+00 0.0000e+00 0.0000e+00 0.0000e+00 1.0000e+00]\n",
      " [4.3300e+02 7.7350e+03 6.3440e+03 7.1600e+02 0.0000e+00 4.4700e+02\n",
      "  0.0000e+00 2.0000e+00 7.0000e+00 0.0000e+00 4.0000e+00]\n",
      " [3.6400e+02 5.1170e+03 1.1444e+04 2.3200e+02 0.0000e+00 2.3700e+02\n",
      "  0.0000e+00 2.0000e+00 2.8000e+01 0.0000e+00 2.2000e+01]\n",
      " [1.8600e+02 1.9700e+03 4.3670e+03 2.6240e+03 0.0000e+00 1.7200e+03\n",
      "  0.0000e+00 1.3000e+01 1.9000e+01 0.0000e+00 3.6000e+01]\n",
      " [6.6000e+01 4.2600e+02 1.4480e+03 1.4100e+02 0.0000e+00 1.5700e+02\n",
      "  0.0000e+00 1.0000e+00 1.0000e+01 0.0000e+00 1.7000e+01]\n",
      " [9.9000e+01 5.4300e+02 9.7100e+02 1.7730e+03 0.0000e+00 3.4700e+03\n",
      "  0.0000e+00 5.0000e+00 1.4700e+02 0.0000e+00 9.5000e+01]\n",
      " [1.1000e+01 8.9000e+01 2.8700e+02 5.3000e+01 0.0000e+00 1.0700e+02\n",
      "  0.0000e+00 3.0000e+00 1.1000e+01 0.0000e+00 1.0000e+01]\n",
      " [3.1000e+01 1.3700e+02 1.8800e+02 4.2600e+02 1.0000e+00 1.0800e+03\n",
      "  0.0000e+00 2.1000e+01 2.1000e+01 1.0000e+00 1.7200e+02]\n",
      " [1.3000e+01 4.6000e+01 5.7000e+01 1.1800e+02 0.0000e+00 4.5600e+02\n",
      "  0.0000e+00 2.0000e+00 2.0500e+02 0.0000e+00 8.5000e+01]\n",
      " [7.0000e+00 2.7000e+01 5.4000e+01 9.7000e+01 0.0000e+00 2.7100e+02\n",
      "  0.0000e+00 5.0000e+00 5.0000e+00 2.0000e+00 9.0000e+01]\n",
      " [1.9000e+01 4.8000e+01 7.2000e+01 8.6000e+01 0.0000e+00 4.0300e+02\n",
      "  0.0000e+00 1.8000e+01 1.3400e+02 1.0000e+00 5.5400e+02]]\n"
     ]
    },
    {
     "data": {
      "image/png": "[encoded data removed]",
      "text/plain": [
       "<Figure size 432x288 with 2 Axes>"
      ]
     },
     "metadata": {
      "needs_background": "light"
     },
     "output_type": "display_data"
    },
    {
     "name": "stdout",
     "output_type": "stream",
     "text": [
      "catboost Acc :  0.7563977685291774\n"
     ]
    }
   ],
   "source": [
    "from catboost import CatBoostClassifier, Pool\n",
    "from catboost.utils import get_confusion_matrix\n",
    "\n",
    "eval_dataset = Pool(x_test,\n",
    "                    y_test)\n",
    "\n",
    "model = CatBoostClassifier(iterations=1200,\n",
    "                           learning_rate=0.03,\n",
    "                           depth=10,\n",
    "                           l2_leaf_reg = 3,\n",
    "                           loss_function='MultiClass',\n",
    "                           eval_metric='Accuracy')\n",
    "\n",
    "model.fit(x_train,\n",
    "          y_train,\n",
    "          eval_set=eval_dataset,\n",
    "          verbose=50)\n",
    "\n",
    "print(model.get_best_score())\n",
    "cm = get_confusion_matrix(model, eval_dataset)\n",
    "print(cm)\n",
    "predict_accuracy_on_test_set = (cm[0,0] + cm[1,1])/(cm[0,0] + cm[1,1]+cm[1,0] + cm[0,1])\n",
    "ax = sns.heatmap(cm, linewidth=1)\n",
    "plt.show()\n",
    "print(\"catboost Acc : \", predict_accuracy_on_test_set)\n",
    "\n"
   ]
  },
  {
   "cell_type": "code",
   "execution_count": 34,
   "metadata": {},
   "outputs": [],
   "source": [
    "import catboost\n",
    "pred = model.predict(\n",
    "                 eval_dataset, \n",
    "                 verbose=True)"
   ]
  },
  {
   "cell_type": "code",
   "execution_count": 35,
   "metadata": {},
   "outputs": [
    {
     "data": {
      "text/plain": [
       "0.4217749026504208"
      ]
     },
     "execution_count": 35,
     "metadata": {},
     "output_type": "execute_result"
    }
   ],
   "source": [
    "from sklearn.metrics import accuracy_score\n",
    "accuracy_score(y_test, pred)"
   ]
  },
  {
   "cell_type": "markdown",
   "metadata": {},
   "source": [
    "## Predict on test dataset"
   ]
  },
  {
   "cell_type": "code",
   "execution_count": 36,
   "metadata": {},
   "outputs": [
    {
     "name": "stdout",
     "output_type": "stream",
     "text": [
      "{'TB & Chest disease': 0, 'anesthesia': 1, 'gynecology': 2, 'radiotherapy': 3, 'surgery': 4}\n",
      "{'X': 0, 'Y': 1, 'Z': 2}\n",
      "{'P': 0, 'Q': 1, 'R': 2, 'S': 3, 'T': 4, 'U': 5}\n",
      "{'A': 0, 'B': 1, 'C': 2, 'D': 3, 'E': 4, 'F': 5}\n",
      "{'Emergency': 0, 'Trauma': 1, 'Urgent': 2}\n",
      "{'0-10': 0, '11-20': 1, '21-30': 2, '31-40': 3, '41-50': 4, '51-60': 5, '61-70': 6, '71-80': 7, '81-90': 8, '91-100': 9}\n",
      "{'a': 0, 'b': 1, 'c': 2, 'd': 3, 'e': 4, 'f': 5, 'g': 6}\n"
     ]
    },
    {
     "data": {
      "text/plain": [
       "(137057, 1)"
      ]
     },
     "execution_count": 36,
     "metadata": {},
     "output_type": "execute_result"
    }
   ],
   "source": [
    "Convert_to_Num(df_testC)\n",
    "df_testC['Severity of Illness'] = df_testC['Severity of Illness'].map({'Minor': 1,'Moderate': 2,'Extreme': 3})\n",
    "df_testC[\"Bed Grade\"] = df_testC[\"Bed Grade\"].fillna(2)\n",
    "df_testC = df_testC.drop(columns=[\"City_Code_Patient\", \"patientid\"])\n",
    "eval_dt = Pool(df_testC)\n",
    "preds_class = model.predict(eval_dt)\n",
    "preds_class.shape"
   ]
  },
  {
   "cell_type": "code",
   "execution_count": 37,
   "metadata": {},
   "outputs": [
    {
     "data": {
      "text/html": [
       "<div>\n",
       "<style scoped>\n",
       "    .dataframe tbody tr th:only-of-type {\n",
       "        vertical-align: middle;\n",
       "    }\n",
       "\n",
       "    .dataframe tbody tr th {\n",
       "        vertical-align: top;\n",
       "    }\n",
       "\n",
       "    .dataframe thead th {\n",
       "        text-align: right;\n",
       "    }\n",
       "</style>\n",
       "<table border=\"1\" class=\"dataframe\">\n",
       "  <thead>\n",
       "    <tr style=\"text-align: right;\">\n",
       "      <th></th>\n",
       "      <th>Stay</th>\n",
       "    </tr>\n",
       "    <tr>\n",
       "      <th>case_id</th>\n",
       "      <th></th>\n",
       "    </tr>\n",
       "  </thead>\n",
       "  <tbody>\n",
       "    <tr>\n",
       "      <th>318439</th>\n",
       "      <td>0-10</td>\n",
       "    </tr>\n",
       "    <tr>\n",
       "      <th>318440</th>\n",
       "      <td>51-60</td>\n",
       "    </tr>\n",
       "    <tr>\n",
       "      <th>318441</th>\n",
       "      <td>21-30</td>\n",
       "    </tr>\n",
       "    <tr>\n",
       "      <th>318442</th>\n",
       "      <td>21-30</td>\n",
       "    </tr>\n",
       "    <tr>\n",
       "      <th>318443</th>\n",
       "      <td>51-60</td>\n",
       "    </tr>\n",
       "  </tbody>\n",
       "</table>\n",
       "</div>"
      ],
      "text/plain": [
       "          Stay\n",
       "case_id       \n",
       "318439    0-10\n",
       "318440   51-60\n",
       "318441   21-30\n",
       "318442   21-30\n",
       "318443   51-60"
      ]
     },
     "execution_count": 37,
     "metadata": {},
     "output_type": "execute_result"
    }
   ],
   "source": [
    "df_sub = pd.DataFrame(index=df_testC.index)\n",
    "df_sub[\"Stay\"] = preds_class\n",
    "swap_dict_Stay = dict([(value, key) for key, value in dept_Stay.items()])\n",
    "df_sub[\"Stay\"].replace(swap_dict_Stay, inplace=True)\n",
    "df_sub.head()"
   ]
  },
  {
   "cell_type": "markdown",
   "metadata": {},
   "source": [
    "## Save"
   ]
  },
  {
   "cell_type": "code",
   "execution_count": 38,
   "metadata": {},
   "outputs": [],
   "source": [
    "df_sub.to_csv(\"Submission.csv\")"
   ]
  }
 ],
 "metadata": {
  "kernelspec": {
   "display_name": "Python 3",
   "language": "python",
   "name": "python3"
  },
  "language_info": {
   "codemirror_mode": {
    "name": "ipython",
    "version": 3
   },
   "file_extension": ".py",
   "mimetype": "text/x-python",
   "name": "python",
   "nbconvert_exporter": "python",
   "pygments_lexer": "ipython3",
   "version": "3.8.3"
  }
 },
 "nbformat": 4,
 "nbformat_minor": 4
}
