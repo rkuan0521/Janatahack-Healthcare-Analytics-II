{
 "cells": [
  {
   "cell_type": "markdown",
   "metadata": {},
   "source": [
    "# Embedding for Categorical Data"
   ]
  },
  {
   "cell_type": "code",
   "execution_count": 5,
   "metadata": {},
   "outputs": [
    {
     "name": "stdout",
     "output_type": "stream",
     "text": [
      "(318438, 17)\n",
      "(137057, 16)\n"
     ]
    }
   ],
   "source": [
    "import numpy as np\n",
    "import pandas as pd\n",
    "import matplotlib.pyplot as plt\n",
    "import seaborn as sns\n",
    "from sklearn.model_selection import train_test_split\n",
    "from sklearn.metrics import plot_confusion_matrix\n",
    "from sklearn.metrics import confusion_matrix\n",
    "from sklearn.metrics import accuracy_score\n",
    "import os\n",
    "import matplotlib.pyplot as plt\n",
    "from sklearn.metrics import accuracy_score\n",
    "from sklearn.preprocessing import MinMaxScaler\n",
    "from sklearn.preprocessing import StandardScaler\n",
    "from collections import Counter\n",
    "from torch.utils.data import Dataset, DataLoader\n",
    "import tensorflow as tf\n",
    "from torch.utils.data import Dataset, DataLoader\n",
    "import torch.nn as nn\n",
    "import torch.nn.functional as F\n",
    "import torch.optim as optim\n",
    "import torch\n",
    "df_train = pd.read_csv(\"train_data.csv\",index_col=0)\n",
    "df_test = pd.read_csv(\"test_data.csv\",index_col=0)\n",
    "print(df_train.shape)\n",
    "print(df_test.shape)\n"
   ]
  },
  {
   "cell_type": "markdown",
   "metadata": {},
   "source": [
    "## Preprocessing"
   ]
  },
  {
   "cell_type": "code",
   "execution_count": 6,
   "metadata": {},
   "outputs": [],
   "source": [
    "def Convert_to_Num(df):\n",
    "    dept_lst = df[\"Department\"].unique()\n",
    "    dept_lst.sort()\n",
    "    dept_dict = dict(zip(dept_lst, range(len(dept_lst))))\n",
    "    df.Department.replace(dept_dict, inplace=True)\n",
    "    #print(dept_dict)\n",
    "    \n",
    "    HRC_lst = df[\"Hospital_region_code\"].unique()\n",
    "    HRC_lst.sort()\n",
    "    HRC_dict = dict(zip(HRC_lst, range(len(HRC_lst))))\n",
    "    df.Hospital_region_code.replace(HRC_dict, inplace=True)\n",
    "    #print(HRC_dict)\n",
    "    \n",
    "    code_lst = df[\"Hospital_code\"].unique()\n",
    "    code_lst.sort()\n",
    "    code_dict = dict(zip(code_lst, range(len(code_lst))))\n",
    "    df.Hospital_code.replace(code_dict, inplace=True)\n",
    "    \n",
    "    city_lst = df[\"City_Code_Hospital\"].unique()\n",
    "    city_lst.sort()\n",
    "    city_dict = dict(zip(city_lst, range(len(city_lst))))\n",
    "    df.City_Code_Hospital.replace(city_dict, inplace=True)\n",
    "    \n",
    "    ward_lst = df[\"Ward_Type\"].unique()\n",
    "    ward_lst.sort()\n",
    "    ward_dict = dict(zip(ward_lst, range(len(ward_lst))))\n",
    "    df.Ward_Type.replace(ward_dict, inplace=True)\n",
    "    #print(ward_dict)\n",
    "    \n",
    "    WFC_lst = df[\"Ward_Facility_Code\"].unique()\n",
    "    WFC_lst.sort()\n",
    "    WFC_dict = dict(zip(WFC_lst, range(len(WFC_lst))))\n",
    "    df.Ward_Facility_Code.replace(WFC_dict, inplace=True)\n",
    "    #print(WFC_dict)\n",
    "    \n",
    "    TOA_lst = df[\"Type of Admission\"].unique()\n",
    "    TOA_lst.sort()\n",
    "    TOA_dict = dict(zip(TOA_lst, range(len(TOA_lst))))\n",
    "    df[\"Type of Admission\"].replace(TOA_dict, inplace=True)\n",
    "    #print(TOA_dict)\n",
    "    \n",
    "    age_lst = df[\"Age\"].unique()\n",
    "    age_lst.sort()\n",
    "    age_dict = dict(zip(age_lst, range(len(age_lst))))\n",
    "    df[\"Age\"].replace(age_dict, inplace=True)\n",
    "    print(age_dict)\n",
    "    \n",
    "    HTC_lst = df[\"Hospital_type_code\"].unique()\n",
    "    HTC_lst.sort()\n",
    "    HTC_dict = dict(zip(HTC_lst, range(len(HTC_lst))))\n",
    "    df[\"Hospital_type_code\"].replace(HTC_dict, inplace=True)\n",
    "    #print(HTC_dict)"
   ]
  },
  {
   "cell_type": "code",
   "execution_count": 7,
   "metadata": {},
   "outputs": [],
   "source": [
    "def groupFeature(df):\n",
    "    Convert_to_Num(df)\n",
    "    df['Severity of Illness'] = df['Severity of Illness'].map({'Minor': 1,'Moderate': 2,'Extreme': 3})\n",
    "    df[\"Bed Grade\"] = df[\"Bed Grade\"].fillna(2)\n",
    "    sc = StandardScaler()\n",
    "    df[['Admission_Deposit']] = sc.fit_transform(df[['Admission_Deposit']])\n",
    "    return df"
   ]
  },
  {
   "cell_type": "code",
   "execution_count": 8,
   "metadata": {},
   "outputs": [],
   "source": [
    "import torch\n",
    "class Cat_Num_Dataset(Dataset):\n",
    "    def __init__(self, X, Y, embedded_names):\n",
    "        #X = X.copy()\n",
    "        self.X = X #categorical columns\n",
    "        self.num = torch.tensor(X.drop(embedded_names,axis=1,inplace=False).values.astype(np.float32))   #numerical columns\n",
    "        self.y = torch.tensor(Y.values.astype(np.int64)) \n",
    "    \n",
    "    def __getitem__(self, idx):\n",
    "        dR = {'Hospital_code': self.X[\"Hospital_code\"]}\n",
    "        df_Cat = pd.DataFrame(data=dR)\n",
    "        for i in embedded_N: \n",
    "            df_Cat[i] =  self.X[i]\n",
    "        df_Cat=torch.tensor( df_Cat.values.astype(np.int64)) \n",
    "        return df_Cat[idx], self.num[idx], self.y[idx]\n",
    "    \n",
    "    def __len__(self):\n",
    "        return len(self.y)"
   ]
  },
  {
   "cell_type": "code",
   "execution_count": 9,
   "metadata": {},
   "outputs": [
    {
     "name": "stdout",
     "output_type": "stream",
     "text": [
      "{'0-10': 0, '11-20': 1, '21-30': 2, '31-40': 3, '41-50': 4, '51-60': 5, '61-70': 6, '71-80': 7, '81-90': 8, '91-100': 9}\n"
     ]
    }
   ],
   "source": [
    "df_train=groupFeature(df_train)\n",
    "stay_list = df_train[\"Stay\"].unique()\n",
    "stay_list.sort()\n",
    "dept_Stay = dict(zip(stay_list, range(len(stay_list))))\n",
    "#print(dept_Stay)\n",
    "df_train[\"Stay\"].replace(dept_Stay, inplace=True)"
   ]
  },
  {
   "cell_type": "code",
   "execution_count": 30,
   "metadata": {},
   "outputs": [],
   "source": [
    "y = df_train.Stay\n",
    "x = df_train.drop([\"Stay\", \"City_Code_Patient\", \"patientid\"],axis=1, inplace=False)\n",
    "x_train, x_test, y_train, y_test = train_test_split(x, y, test_size=0.6, random_state=42)\n",
    "x_validation, x_test, y_validation, y_test = train_test_split(x_test, y_test, test_size=0.96, random_state=42)\n",
    "x_test, x_test2, y_test, y_test2 = train_test_split(x_test, y_test, test_size=0.96, random_state=42)"
   ]
  },
  {
   "cell_type": "code",
   "execution_count": 31,
   "metadata": {},
   "outputs": [
    {
     "data": {
      "text/plain": [
       "[(32, 16), (7, 4), (11, 6), (3, 2), (5, 3), (6, 3), (6, 3), (3, 2)]"
      ]
     },
     "execution_count": 31,
     "metadata": {},
     "output_type": "execute_result"
    }
   ],
   "source": [
    "embedded_dic={\"Hospital_code\": len(df_train[\"Hospital_code\"].unique()),\n",
    "              \"Hospital_type_code\": len(df_train[\"Hospital_type_code\"].unique()),\n",
    "              \"City_Code_Hospital\": len(df_train[\"City_Code_Hospital\"].unique()),\n",
    "              \"Hospital_region_code\": len(df_train[\"Hospital_region_code\"].unique()),\n",
    "             \"Department\": len(df_train[\"Department\"].unique()),\n",
    "              \"Ward_Type\": len(df_train[\"Ward_Type\"].unique()),\n",
    "              \"Ward_Facility_Code\": len(df_train[\"Ward_Facility_Code\"].unique()),\n",
    "              \"Type of Admission\": len(df_train[\"Type of Admission\"].unique())}\n",
    "embedded_names = embedded_dic.keys()\n",
    "embedded_N = list(embedded_dic)\n",
    "numCount = x.shape[1]-len(embedded_N)\n",
    "embedding_sizes = [(num_category, (num_category+1)//2) for _,num_category in embedded_dic.items()]\n",
    "embedding_sizes"
   ]
  },
  {
   "cell_type": "code",
   "execution_count": 32,
   "metadata": {},
   "outputs": [],
   "source": [
    "train_dataset = Cat_Num_Dataset(x_train, y_train, embedded_N)\n",
    "validation_dataset = Cat_Num_Dataset(x_validation, y_validation, embedded_N)\n",
    "test_dataset = Cat_Num_Dataset(x_test, y_test, embedded_N)\n",
    "\n",
    "batch_size=500\n",
    "train_loader = DataLoader(train_dataset, batch_size=batch_size,shuffle=True)\n",
    "validation_loader = DataLoader(validation_dataset, batch_size=batch_size,shuffle=True)\n",
    "test_loader = DataLoader(test_dataset, batch_size=batch_size,shuffle=True)\n",
    "model_save_path = './saved_models/Resnet_emb'\n",
    "os.makedirs(model_save_path, exist_ok = True)"
   ]
  },
  {
   "cell_type": "markdown",
   "metadata": {},
   "source": [
    "## Resnet Model"
   ]
  },
  {
   "cell_type": "code",
   "execution_count": 35,
   "metadata": {},
   "outputs": [
    {
     "name": "stdout",
     "output_type": "stream",
     "text": [
      "Model(\n",
      "  (embeddings): ModuleList(\n",
      "    (0): Embedding(32, 16)\n",
      "    (1): Embedding(7, 4)\n",
      "    (2): Embedding(11, 6)\n",
      "    (3): Embedding(3, 2)\n",
      "    (4): Embedding(5, 3)\n",
      "    (5): Embedding(6, 3)\n",
      "    (6): Embedding(6, 3)\n",
      "    (7): Embedding(3, 2)\n",
      "  )\n",
      "  (bn1): BatchNorm1d(6, eps=1e-05, momentum=0.1, affine=True, track_running_stats=True)\n",
      "  (fc1): Linear(in_features=45, out_features=21, bias=True)\n",
      "  (fc12): Linear(in_features=21, out_features=21, bias=True)\n",
      "  (fc13): Linear(in_features=21, out_features=21, bias=True)\n",
      "  (n1): BatchNorm1d(21, eps=1e-05, momentum=0.1, affine=True, track_running_stats=True)\n",
      "  (drop1): Dropout(p=0.2, inplace=False)\n",
      "  (fc4): Linear(in_features=21, out_features=11, bias=True)\n",
      ")\n"
     ]
    }
   ],
   "source": [
    "import torch.nn as nn\n",
    "import torch.nn.functional as F\n",
    "import torch.optim as optim\n",
    "class Model(nn.Module):\n",
    "    def __init__(self,embedding_sizes,numCount):\n",
    "        '''Define model modules.'''\n",
    "        super(Model, self).__init__()\n",
    "        #self.embeddings = nn.ModuleList([nn.Embedding(categories, size) for categories,size in embedding_sizes])\n",
    "        self.embeddings = nn.ModuleList([nn.Embedding(32, 16), nn.Embedding(7, 4), nn.Embedding(11,6), \n",
    "                                         nn.Embedding(3,2), nn.Embedding(5,3), nn.Embedding(6,3), \n",
    "                                         nn.Embedding(6,3), nn.Embedding(3,2)])\n",
    "        #self.n_emb = sum(dim.embedding_dim for dim in self.embeddings) #length of all embeddings combined\n",
    "        #self.n_emb = n_emb\n",
    "        #self.lin1 = nn.Linear(self.n_emb + self.n_cont, 200)\n",
    "        #self.fc1 = nn.Linear(57, 48)\n",
    "        self.bn1 = nn.BatchNorm1d(numCount)\n",
    "        \n",
    "        self.fc1 = nn.Linear(45, 21)\n",
    "        self.fc12 = nn.Linear(21, 21)\n",
    "        self.fc13 = nn.Linear(21, 21)\n",
    "        self.n1 = nn.BatchNorm1d(21)\n",
    "        self.drop1 = nn.Dropout(0.2)\n",
    "\n",
    "        self.fc4 = nn.Linear(21, 11)\n",
    "    def forward(self, x_cat, x_num):\n",
    "        '''Define the model architecture (the sequence to place the model modules).'''\n",
    "\n",
    "        #xC = [e(x_cat[:,i]) for i,e in enumerate(self.embeddings)]\n",
    "        '''\n",
    "        for i,e in enumerate(self.embeddings):\n",
    "            print(i)\n",
    "            print(e)\n",
    "            \n",
    "        print(self.embeddings[0])\n",
    "        print(self.embeddings[1])\n",
    "        print(self.embeddings[2])\n",
    "        '''\n",
    "        xC = [ self.embeddings[0](x_cat[:,0]), self.embeddings[1](x_cat[:,1]), self.embeddings[2](x_cat[:,2]), \n",
    "             self.embeddings[3](x_cat[:,3]), self.embeddings[4](x_cat[:,4]), self.embeddings[5](x_cat[:,5]),\n",
    "             self.embeddings[6](x_cat[:,6]), self.embeddings[7](x_cat[:,7])]\n",
    "        xC = torch.cat(xC, 1)\n",
    "        xC = self.drop1(xC)\n",
    "        \n",
    "        xN = self.bn1(x_num)\n",
    "        x = torch.cat([xC, xN], 1)\n",
    "        \n",
    "        x1 = F.relu(self.fc1(x))\n",
    "        x1 = self.n1(x1)\n",
    "        x = F.relu(self.fc12(x1))\n",
    "        x = self.n1(x)\n",
    "        x = F.relu(self.fc13(x))\n",
    "        x = self.n1(x+x1)\n",
    "        x = self.drop1(x)\n",
    "        x = self.fc4(x)\n",
    "        return F.log_softmax(x, dim = 1)\n",
    "net = Model(embedding_sizes, numCount)\n",
    "print(net)"
   ]
  },
  {
   "cell_type": "markdown",
   "metadata": {},
   "source": [
    "## Training"
   ]
  },
  {
   "cell_type": "code",
   "execution_count": 37,
   "metadata": {},
   "outputs": [
    {
     "name": "stdout",
     "output_type": "stream",
     "text": [
      "Starting Training Process\n",
      "Epoch:   1,  train Loss: 0.00398,  validation Loss: 0.00371,  current lr:  0.001 , Time: 2776.52 s\tBest model saved at loss: 0.00371\n",
      "Epoch:   2,  train Loss: 0.00363,  validation Loss: 0.00354,  current lr:  0.001 , Time: 2265.14 s\n",
      "Epoch:   3,  train Loss: 0.00350,  validation Loss: 0.00344,  current lr:  0.001 , Time: 2353.75 s\n",
      "Epoch:   4,  train Loss: 0.00343,  validation Loss: 0.00341,  current lr:  0.001 , Time: 2090.71 s\n",
      "Epoch:   5,  train Loss: 0.00339,  validation Loss: 0.00338,  current lr:  0.001 , Time: 2274.25 s\n",
      "Epoch:   6,  train Loss: 0.00337,  validation Loss: 0.00335,  current lr:  0.001 , Time: 2293.67 s\n",
      "Epoch:   7,  train Loss: 0.00334,  validation Loss: 0.00333,  current lr:  0.001 , Time: 2229.27 s\n",
      "Epoch:   8,  train Loss: 0.00333,  validation Loss: 0.00332,  current lr:  0.001 , Time: 2268.39 s\n",
      "Epoch:   9,  train Loss: 0.00331,  validation Loss: 0.00330,  current lr:  0.001 , Time: 2432.21 s\n",
      "Epoch:  10,  train Loss: 0.00330,  validation Loss: 0.00328,  current lr:  0.001 , Time: 2535.48 s\n",
      "Epoch:  11,  train Loss: 0.00329,  validation Loss: 0.00329,  current lr:  0.001 , Time: 2520.57 s\n",
      "Epoch:  12,  train Loss: 0.00327,  validation Loss: 0.00327,  current lr:  0.001 , Time: 2683.52 s\n",
      "Epoch:  13,  train Loss: 0.00327,  validation Loss: 0.00326,  current lr:  0.001 , Time: 2342.33 s\n",
      "Epoch:  14,  train Loss: 0.00326,  validation Loss: 0.00325,  current lr:  0.001 , Time: 2086.01 s\n",
      "Epoch:  15,  train Loss: 0.00325,  validation Loss: 0.00323,  current lr:  0.001 , Time: 2152.57 s\n",
      "Epoch:  16,  train Loss: 0.00324,  validation Loss: 0.00323,  current lr:  0.001 , Time: 2017.04 s\n",
      "Epoch:  17,  train Loss: 0.00323,  validation Loss: 0.00323,  current lr:  0.001 , Time: 2052.92 s\n",
      "Epoch:  18,  train Loss: 0.00323,  validation Loss: 0.00322,  current lr:  0.001 , Time: 2051.14 s\n",
      "Epoch:  19,  train Loss: 0.00322,  validation Loss: 0.00322,  current lr:  0.001 , Time: 2066.33 s\n",
      "Epoch:  20,  train Loss: 0.00322,  validation Loss: 0.00321,  current lr:  0.001 , Time: 2060.85 s\n",
      "Epoch:  21,  train Loss: 0.00321,  validation Loss: 0.00321,  current lr:  0.001 , Time: 2069.02 s\n",
      "Epoch:  22,  train Loss: 0.00321,  validation Loss: 0.00321,  current lr:  0.001 , Time: 2056.27 s\n",
      "Epoch:  23,  train Loss: 0.00320,  validation Loss: 0.00320,  current lr:  0.001 , Time: 2057.21 s\n",
      "Epoch:  24,  train Loss: 0.00320,  validation Loss: 0.00320,  current lr:  0.001 , Time: 2062.30 s\n",
      "Epoch:  25,  train Loss: 0.00319,  validation Loss: 0.00319,  current lr:  0.001 , Time: 2068.53 s\n",
      "Epoch:  26,  train Loss: 0.00319,  validation Loss: 0.00319,  current lr:  0.001 , Time: 2071.18 s\n",
      "Epoch:  27,  train Loss: 0.00318,  validation Loss: 0.00319,  current lr:  0.001 , Time: 2073.85 s\n",
      "Epoch:  28,  train Loss: 0.00318,  validation Loss: 0.00320,  current lr:  0.001 , Time: 2080.13 s\n",
      "Epoch:  29,  train Loss: 0.00318,  validation Loss: 0.00318,  current lr:  0.001 , Time: 2046.13 s\n",
      "Epoch:  30,  train Loss: 0.00317,  validation Loss: 0.00317,  current lr:  0.001 , Time: 2060.02 s\n",
      "Epoch:  31,  train Loss: 0.00317,  validation Loss: 0.00317,  current lr:  0.001 , Time: 2058.46 s\n",
      "Epoch:  32,  train Loss: 0.00317,  validation Loss: 0.00317,  current lr:  0.001 , Time: 2065.11 s\n",
      "Epoch:  33,  train Loss: 0.00316,  validation Loss: 0.00316,  current lr:  0.001 , Time: 2055.26 s\n",
      "Epoch:  34,  train Loss: 0.00316,  validation Loss: 0.00316,  current lr:  0.001 , Time: 2069.76 s\n",
      "Epoch:  35,  train Loss: 0.00316,  validation Loss: 0.00315,  current lr:  0.001 , Time: 2176.02 s\n",
      "Epoch:  36,  train Loss: 0.00315,  validation Loss: 0.00316,  current lr:  0.001 , Time: 2125.95 s\n",
      "Epoch:  37,  train Loss: 0.00315,  validation Loss: 0.00316,  current lr:  0.001 , Time: 2323.51 s\n",
      "Epoch:  38,  train Loss: 0.00315,  validation Loss: 0.00315,  current lr:  0.001 , Time: 2294.66 s\n",
      "Epoch:  39,  train Loss: 0.00315,  validation Loss: 0.00315,  current lr:  0.001 , Time: 2261.78 s\n",
      "Epoch:  40,  train Loss: 0.00315,  validation Loss: 0.00314,  current lr:  0.001 , Time: 2456.79 s\n",
      "Epoch:  41,  train Loss: 0.00314,  validation Loss: 0.00314,  current lr:  0.001 , Time: 2450.67 s\n",
      "Epoch:  42,  train Loss: 0.00314,  validation Loss: 0.00313,  current lr:  0.001 , Time: 2384.26 s\n",
      "Epoch:  43,  train Loss: 0.00314,  validation Loss: 0.00314,  current lr:  0.001 , Time: 2436.74 s\n",
      "Epoch:  44,  train Loss: 0.00314,  validation Loss: 0.00316,  current lr:  0.001 , Time: 2370.29 s\n",
      "Epoch    45: reducing learning rate of group 0 to 8.5000e-04.\n",
      "Epoch:  45,  train Loss: 0.00314,  validation Loss: 0.00314,  current lr:  0.00085 , Time: 2351.83 s\n",
      "Epoch:  46,  train Loss: 0.00313,  validation Loss: 0.00313,  current lr:  0.00085 , Time: 2453.74 s\n",
      "Epoch:  47,  train Loss: 0.00313,  validation Loss: 0.00313,  current lr:  0.00085 , Time: 2401.22 s\n",
      "Epoch:  48,  train Loss: 0.00313,  validation Loss: 0.00314,  current lr:  0.00085 , Time: 3234.27 s\n",
      "Epoch:  49,  train Loss: 0.00313,  validation Loss: 0.00312,  current lr:  0.00085 , Time: 2189.73 s\n",
      "Epoch:  50,  train Loss: 0.00313,  validation Loss: 0.00313,  current lr:  0.00085 , Time: 2424.98 s\n",
      "Epoch:  51,  train Loss: 0.00313,  validation Loss: 0.00313,  current lr:  0.00085 , Time: 2743.78 s\n",
      "Epoch    52: reducing learning rate of group 0 to 7.2250e-04.\n",
      "Epoch:  52,  train Loss: 0.00313,  validation Loss: 0.00313,  current lr:  0.0007224999999999999 , Time: 2570.80 s\n",
      "Epoch:  53,  train Loss: 0.00313,  validation Loss: 0.00314,  current lr:  0.0007224999999999999 , Time: 2329.09 s\n",
      "Epoch:  54,  train Loss: 0.00312,  validation Loss: 0.00313,  current lr:  0.0007224999999999999 , Time: 2291.16 s\n",
      "Epoch    55: reducing learning rate of group 0 to 6.1412e-04.\n",
      "Epoch:  55,  train Loss: 0.00312,  validation Loss: 0.00313,  current lr:  0.000614125 , Time: 2419.55 s\n",
      "Epoch:  56,  train Loss: 0.00312,  validation Loss: 0.00314,  current lr:  0.000614125 , Time: 2636.85 s\n",
      "Epoch:  57,  train Loss: 0.00312,  validation Loss: 0.00314,  current lr:  0.000614125 , Time: 2529.81 s\n",
      "Epoch:  58,  train Loss: 0.00312,  validation Loss: 0.00312,  current lr:  0.000614125 , Time: 2465.85 s\n",
      "Epoch:  59,  train Loss: 0.00312,  validation Loss: 0.00311,  current lr:  0.000614125 , Time: 2702.81 s\n",
      "Epoch:  60,  train Loss: 0.00312,  validation Loss: 0.00312,  current lr:  0.000614125 , Time: 9351.94 s\n",
      "Epoch:  61,  train Loss: 0.00312,  validation Loss: 0.00312,  current lr:  0.000614125 , Time: 2088.63 s\n",
      "Epoch    62: reducing learning rate of group 0 to 5.2201e-04.\n",
      "Epoch:  62,  train Loss: 0.00312,  validation Loss: 0.00312,  current lr:  0.00052200625 , Time: 2095.86 s\n",
      "Epoch:  63,  train Loss: 0.00312,  validation Loss: 0.00312,  current lr:  0.00052200625 , Time: 2097.89 s\n",
      "Epoch:  64,  train Loss: 0.00312,  validation Loss: 0.00313,  current lr:  0.00052200625 , Time: 2095.89 s\n",
      "Epoch:  65,  train Loss: 0.00312,  validation Loss: 0.00311,  current lr:  0.00052200625 , Time: 2126.26 s\n",
      "Epoch:  66,  train Loss: 0.00312,  validation Loss: 0.00312,  current lr:  0.00052200625 , Time: 2094.67 s\n",
      "Epoch:  67,  train Loss: 0.00312,  validation Loss: 0.00312,  current lr:  0.00052200625 , Time: 3601.49 s\n",
      "Epoch    68: reducing learning rate of group 0 to 4.4371e-04.\n",
      "Epoch:  68,  train Loss: 0.00312,  validation Loss: 0.00312,  current lr:  0.00044370531249999997 , Time: 2187.28 s\n",
      "Epoch:  69,  train Loss: 0.00312,  validation Loss: 0.00311,  current lr:  0.00044370531249999997 , Time: 2221.85 s\n",
      "Epoch:  70,  train Loss: 0.00312,  validation Loss: 0.00311,  current lr:  0.00044370531249999997 , Time: 2060.18 s\n",
      "Epoch:  71,  train Loss: 0.00312,  validation Loss: 0.00312,  current lr:  0.00044370531249999997 , Time: 2061.87 s\n",
      "Epoch    72: reducing learning rate of group 0 to 3.7715e-04.\n",
      "Epoch:  72,  train Loss: 0.00312,  validation Loss: 0.00311,  current lr:  0.00037714951562499996 , Time: 2077.87 s\n",
      "Epoch:  73,  train Loss: 0.00312,  validation Loss: 0.00314,  current lr:  0.00037714951562499996 , Time: 2075.96 s\n",
      "Epoch:  74,  train Loss: 0.00311,  validation Loss: 0.00312,  current lr:  0.00037714951562499996 , Time: 2169.53 s\n",
      "Epoch    75: reducing learning rate of group 0 to 3.2058e-04.\n",
      "Epoch:  75,  train Loss: 0.00311,  validation Loss: 0.00313,  current lr:  0.00032057708828124994 , Time: 2274.84 s\n",
      "Epoch:  76,  train Loss: 0.00311,  validation Loss: 0.00312,  current lr:  0.00032057708828124994 , Time: 3237.21 s\n",
      "Epoch:  77,  train Loss: 0.00311,  validation Loss: 0.00311,  current lr:  0.00032057708828124994 , Time: 2400.70 s\n",
      "Epoch    78: reducing learning rate of group 0 to 2.7249e-04.\n",
      "Epoch:  78,  train Loss: 0.00311,  validation Loss: 0.00311,  current lr:  0.0002724905250390624 , Time: 2377.48 s\n",
      "Epoch:  79,  train Loss: 0.00311,  validation Loss: 0.00312,  current lr:  0.0002724905250390624 , Time: 2370.75 s\n",
      "Epoch:  80,  train Loss: 0.00311,  validation Loss: 0.00313,  current lr:  0.0002724905250390624 , Time: 2207.83 s\n",
      "Epoch    81: reducing learning rate of group 0 to 2.3162e-04.\n",
      "Epoch:  81,  train Loss: 0.00311,  validation Loss: 0.00312,  current lr:  0.00023161694628320305 , Time: 2158.86 s\n",
      "Epoch:  82,  train Loss: 0.00311,  validation Loss: 0.00312,  current lr:  0.00023161694628320305 , Time: 2436.43 s\n",
      "Epoch:  83,  train Loss: 0.00311,  validation Loss: 0.00311,  current lr:  0.00023161694628320305 , Time: 2421.60 s\n",
      "Epoch    84: reducing learning rate of group 0 to 1.9687e-04.\n",
      "Epoch:  84,  train Loss: 0.00311,  validation Loss: 0.00312,  current lr:  0.0001968744043407226 , Time: 2448.70 s\n",
      "Epoch:  85,  train Loss: 0.00311,  validation Loss: 0.00312,  current lr:  0.0001968744043407226 , Time: 2396.55 s\n",
      "Epoch:  86,  train Loss: 0.00311,  validation Loss: 0.00312,  current lr:  0.0001968744043407226 , Time: 2288.21 s\n"
     ]
    },
    {
     "ename": "KeyboardInterrupt",
     "evalue": "",
     "output_type": "error",
     "traceback": [
      "\u001b[0;31m---------------------------------------------------------------------------\u001b[0m",
      "\u001b[0;31mKeyboardInterrupt\u001b[0m                         Traceback (most recent call last)",
      "\u001b[0;32m<ipython-input-37-226ebe862e85>\u001b[0m in \u001b[0;36m<module>\u001b[0;34m\u001b[0m\n\u001b[1;32m     20\u001b[0m     \u001b[0mnet\u001b[0m\u001b[0;34m.\u001b[0m\u001b[0mtrain\u001b[0m\u001b[0;34m(\u001b[0m\u001b[0;34m)\u001b[0m\u001b[0;34m\u001b[0m\u001b[0;34m\u001b[0m\u001b[0m\n\u001b[1;32m     21\u001b[0m     \u001b[0mstart_time\u001b[0m \u001b[0;34m=\u001b[0m \u001b[0mtime\u001b[0m\u001b[0;34m(\u001b[0m\u001b[0;34m)\u001b[0m\u001b[0;34m\u001b[0m\u001b[0;34m\u001b[0m\u001b[0m\n\u001b[0;32m---> 22\u001b[0;31m     \u001b[0;32mfor\u001b[0m \u001b[0mbatch\u001b[0m\u001b[0;34m,\u001b[0m \u001b[0;34m(\u001b[0m\u001b[0mtrain_featuresC\u001b[0m\u001b[0;34m,\u001b[0m \u001b[0mtrain_featuresN\u001b[0m\u001b[0;34m,\u001b[0m \u001b[0mtrain_target\u001b[0m\u001b[0;34m)\u001b[0m \u001b[0;32min\u001b[0m \u001b[0menumerate\u001b[0m\u001b[0;34m(\u001b[0m\u001b[0mtrain_loader\u001b[0m\u001b[0;34m)\u001b[0m\u001b[0;34m:\u001b[0m\u001b[0;34m\u001b[0m\u001b[0;34m\u001b[0m\u001b[0m\n\u001b[0m\u001b[1;32m     23\u001b[0m         \u001b[0mbatch_iteration\u001b[0m \u001b[0;34m+=\u001b[0m \u001b[0;36m1\u001b[0m\u001b[0;34m\u001b[0m\u001b[0;34m\u001b[0m\u001b[0m\n\u001b[1;32m     24\u001b[0m \u001b[0;34m\u001b[0m\u001b[0m\n",
      "\u001b[0;32m/opt/anaconda3/lib/python3.8/site-packages/torch/utils/data/dataloader.py\u001b[0m in \u001b[0;36m__next__\u001b[0;34m(self)\u001b[0m\n\u001b[1;32m    361\u001b[0m \u001b[0;34m\u001b[0m\u001b[0m\n\u001b[1;32m    362\u001b[0m     \u001b[0;32mdef\u001b[0m \u001b[0m__next__\u001b[0m\u001b[0;34m(\u001b[0m\u001b[0mself\u001b[0m\u001b[0;34m)\u001b[0m\u001b[0;34m:\u001b[0m\u001b[0;34m\u001b[0m\u001b[0;34m\u001b[0m\u001b[0m\n\u001b[0;32m--> 363\u001b[0;31m         \u001b[0mdata\u001b[0m \u001b[0;34m=\u001b[0m \u001b[0mself\u001b[0m\u001b[0;34m.\u001b[0m\u001b[0m_next_data\u001b[0m\u001b[0;34m(\u001b[0m\u001b[0;34m)\u001b[0m\u001b[0;34m\u001b[0m\u001b[0;34m\u001b[0m\u001b[0m\n\u001b[0m\u001b[1;32m    364\u001b[0m         \u001b[0mself\u001b[0m\u001b[0;34m.\u001b[0m\u001b[0m_num_yielded\u001b[0m \u001b[0;34m+=\u001b[0m \u001b[0;36m1\u001b[0m\u001b[0;34m\u001b[0m\u001b[0;34m\u001b[0m\u001b[0m\n\u001b[1;32m    365\u001b[0m         \u001b[0;32mif\u001b[0m \u001b[0mself\u001b[0m\u001b[0;34m.\u001b[0m\u001b[0m_dataset_kind\u001b[0m \u001b[0;34m==\u001b[0m \u001b[0m_DatasetKind\u001b[0m\u001b[0;34m.\u001b[0m\u001b[0mIterable\u001b[0m \u001b[0;32mand\u001b[0m\u001b[0;31m \u001b[0m\u001b[0;31m\\\u001b[0m\u001b[0;34m\u001b[0m\u001b[0;34m\u001b[0m\u001b[0m\n",
      "\u001b[0;32m/opt/anaconda3/lib/python3.8/site-packages/torch/utils/data/dataloader.py\u001b[0m in \u001b[0;36m_next_data\u001b[0;34m(self)\u001b[0m\n\u001b[1;32m    401\u001b[0m     \u001b[0;32mdef\u001b[0m \u001b[0m_next_data\u001b[0m\u001b[0;34m(\u001b[0m\u001b[0mself\u001b[0m\u001b[0;34m)\u001b[0m\u001b[0;34m:\u001b[0m\u001b[0;34m\u001b[0m\u001b[0;34m\u001b[0m\u001b[0m\n\u001b[1;32m    402\u001b[0m         \u001b[0mindex\u001b[0m \u001b[0;34m=\u001b[0m \u001b[0mself\u001b[0m\u001b[0;34m.\u001b[0m\u001b[0m_next_index\u001b[0m\u001b[0;34m(\u001b[0m\u001b[0;34m)\u001b[0m  \u001b[0;31m# may raise StopIteration\u001b[0m\u001b[0;34m\u001b[0m\u001b[0;34m\u001b[0m\u001b[0m\n\u001b[0;32m--> 403\u001b[0;31m         \u001b[0mdata\u001b[0m \u001b[0;34m=\u001b[0m \u001b[0mself\u001b[0m\u001b[0;34m.\u001b[0m\u001b[0m_dataset_fetcher\u001b[0m\u001b[0;34m.\u001b[0m\u001b[0mfetch\u001b[0m\u001b[0;34m(\u001b[0m\u001b[0mindex\u001b[0m\u001b[0;34m)\u001b[0m  \u001b[0;31m# may raise StopIteration\u001b[0m\u001b[0;34m\u001b[0m\u001b[0;34m\u001b[0m\u001b[0m\n\u001b[0m\u001b[1;32m    404\u001b[0m         \u001b[0;32mif\u001b[0m \u001b[0mself\u001b[0m\u001b[0;34m.\u001b[0m\u001b[0m_pin_memory\u001b[0m\u001b[0;34m:\u001b[0m\u001b[0;34m\u001b[0m\u001b[0;34m\u001b[0m\u001b[0m\n\u001b[1;32m    405\u001b[0m             \u001b[0mdata\u001b[0m \u001b[0;34m=\u001b[0m \u001b[0m_utils\u001b[0m\u001b[0;34m.\u001b[0m\u001b[0mpin_memory\u001b[0m\u001b[0;34m.\u001b[0m\u001b[0mpin_memory\u001b[0m\u001b[0;34m(\u001b[0m\u001b[0mdata\u001b[0m\u001b[0;34m)\u001b[0m\u001b[0;34m\u001b[0m\u001b[0;34m\u001b[0m\u001b[0m\n",
      "\u001b[0;32m/opt/anaconda3/lib/python3.8/site-packages/torch/utils/data/_utils/fetch.py\u001b[0m in \u001b[0;36mfetch\u001b[0;34m(self, possibly_batched_index)\u001b[0m\n\u001b[1;32m     42\u001b[0m     \u001b[0;32mdef\u001b[0m \u001b[0mfetch\u001b[0m\u001b[0;34m(\u001b[0m\u001b[0mself\u001b[0m\u001b[0;34m,\u001b[0m \u001b[0mpossibly_batched_index\u001b[0m\u001b[0;34m)\u001b[0m\u001b[0;34m:\u001b[0m\u001b[0;34m\u001b[0m\u001b[0;34m\u001b[0m\u001b[0m\n\u001b[1;32m     43\u001b[0m         \u001b[0;32mif\u001b[0m \u001b[0mself\u001b[0m\u001b[0;34m.\u001b[0m\u001b[0mauto_collation\u001b[0m\u001b[0;34m:\u001b[0m\u001b[0;34m\u001b[0m\u001b[0;34m\u001b[0m\u001b[0m\n\u001b[0;32m---> 44\u001b[0;31m             \u001b[0mdata\u001b[0m \u001b[0;34m=\u001b[0m \u001b[0;34m[\u001b[0m\u001b[0mself\u001b[0m\u001b[0;34m.\u001b[0m\u001b[0mdataset\u001b[0m\u001b[0;34m[\u001b[0m\u001b[0midx\u001b[0m\u001b[0;34m]\u001b[0m \u001b[0;32mfor\u001b[0m \u001b[0midx\u001b[0m \u001b[0;32min\u001b[0m \u001b[0mpossibly_batched_index\u001b[0m\u001b[0;34m]\u001b[0m\u001b[0;34m\u001b[0m\u001b[0;34m\u001b[0m\u001b[0m\n\u001b[0m\u001b[1;32m     45\u001b[0m         \u001b[0;32melse\u001b[0m\u001b[0;34m:\u001b[0m\u001b[0;34m\u001b[0m\u001b[0;34m\u001b[0m\u001b[0m\n\u001b[1;32m     46\u001b[0m             \u001b[0mdata\u001b[0m \u001b[0;34m=\u001b[0m \u001b[0mself\u001b[0m\u001b[0;34m.\u001b[0m\u001b[0mdataset\u001b[0m\u001b[0;34m[\u001b[0m\u001b[0mpossibly_batched_index\u001b[0m\u001b[0;34m]\u001b[0m\u001b[0;34m\u001b[0m\u001b[0;34m\u001b[0m\u001b[0m\n",
      "\u001b[0;32m/opt/anaconda3/lib/python3.8/site-packages/torch/utils/data/_utils/fetch.py\u001b[0m in \u001b[0;36m<listcomp>\u001b[0;34m(.0)\u001b[0m\n\u001b[1;32m     42\u001b[0m     \u001b[0;32mdef\u001b[0m \u001b[0mfetch\u001b[0m\u001b[0;34m(\u001b[0m\u001b[0mself\u001b[0m\u001b[0;34m,\u001b[0m \u001b[0mpossibly_batched_index\u001b[0m\u001b[0;34m)\u001b[0m\u001b[0;34m:\u001b[0m\u001b[0;34m\u001b[0m\u001b[0;34m\u001b[0m\u001b[0m\n\u001b[1;32m     43\u001b[0m         \u001b[0;32mif\u001b[0m \u001b[0mself\u001b[0m\u001b[0;34m.\u001b[0m\u001b[0mauto_collation\u001b[0m\u001b[0;34m:\u001b[0m\u001b[0;34m\u001b[0m\u001b[0;34m\u001b[0m\u001b[0m\n\u001b[0;32m---> 44\u001b[0;31m             \u001b[0mdata\u001b[0m \u001b[0;34m=\u001b[0m \u001b[0;34m[\u001b[0m\u001b[0mself\u001b[0m\u001b[0;34m.\u001b[0m\u001b[0mdataset\u001b[0m\u001b[0;34m[\u001b[0m\u001b[0midx\u001b[0m\u001b[0;34m]\u001b[0m \u001b[0;32mfor\u001b[0m \u001b[0midx\u001b[0m \u001b[0;32min\u001b[0m \u001b[0mpossibly_batched_index\u001b[0m\u001b[0;34m]\u001b[0m\u001b[0;34m\u001b[0m\u001b[0;34m\u001b[0m\u001b[0m\n\u001b[0m\u001b[1;32m     45\u001b[0m         \u001b[0;32melse\u001b[0m\u001b[0;34m:\u001b[0m\u001b[0;34m\u001b[0m\u001b[0;34m\u001b[0m\u001b[0m\n\u001b[1;32m     46\u001b[0m             \u001b[0mdata\u001b[0m \u001b[0;34m=\u001b[0m \u001b[0mself\u001b[0m\u001b[0;34m.\u001b[0m\u001b[0mdataset\u001b[0m\u001b[0;34m[\u001b[0m\u001b[0mpossibly_batched_index\u001b[0m\u001b[0;34m]\u001b[0m\u001b[0;34m\u001b[0m\u001b[0;34m\u001b[0m\u001b[0m\n",
      "\u001b[0;32m<ipython-input-8-601220a0cecd>\u001b[0m in \u001b[0;36m__getitem__\u001b[0;34m(self, idx)\u001b[0m\n\u001b[1;32m     12\u001b[0m         \u001b[0;32mfor\u001b[0m \u001b[0mi\u001b[0m \u001b[0;32min\u001b[0m \u001b[0membedded_N\u001b[0m\u001b[0;34m:\u001b[0m\u001b[0;34m\u001b[0m\u001b[0;34m\u001b[0m\u001b[0m\n\u001b[1;32m     13\u001b[0m             \u001b[0mdf_Cat\u001b[0m\u001b[0;34m[\u001b[0m\u001b[0mi\u001b[0m\u001b[0;34m]\u001b[0m \u001b[0;34m=\u001b[0m  \u001b[0mself\u001b[0m\u001b[0;34m.\u001b[0m\u001b[0mX\u001b[0m\u001b[0;34m[\u001b[0m\u001b[0mi\u001b[0m\u001b[0;34m]\u001b[0m\u001b[0;34m\u001b[0m\u001b[0;34m\u001b[0m\u001b[0m\n\u001b[0;32m---> 14\u001b[0;31m         \u001b[0mdf_Cat\u001b[0m\u001b[0;34m=\u001b[0m\u001b[0mtorch\u001b[0m\u001b[0;34m.\u001b[0m\u001b[0mtensor\u001b[0m\u001b[0;34m(\u001b[0m \u001b[0mdf_Cat\u001b[0m\u001b[0;34m.\u001b[0m\u001b[0mvalues\u001b[0m\u001b[0;34m.\u001b[0m\u001b[0mastype\u001b[0m\u001b[0;34m(\u001b[0m\u001b[0mnp\u001b[0m\u001b[0;34m.\u001b[0m\u001b[0mint64\u001b[0m\u001b[0;34m)\u001b[0m\u001b[0;34m)\u001b[0m\u001b[0;34m\u001b[0m\u001b[0;34m\u001b[0m\u001b[0m\n\u001b[0m\u001b[1;32m     15\u001b[0m         \u001b[0;32mreturn\u001b[0m \u001b[0mdf_Cat\u001b[0m\u001b[0;34m[\u001b[0m\u001b[0midx\u001b[0m\u001b[0;34m]\u001b[0m\u001b[0;34m,\u001b[0m \u001b[0mself\u001b[0m\u001b[0;34m.\u001b[0m\u001b[0mnum\u001b[0m\u001b[0;34m[\u001b[0m\u001b[0midx\u001b[0m\u001b[0;34m]\u001b[0m\u001b[0;34m,\u001b[0m \u001b[0mself\u001b[0m\u001b[0;34m.\u001b[0m\u001b[0my\u001b[0m\u001b[0;34m[\u001b[0m\u001b[0midx\u001b[0m\u001b[0;34m]\u001b[0m\u001b[0;34m\u001b[0m\u001b[0;34m\u001b[0m\u001b[0m\n\u001b[1;32m     16\u001b[0m \u001b[0;34m\u001b[0m\u001b[0m\n",
      "\u001b[0;31mKeyboardInterrupt\u001b[0m: "
     ]
    }
   ],
   "source": [
    "from time import time\n",
    "mini_batch = False\n",
    "#net = Model(embedding_sizes, numCount)\n",
    "history = {'train_loss': list(), 'validation_loss': list()}\n",
    "last_score = 0\n",
    "criterion = nn.CrossEntropyLoss()\n",
    "optimizer = optim.SGD(net.parameters(), lr=0.001, momentum=0.9)\n",
    "scheduler = optim.lr_scheduler.ReduceLROnPlateau(optimizer, factor = 0.85, patience = 2, verbose = True)\n",
    "EPOCHS = 100\n",
    "\n",
    "train_epoch_loss = []\n",
    "validation_epoch_loss = []\n",
    "print('Starting Training Process')\n",
    "for epoch in range(EPOCHS):\n",
    "    train_loss = []\n",
    "    validation_loss = []\n",
    "\n",
    "    train_epoch_loss, train_batch_loss, batch_iteration = 0, 0, 0\n",
    "    validation_score, validation_loss = 0, 0\n",
    "    net.train()\n",
    "    start_time = time()\n",
    "    for batch, (train_featuresC, train_featuresN, train_target) in enumerate(train_loader):\n",
    "        batch_iteration += 1  \n",
    "        \n",
    "        train_target_predicted = net(train_featuresC,train_featuresN)\n",
    "        # compute the loss\n",
    "        loss_value = F.cross_entropy(train_target_predicted, train_target)\n",
    "        train_loss.append(loss_value.cpu().data.item())\n",
    "\n",
    "        # reset the gradient\n",
    "        optimizer.zero_grad()\n",
    "        # backpropagate the loss\n",
    "        loss_value.backward()\n",
    "        # update the parameters\n",
    "        optimizer.step()\n",
    "\n",
    "        #######################################################\n",
    "        ###################### Validation #####################\n",
    "        #######################################################\n",
    "        # Set the model to evaluation mode so that parameters are fixed.\n",
    "        net.eval()\n",
    "\n",
    "        train_epoch_loss += loss_value.item()\n",
    "        train_batch_loss += loss_value.item()\n",
    "        \n",
    "        # Printing batch logs if any. Useful if you want to see the training trends within each epoch.\n",
    "        if mini_batch:\n",
    "            if (batch + 1) % mini_batch == 0:\n",
    "                train_batch_loss = train_batch_loss / (mini_batch * train_loader.batch_size)\n",
    "                print(\n",
    "                    f'    Batch: {batch + 1:2d},\\tBatch Loss: {train_batch_loss:.7f}')\n",
    "                train_batch_loss = 0\n",
    "\n",
    "    train_epoch_loss = train_epoch_loss / (batch_iteration * train_loader.batch_size)\n",
    "    \n",
    "    ################################### Validation ##################################################\n",
    "    net.eval()\n",
    "    # To get data in loops.\n",
    "    batch_iteration = 0\n",
    "    \n",
    "    for batch, (test_featuresC,test_featuresN, test_target) in enumerate(validation_loader):\n",
    "        # Keeping track how many iteration is happening.\n",
    "        batch_iteration += 1\n",
    "        # Predicted output from the input sample.\n",
    "        target_prediction = net(test_featuresC,test_featuresN)\n",
    "        \n",
    "        # comput validation loss\n",
    "        loss_value = criterion(target_prediction, test_target)\n",
    "        validation_loss += loss_value.item()\n",
    "        \n",
    "        # Threshold elimination.\n",
    "\n",
    "        #target_prediction = target_prediction.cpu().numpy()\n",
    "    \n",
    "    # Calculating the mean score for the whole validation dataset.\n",
    "    validation_loss = validation_loss / (batch_iteration * train_loader.batch_size)\n",
    "    \n",
    "    # Collecting all epoch loss values for future visualization.\n",
    "    history['train_loss'].append(train_epoch_loss)\n",
    "    history['validation_loss'].append(validation_loss)\n",
    "    \n",
    "    # Reduce LR On Plateau\n",
    "    scheduler.step(validation_loss)\n",
    "\n",
    "    time_taken = time() - start_time\n",
    "    \n",
    "    # Training Logs printed.\n",
    "    print(f'Epoch: {epoch + 1:3d},  ', end = '')\n",
    "    print(f'train Loss: {train_epoch_loss:.5f},  ', end = '')\n",
    "    print(f'validation Loss: {validation_loss:.5f},  ', end = '')\n",
    "\n",
    "    \n",
    "    for pg in optimizer.param_groups:\n",
    "        print('current lr: ', pg['lr'], ', ', end = '')\n",
    "    print(f'Time: {time_taken:.2f} s', end = '')\n",
    "\n",
    "    # Save the model every epoch.\n",
    "    current_epoch_model_save_path = os.path.join(model_save_path, 'Basic_DL_epoch_%s.pth' % (str(epoch).zfill(3)))\n",
    "    torch.save(net.state_dict(), current_epoch_model_save_path)\n",
    "    \n",
    "    # Save the best model (determined by validation score) and give it a unique name.\n",
    "    best_model_path = os.path.join(model_save_path, 'Basic_DL_best_model.pth')\n",
    "    if  last_score < validation_loss:\n",
    "        torch.save(net.state_dict(), best_model_path)\n",
    "        last_score = validation_loss\n",
    "        print(f'\\tBest model saved at loss: {validation_loss:.5f}')\n",
    "    else:\n",
    "        print()\n",
    "\n",
    "print(f'Training Finished after {EPOCHS} epoches')\n"
   ]
  },
  {
   "cell_type": "code",
   "execution_count": 38,
   "metadata": {},
   "outputs": [
    {
     "data": {
      "image/png": "[encoded data removed]",
      "text/plain": [
       "<Figure size 1440x720 with 1 Axes>"
      ]
     },
     "metadata": {
      "needs_background": "light"
     },
     "output_type": "display_data"
    }
   ],
   "source": [
    "plt.figure(figsize=(20, 10))\n",
    "plt.title('Loss Over Epoch')\n",
    "plt.xlabel('Epochs')\n",
    "plt.ylabel('Loss Value')\n",
    "train_curve = plt.plot(history['train_loss'], marker = 'o', label = 'Train loss')\n",
    "validation_curve = plt.plot(history['validation_loss'], marker = 'o', label = 'Validation loss')\n",
    "plt.legend(fontsize = 15)\n",
    "plt.show()"
   ]
  },
  {
   "cell_type": "code",
   "execution_count": 39,
   "metadata": {},
   "outputs": [
    {
     "data": {
      "text/plain": [
       "68"
      ]
     },
     "execution_count": 39,
     "metadata": {},
     "output_type": "execute_result"
    }
   ],
   "source": [
    "history['validation_loss'].index(min(history['validation_loss']))\n"
   ]
  },
  {
   "cell_type": "code",
   "execution_count": 40,
   "metadata": {},
   "outputs": [
    {
     "name": "stdout",
     "output_type": "stream",
     "text": [
      "{'0-10': 0, '11-20': 1, '21-30': 2, '31-40': 3, '41-50': 4, '51-60': 5, '61-70': 6, '71-80': 7, '81-90': 8, '91-100': 9}\n"
     ]
    }
   ],
   "source": [
    "record_dataset = Cat_Num_Dataset(x, y, embedded_N)\n",
    "record_loader = DataLoader(record_dataset, batch_size=batch_size,shuffle=False)\n",
    "df_test=groupFeature(df_test)\n",
    "xx = df_test.drop([\"City_Code_Patient\", \"patientid\"],axis=1, inplace=False)\n",
    "TestRecord_dataset = Cat_Num_Dataset(xx, xx, embedded_N)\n",
    "TestRecord_loader = DataLoader(TestRecord_dataset, batch_size=batch_size,shuffle=False)"
   ]
  },
  {
   "cell_type": "markdown",
   "metadata": {},
   "source": [
    "## Predict on training dataset"
   ]
  },
  {
   "cell_type": "code",
   "execution_count": 43,
   "metadata": {},
   "outputs": [
    {
     "data": {
      "text/plain": [
       "0.4047098650286712"
      ]
     },
     "execution_count": 43,
     "metadata": {},
     "output_type": "execute_result"
    }
   ],
   "source": [
    "# Load the unet model at its prime (when it performed the best on the validation set).\n",
    "state_dict = torch.load(os.path.join(model_save_path, 'Basic_DL_epoch_068.pth'))\n",
    "net.load_state_dict(state_dict)\n",
    "\n",
    "# Testing process on test data.\n",
    "net.eval()\n",
    "\n",
    "result=[]#np.empty([1, 1])\n",
    "targetResult=[]#np.empty([1, 1])\n",
    "\n",
    "for batch, (test_featuresC,test_featuresN, test_target) in enumerate(record_loader):\n",
    "    # Data prepared to be given as input to model.\n",
    "    # Predicted output from the input sample.\n",
    "    target_prediction = net(test_featuresC,test_featuresN)\n",
    "    p,predicted = torch.max(target_prediction.data, 1)\n",
    "    predicted=predicted.numpy()\n",
    "    #print(predicted)\n",
    "    result=np.append(result,predicted)\n",
    "    targetResult=np.append(targetResult,test_target.numpy())\n",
    "accuracy_score(targetResult, result)"
   ]
  },
  {
   "cell_type": "code",
   "execution_count": 44,
   "metadata": {},
   "outputs": [],
   "source": [
    "df_train = pd.read_csv(\"train_data.csv\")\n",
    "df_train[\"StayCat\"]=result\n",
    "df_train.to_csv(\"train_data_emb.csv\") "
   ]
  },
  {
   "cell_type": "markdown",
   "metadata": {},
   "source": [
    "## Predict on test dataset"
   ]
  },
  {
   "cell_type": "code",
   "execution_count": 45,
   "metadata": {},
   "outputs": [],
   "source": [
    "resultt=[]\n",
    "for batch, (test_featuresC,test_featuresN, test_target) in enumerate(TestRecord_loader):\n",
    "    # Data prepared to be given as input to model.\n",
    "    # Predicted output from the input sample.\n",
    "    target_prediction = net(test_featuresC,test_featuresN)\n",
    "    p,predicted = torch.max(target_prediction.data, 1)\n",
    "    predicted=predicted.numpy()\n",
    "    #print(predicted)\n",
    "    resultt=np.append(resultt,predicted)\n"
   ]
  },
  {
   "cell_type": "markdown",
   "metadata": {},
   "source": [
    "## Save"
   ]
  },
  {
   "cell_type": "code",
   "execution_count": 46,
   "metadata": {},
   "outputs": [],
   "source": [
    "df_test = pd.read_csv(\"test_data.csv\")\n",
    "df_test[\"StayCat\"]=resultt\n",
    "df_test.to_csv(\"test_data_emb.csv\")"
   ]
  },
  {
   "cell_type": "code",
   "execution_count": 48,
   "metadata": {},
   "outputs": [],
   "source": [
    "df_ID = pd.read_csv(\"test_data.csv\")\n",
    "dR = {'case_id': df_ID[\"case_id\"]}\n",
    "d_result = pd.DataFrame(data=dR)\n",
    "\n",
    "d_result[\"Stay\"]=resultt\n",
    "d_result['Stay'] = d_result['Stay'].map({0.: '0-10',1.: '11-20', 2.: '21-30',3.: '31-40', \n",
    "                                         4.: '41-50',5.: '51-60', 6.: '61-70',7.: '71-80',\n",
    "                                         8.: '81-90', 9.: '91-100',10.: 'More than 100 Days'})\n",
    "\n",
    "d_result.to_csv(r'outputE.csv', index = False)"
   ]
  }
 ],
 "metadata": {
  "kernelspec": {
   "display_name": "Python 3",
   "language": "python",
   "name": "python3"
  },
  "language_info": {
   "codemirror_mode": {
    "name": "ipython",
    "version": 3
   },
   "file_extension": ".py",
   "mimetype": "text/x-python",
   "name": "python",
   "nbconvert_exporter": "python",
   "pygments_lexer": "ipython3",
   "version": "3.8.3"
  }
 },
 "nbformat": 4,
 "nbformat_minor": 4
}
