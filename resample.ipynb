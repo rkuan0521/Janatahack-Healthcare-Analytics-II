{
 "cells": [
  {
   "cell_type": "markdown",
   "metadata": {},
   "source": [
    "<font size=\"7\" Bold:> Oversample the imbalanced data."
   ]
  },
  {
   "cell_type": "code",
   "execution_count": 1,
   "metadata": {},
   "outputs": [
    {
     "name": "stdout",
     "output_type": "stream",
     "text": [
      "(318438, 17)\n"
     ]
    }
   ],
   "source": [
    "import imblearn\n",
    "from imblearn.over_sampling import SMOTE\n",
    "import numpy as np\n",
    "import pandas as pd\n",
    "import matplotlib.pyplot as plt\n",
    "import os\n",
    "from collections import Counter\n",
    "import torch\n",
    "import preprocessing as pp\n",
    "import seaborn as sns\n",
    "from sklearn.preprocessing import StandardScaler\n",
    "df_train = pd.read_csv(\"train_data.csv\",index_col=0)\n",
    "print(df_train.shape)"
   ]
  },
  {
   "cell_type": "code",
   "execution_count": 2,
   "metadata": {},
   "outputs": [],
   "source": [
    "df_train= pp.FeatureProcessing(df_train)\n",
    "stay_list = df_train[\"Stay\"].unique()\n",
    "stay_list.sort()\n",
    "dept_Stay = dict(zip(stay_list, range(len(stay_list))))\n",
    "#print(dept_Stay)\n",
    "df_train[\"Stay\"].replace(dept_Stay, inplace=True)\n",
    "y = df_train.Stay\n",
    "x = df_train.drop([\"Stay\", \"City_Code_Patient\", \"patientid\"],axis=1, inplace=False)"
   ]
  },
  {
   "cell_type": "code",
   "execution_count": 3,
   "metadata": {},
   "outputs": [
    {
     "name": "stdout",
     "output_type": "stream",
     "text": [
      "Class=0, n=23604 (7.412%)\n",
      "Class=4, n=11743 (3.688%)\n",
      "Class=3, n=55159 (17.322%)\n",
      "Class=1, n=78139 (24.538%)\n",
      "Class=5, n=35018 (10.997%)\n",
      "Class=2, n=87491 (27.475%)\n",
      "Class=7, n=10254 (3.220%)\n",
      "Class=10, n=6683 (2.099%)\n",
      "Class=8, n=4838 (1.519%)\n",
      "Class=6, n=2744 (0.862%)\n",
      "Class=9, n=2765 (0.868%)\n"
     ]
    },
    {
     "data": {
      "image/png": "[encoded data removed]",
      "text/plain": [
       "<Figure size 432x288 with 1 Axes>"
      ]
     },
     "metadata": {
      "needs_background": "light"
     },
     "output_type": "display_data"
    }
   ],
   "source": [
    "counter = Counter(y)\n",
    "for Class, Amount in counter.items():\n",
    "    per = Amount / len(y) * 100\n",
    "    print('Class=%d, n=%d (%.3f%%)' % (Class, Amount, per))\n",
    "plt.bar(counter.keys(), counter.values())\n",
    "plt.title(\"Distribution\")\n",
    "plt.show()"
   ]
  },
  {
   "cell_type": "markdown",
   "metadata": {},
   "source": [
    "<br>\n",
    "<font size=\"5\" Bold:> Evenly Distributed"
   ]
  },
  {
   "cell_type": "code",
   "execution_count": 4,
   "metadata": {},
   "outputs": [
    {
     "name": "stdout",
     "output_type": "stream",
     "text": [
      "Class=0, n=23604 (2.453%)\n",
      "Class=4, n=11743 (1.220%)\n",
      "Class=3, n=55159 (5.731%)\n",
      "Class=1, n=78139 (8.119%)\n",
      "Class=5, n=35018 (3.639%)\n",
      "Class=2, n=87491 (9.091%)\n",
      "Class=7, n=10254 (1.065%)\n",
      "Class=10, n=6683 (0.694%)\n",
      "Class=8, n=4838 (0.503%)\n",
      "Class=6, n=2744 (0.285%)\n",
      "Class=9, n=2765 (0.287%)\n"
     ]
    },
    {
     "data": {
      "image/png": "[encoded data removed]",
      "text/plain": [
       "<Figure size 432x288 with 1 Axes>"
      ]
     },
     "metadata": {
      "needs_background": "light"
     },
     "output_type": "display_data"
    }
   ],
   "source": [
    "# transform the dataset\n",
    "oversample = SMOTE()\n",
    "xx, yy = oversample.fit_resample(x, y)\n",
    "counter = Counter(y)\n",
    "for Class, Amount in counter.items():\n",
    "    per = Amount / len(yy) * 100\n",
    "    print('Class=%d, n=%d (%.3f%%)' % (Class, Amount, per))\n",
    "plt.bar(counter.keys(), counter.values())\n",
    "plt.title(\"Distribution\")\n",
    "plt.show()"
   ]
  },
  {
   "cell_type": "markdown",
   "metadata": {},
   "source": [
    "<br>\n",
    "<font size=\"5\" Bold:> Customized strategy"
   ]
  },
  {
   "cell_type": "code",
   "execution_count": 5,
   "metadata": {},
   "outputs": [
    {
     "data": {
      "text/plain": [
       "array([ 3,  5,  1,  2,  6,  9, 10,  4, 11,  7, 13])"
      ]
     },
     "execution_count": 5,
     "metadata": {},
     "output_type": "execute_result"
    }
   ],
   "source": [
    "x.City_Code_Hospital.unique()"
   ]
  },
  {
   "cell_type": "code",
   "execution_count": 6,
   "metadata": {},
   "outputs": [
    {
     "name": "stdout",
     "output_type": "stream",
     "text": [
      "Class=0, n=23604 (5.606%)\n",
      "Class=1, n=23604 (5.606%)\n",
      "Class=2, n=55159 (13.101%)\n",
      "Class=3, n=78139 (18.559%)\n",
      "Class=4, n=35018 (8.317%)\n",
      "Class=5, n=87491 (20.780%)\n",
      "Class=6, n=23604 (5.606%)\n",
      "Class=7, n=23604 (5.606%)\n",
      "Class=8, n=23604 (5.606%)\n",
      "Class=9, n=23603 (5.606%)\n",
      "Class=10, n=23603 (5.606%)\n"
     ]
    },
    {
     "data": {
      "image/png": "[encoded data removed]",
      "text/plain": [
       "<Figure size 432x288 with 1 Axes>"
      ]
     },
     "metadata": {
      "needs_background": "light"
     },
     "output_type": "display_data"
    }
   ],
   "source": [
    "strategy = {0:23604, 1:78139, 2:87491, 3:55159, 4:23604, 5:35018, 6: 23604, 7: 23604, 8: 23604, 9: 23604, 10: 23604}\n",
    "oversample = SMOTE(sampling_strategy=strategy)\n",
    "x, y = oversample.fit_resample(x, y)\n",
    "\n",
    "dic=y.unique()\n",
    "dic.sort()\n",
    "x[\"Stay\"]=y.map({dic[0]: '0-10',dic[1]: '11-20', dic[2]: '21-30',dic[3]: '31-40', \n",
    "                                         dic[4]: '41-50',dic[5]: '51-60', dic[6]: '61-70',dic[7]: '71-80',\n",
    "                                         dic[8]: '81-90', dic[9]: '91-100',dic[10]: 'More than 100 Days'})\n",
    "\n",
    "x = x[x.City_Code_Hospital != 8]\n",
    "x = x[x.City_Code_Hospital != 12]\n",
    "counter = Counter(x[\"Stay\"])\n",
    "i=0\n",
    "for Class, Amount in counter.items():\n",
    "    per = Amount / len(x) * 100\n",
    "    print('Class=%d, n=%d (%.3f%%)' % (i, Amount, per))\n",
    "    i=i+1\n",
    "plt.bar(counter.keys(), counter.values())\n",
    "plt.title(\"Distribution\")\n",
    "plt.show()"
   ]
  },
  {
   "cell_type": "code",
   "execution_count": 7,
   "metadata": {},
   "outputs": [
    {
     "data": {
      "text/html": [
       "<div>\n",
       "<style scoped>\n",
       "    .dataframe tbody tr th:only-of-type {\n",
       "        vertical-align: middle;\n",
       "    }\n",
       "\n",
       "    .dataframe tbody tr th {\n",
       "        vertical-align: top;\n",
       "    }\n",
       "\n",
       "    .dataframe thead th {\n",
       "        text-align: right;\n",
       "    }\n",
       "</style>\n",
       "<table border=\"1\" class=\"dataframe\">\n",
       "  <thead>\n",
       "    <tr style=\"text-align: right;\">\n",
       "      <th></th>\n",
       "      <th>Hospital_code</th>\n",
       "      <th>Hospital_type_code</th>\n",
       "      <th>City_Code_Hospital</th>\n",
       "      <th>Hospital_region_code</th>\n",
       "      <th>Available Extra Rooms in Hospital</th>\n",
       "      <th>Department</th>\n",
       "      <th>Ward_Type</th>\n",
       "      <th>Ward_Facility_Code</th>\n",
       "      <th>Bed Grade</th>\n",
       "      <th>Type of Admission</th>\n",
       "      <th>Severity of Illness</th>\n",
       "      <th>Visitors with Patient</th>\n",
       "      <th>Age</th>\n",
       "      <th>Admission_Deposit</th>\n",
       "      <th>Stay</th>\n",
       "    </tr>\n",
       "  </thead>\n",
       "  <tbody>\n",
       "    <tr>\n",
       "      <th>0</th>\n",
       "      <td>8</td>\n",
       "      <td>2</td>\n",
       "      <td>3</td>\n",
       "      <td>2</td>\n",
       "      <td>3</td>\n",
       "      <td>3</td>\n",
       "      <td>2</td>\n",
       "      <td>5</td>\n",
       "      <td>2.000000</td>\n",
       "      <td>0</td>\n",
       "      <td>3</td>\n",
       "      <td>2</td>\n",
       "      <td>5</td>\n",
       "      <td>0.027835</td>\n",
       "      <td>0-10</td>\n",
       "    </tr>\n",
       "    <tr>\n",
       "      <th>1</th>\n",
       "      <td>2</td>\n",
       "      <td>2</td>\n",
       "      <td>5</td>\n",
       "      <td>2</td>\n",
       "      <td>2</td>\n",
       "      <td>3</td>\n",
       "      <td>3</td>\n",
       "      <td>5</td>\n",
       "      <td>2.000000</td>\n",
       "      <td>1</td>\n",
       "      <td>3</td>\n",
       "      <td>2</td>\n",
       "      <td>5</td>\n",
       "      <td>0.987556</td>\n",
       "      <td>41-50</td>\n",
       "    </tr>\n",
       "    <tr>\n",
       "      <th>2</th>\n",
       "      <td>10</td>\n",
       "      <td>4</td>\n",
       "      <td>1</td>\n",
       "      <td>0</td>\n",
       "      <td>2</td>\n",
       "      <td>1</td>\n",
       "      <td>3</td>\n",
       "      <td>4</td>\n",
       "      <td>2.000000</td>\n",
       "      <td>1</td>\n",
       "      <td>3</td>\n",
       "      <td>2</td>\n",
       "      <td>5</td>\n",
       "      <td>-0.124910</td>\n",
       "      <td>31-40</td>\n",
       "    </tr>\n",
       "    <tr>\n",
       "      <th>3</th>\n",
       "      <td>26</td>\n",
       "      <td>1</td>\n",
       "      <td>2</td>\n",
       "      <td>1</td>\n",
       "      <td>2</td>\n",
       "      <td>3</td>\n",
       "      <td>2</td>\n",
       "      <td>3</td>\n",
       "      <td>2.000000</td>\n",
       "      <td>1</td>\n",
       "      <td>3</td>\n",
       "      <td>2</td>\n",
       "      <td>5</td>\n",
       "      <td>2.200319</td>\n",
       "      <td>41-50</td>\n",
       "    </tr>\n",
       "    <tr>\n",
       "      <th>4</th>\n",
       "      <td>26</td>\n",
       "      <td>1</td>\n",
       "      <td>2</td>\n",
       "      <td>1</td>\n",
       "      <td>2</td>\n",
       "      <td>3</td>\n",
       "      <td>3</td>\n",
       "      <td>3</td>\n",
       "      <td>2.000000</td>\n",
       "      <td>1</td>\n",
       "      <td>3</td>\n",
       "      <td>2</td>\n",
       "      <td>5</td>\n",
       "      <td>0.623175</td>\n",
       "      <td>41-50</td>\n",
       "    </tr>\n",
       "    <tr>\n",
       "      <th>...</th>\n",
       "      <td>...</td>\n",
       "      <td>...</td>\n",
       "      <td>...</td>\n",
       "      <td>...</td>\n",
       "      <td>...</td>\n",
       "      <td>...</td>\n",
       "      <td>...</td>\n",
       "      <td>...</td>\n",
       "      <td>...</td>\n",
       "      <td>...</td>\n",
       "      <td>...</td>\n",
       "      <td>...</td>\n",
       "      <td>...</td>\n",
       "      <td>...</td>\n",
       "      <td>...</td>\n",
       "    </tr>\n",
       "    <tr>\n",
       "      <th>421030</th>\n",
       "      <td>22</td>\n",
       "      <td>6</td>\n",
       "      <td>9</td>\n",
       "      <td>1</td>\n",
       "      <td>1</td>\n",
       "      <td>2</td>\n",
       "      <td>2</td>\n",
       "      <td>1</td>\n",
       "      <td>3.820127</td>\n",
       "      <td>1</td>\n",
       "      <td>2</td>\n",
       "      <td>8</td>\n",
       "      <td>4</td>\n",
       "      <td>-1.184533</td>\n",
       "      <td>More than 100 Days</td>\n",
       "    </tr>\n",
       "    <tr>\n",
       "      <th>421031</th>\n",
       "      <td>8</td>\n",
       "      <td>2</td>\n",
       "      <td>3</td>\n",
       "      <td>2</td>\n",
       "      <td>2</td>\n",
       "      <td>2</td>\n",
       "      <td>2</td>\n",
       "      <td>5</td>\n",
       "      <td>2.377635</td>\n",
       "      <td>0</td>\n",
       "      <td>2</td>\n",
       "      <td>9</td>\n",
       "      <td>7</td>\n",
       "      <td>0.565949</td>\n",
       "      <td>More than 100 Days</td>\n",
       "    </tr>\n",
       "    <tr>\n",
       "      <th>421032</th>\n",
       "      <td>29</td>\n",
       "      <td>0</td>\n",
       "      <td>4</td>\n",
       "      <td>0</td>\n",
       "      <td>2</td>\n",
       "      <td>2</td>\n",
       "      <td>3</td>\n",
       "      <td>5</td>\n",
       "      <td>3.589823</td>\n",
       "      <td>1</td>\n",
       "      <td>1</td>\n",
       "      <td>8</td>\n",
       "      <td>7</td>\n",
       "      <td>-0.622472</td>\n",
       "      <td>More than 100 Days</td>\n",
       "    </tr>\n",
       "    <tr>\n",
       "      <th>421033</th>\n",
       "      <td>26</td>\n",
       "      <td>1</td>\n",
       "      <td>2</td>\n",
       "      <td>1</td>\n",
       "      <td>2</td>\n",
       "      <td>2</td>\n",
       "      <td>2</td>\n",
       "      <td>3</td>\n",
       "      <td>3.000000</td>\n",
       "      <td>1</td>\n",
       "      <td>2</td>\n",
       "      <td>8</td>\n",
       "      <td>6</td>\n",
       "      <td>0.455912</td>\n",
       "      <td>More than 100 Days</td>\n",
       "    </tr>\n",
       "    <tr>\n",
       "      <th>421034</th>\n",
       "      <td>26</td>\n",
       "      <td>1</td>\n",
       "      <td>2</td>\n",
       "      <td>1</td>\n",
       "      <td>1</td>\n",
       "      <td>2</td>\n",
       "      <td>3</td>\n",
       "      <td>3</td>\n",
       "      <td>3.000000</td>\n",
       "      <td>1</td>\n",
       "      <td>2</td>\n",
       "      <td>4</td>\n",
       "      <td>3</td>\n",
       "      <td>1.025092</td>\n",
       "      <td>More than 100 Days</td>\n",
       "    </tr>\n",
       "  </tbody>\n",
       "</table>\n",
       "<p>421033 rows × 15 columns</p>\n",
       "</div>"
      ],
      "text/plain": [
       "        Hospital_code  Hospital_type_code  City_Code_Hospital  \\\n",
       "0                   8                   2                   3   \n",
       "1                   2                   2                   5   \n",
       "2                  10                   4                   1   \n",
       "3                  26                   1                   2   \n",
       "4                  26                   1                   2   \n",
       "...               ...                 ...                 ...   \n",
       "421030             22                   6                   9   \n",
       "421031              8                   2                   3   \n",
       "421032             29                   0                   4   \n",
       "421033             26                   1                   2   \n",
       "421034             26                   1                   2   \n",
       "\n",
       "        Hospital_region_code  Available Extra Rooms in Hospital  Department  \\\n",
       "0                          2                                  3           3   \n",
       "1                          2                                  2           3   \n",
       "2                          0                                  2           1   \n",
       "3                          1                                  2           3   \n",
       "4                          1                                  2           3   \n",
       "...                      ...                                ...         ...   \n",
       "421030                     1                                  1           2   \n",
       "421031                     2                                  2           2   \n",
       "421032                     0                                  2           2   \n",
       "421033                     1                                  2           2   \n",
       "421034                     1                                  1           2   \n",
       "\n",
       "        Ward_Type  Ward_Facility_Code  Bed Grade  Type of Admission  \\\n",
       "0               2                   5   2.000000                  0   \n",
       "1               3                   5   2.000000                  1   \n",
       "2               3                   4   2.000000                  1   \n",
       "3               2                   3   2.000000                  1   \n",
       "4               3                   3   2.000000                  1   \n",
       "...           ...                 ...        ...                ...   \n",
       "421030          2                   1   3.820127                  1   \n",
       "421031          2                   5   2.377635                  0   \n",
       "421032          3                   5   3.589823                  1   \n",
       "421033          2                   3   3.000000                  1   \n",
       "421034          3                   3   3.000000                  1   \n",
       "\n",
       "        Severity of Illness  Visitors with Patient  Age  Admission_Deposit  \\\n",
       "0                         3                      2    5           0.027835   \n",
       "1                         3                      2    5           0.987556   \n",
       "2                         3                      2    5          -0.124910   \n",
       "3                         3                      2    5           2.200319   \n",
       "4                         3                      2    5           0.623175   \n",
       "...                     ...                    ...  ...                ...   \n",
       "421030                    2                      8    4          -1.184533   \n",
       "421031                    2                      9    7           0.565949   \n",
       "421032                    1                      8    7          -0.622472   \n",
       "421033                    2                      8    6           0.455912   \n",
       "421034                    2                      4    3           1.025092   \n",
       "\n",
       "                      Stay  \n",
       "0                     0-10  \n",
       "1                    41-50  \n",
       "2                    31-40  \n",
       "3                    41-50  \n",
       "4                    41-50  \n",
       "...                    ...  \n",
       "421030  More than 100 Days  \n",
       "421031  More than 100 Days  \n",
       "421032  More than 100 Days  \n",
       "421033  More than 100 Days  \n",
       "421034  More than 100 Days  \n",
       "\n",
       "[421033 rows x 15 columns]"
      ]
     },
     "execution_count": 7,
     "metadata": {},
     "output_type": "execute_result"
    }
   ],
   "source": [
    "x"
   ]
  },
  {
   "cell_type": "code",
   "execution_count": 8,
   "metadata": {},
   "outputs": [],
   "source": [
    "xS1=x.loc[x[\"Stay\"] == '11-20'].sample(n=23604, random_state=42)\n",
    "xS2=x.loc[x[\"Stay\"] == '21-30'].sample(n=23604, random_state=42)\n",
    "xS3=x.loc[x[\"Stay\"] == '31-40'].sample(n=23604, random_state=42)\n",
    "xS5=x.loc[x[\"Stay\"] == '51-60'].sample(n=23604, random_state=42)\n",
    "\n",
    "\n",
    "x= x[x.Stay!='11-20']\n",
    "x= x[x.Stay!='21-30']\n",
    "x= x[x.Stay!='31-40']\n",
    "x= x[x.Stay!='51-60']\n",
    "x = pd.concat([x, xS1,xS2,xS3,xS5])"
   ]
  },
  {
   "cell_type": "markdown",
   "metadata": {},
   "source": [
    "<font size =\"5\"> Downsample class 1,2,3,5"
   ]
  },
  {
   "cell_type": "code",
   "execution_count": 9,
   "metadata": {},
   "outputs": [],
   "source": [
    "x_shuffle=x.sample(frac=1, random_state=8)\n",
    "#x_shuffle[\"case_id\"]=df_train[\"case_id\"][0:len(df_train)]"
   ]
  },
  {
   "cell_type": "code",
   "execution_count": 10,
   "metadata": {},
   "outputs": [
    {
     "name": "stdout",
     "output_type": "stream",
     "text": [
      "Class=0, n=23604 (9.091%)\n",
      "Class=1, n=23603 (9.091%)\n",
      "Class=2, n=23604 (9.091%)\n",
      "Class=3, n=23603 (9.091%)\n",
      "Class=4, n=23604 (9.091%)\n",
      "Class=5, n=23604 (9.091%)\n",
      "Class=6, n=23604 (9.091%)\n",
      "Class=7, n=23604 (9.091%)\n",
      "Class=8, n=23604 (9.091%)\n",
      "Class=9, n=23604 (9.091%)\n",
      "Class=10, n=23604 (9.091%)\n"
     ]
    },
    {
     "data": {
      "image/png": "[encoded data removed]",
      "text/plain": [
       "<Figure size 432x288 with 1 Axes>"
      ]
     },
     "metadata": {
      "needs_background": "light"
     },
     "output_type": "display_data"
    }
   ],
   "source": [
    "counter = Counter(x_shuffle[\"Stay\"])\n",
    "i=0\n",
    "for Class, Amount in counter.items():\n",
    "    per = Amount / len(x_shuffle) * 100\n",
    "    print('Class=%d, n=%d (%.3f%%)' % (i, Amount, per))\n",
    "    i+=1\n",
    "plt.bar(counter.keys(), counter.values())\n",
    "plt.title(\"Distribution\")\n",
    "plt.show()"
   ]
  },
  {
   "cell_type": "markdown",
   "metadata": {},
   "source": [
    "<br>\n",
    "<font size = \"5\"> Save to excel"
   ]
  },
  {
   "cell_type": "code",
   "execution_count": 11,
   "metadata": {},
   "outputs": [],
   "source": [
    "x_shuffle.to_csv(r'resample.csv', index = False)"
   ]
  },
  {
   "cell_type": "code",
   "execution_count": 12,
   "metadata": {},
   "outputs": [
    {
     "data": {
      "text/html": [
       "<div>\n",
       "<style scoped>\n",
       "    .dataframe tbody tr th:only-of-type {\n",
       "        vertical-align: middle;\n",
       "    }\n",
       "\n",
       "    .dataframe tbody tr th {\n",
       "        vertical-align: top;\n",
       "    }\n",
       "\n",
       "    .dataframe thead th {\n",
       "        text-align: right;\n",
       "    }\n",
       "</style>\n",
       "<table border=\"1\" class=\"dataframe\">\n",
       "  <thead>\n",
       "    <tr style=\"text-align: right;\">\n",
       "      <th></th>\n",
       "      <th>Hospital_code</th>\n",
       "      <th>Hospital_type_code</th>\n",
       "      <th>City_Code_Hospital</th>\n",
       "      <th>Hospital_region_code</th>\n",
       "      <th>Available Extra Rooms in Hospital</th>\n",
       "      <th>Department</th>\n",
       "      <th>Ward_Type</th>\n",
       "      <th>Ward_Facility_Code</th>\n",
       "      <th>Bed Grade</th>\n",
       "      <th>Type of Admission</th>\n",
       "      <th>Severity of Illness</th>\n",
       "      <th>Visitors with Patient</th>\n",
       "      <th>Age</th>\n",
       "      <th>Admission_Deposit</th>\n",
       "      <th>Stay</th>\n",
       "    </tr>\n",
       "  </thead>\n",
       "  <tbody>\n",
       "    <tr>\n",
       "      <th>412482</th>\n",
       "      <td>23</td>\n",
       "      <td>0</td>\n",
       "      <td>6</td>\n",
       "      <td>0</td>\n",
       "      <td>2</td>\n",
       "      <td>2</td>\n",
       "      <td>2</td>\n",
       "      <td>5</td>\n",
       "      <td>3.000000</td>\n",
       "      <td>0</td>\n",
       "      <td>1</td>\n",
       "      <td>7</td>\n",
       "      <td>4</td>\n",
       "      <td>-1.312446</td>\n",
       "      <td>More than 100 Days</td>\n",
       "    </tr>\n",
       "    <tr>\n",
       "      <th>344966</th>\n",
       "      <td>11</td>\n",
       "      <td>1</td>\n",
       "      <td>2</td>\n",
       "      <td>1</td>\n",
       "      <td>4</td>\n",
       "      <td>2</td>\n",
       "      <td>1</td>\n",
       "      <td>3</td>\n",
       "      <td>2.046537</td>\n",
       "      <td>0</td>\n",
       "      <td>2</td>\n",
       "      <td>6</td>\n",
       "      <td>4</td>\n",
       "      <td>-1.421634</td>\n",
       "      <td>61-70</td>\n",
       "    </tr>\n",
       "    <tr>\n",
       "      <th>308386</th>\n",
       "      <td>25</td>\n",
       "      <td>4</td>\n",
       "      <td>1</td>\n",
       "      <td>0</td>\n",
       "      <td>4</td>\n",
       "      <td>2</td>\n",
       "      <td>2</td>\n",
       "      <td>4</td>\n",
       "      <td>3.000000</td>\n",
       "      <td>0</td>\n",
       "      <td>1</td>\n",
       "      <td>2</td>\n",
       "      <td>3</td>\n",
       "      <td>-0.526098</td>\n",
       "      <td>21-30</td>\n",
       "    </tr>\n",
       "    <tr>\n",
       "      <th>398823</th>\n",
       "      <td>32</td>\n",
       "      <td>5</td>\n",
       "      <td>9</td>\n",
       "      <td>1</td>\n",
       "      <td>1</td>\n",
       "      <td>2</td>\n",
       "      <td>3</td>\n",
       "      <td>1</td>\n",
       "      <td>3.000000</td>\n",
       "      <td>0</td>\n",
       "      <td>1</td>\n",
       "      <td>9</td>\n",
       "      <td>5</td>\n",
       "      <td>-0.140223</td>\n",
       "      <td>91-100</td>\n",
       "    </tr>\n",
       "    <tr>\n",
       "      <th>270026</th>\n",
       "      <td>23</td>\n",
       "      <td>0</td>\n",
       "      <td>6</td>\n",
       "      <td>0</td>\n",
       "      <td>7</td>\n",
       "      <td>2</td>\n",
       "      <td>1</td>\n",
       "      <td>5</td>\n",
       "      <td>2.000000</td>\n",
       "      <td>2</td>\n",
       "      <td>2</td>\n",
       "      <td>2</td>\n",
       "      <td>4</td>\n",
       "      <td>2.881233</td>\n",
       "      <td>21-30</td>\n",
       "    </tr>\n",
       "  </tbody>\n",
       "</table>\n",
       "</div>"
      ],
      "text/plain": [
       "        Hospital_code  Hospital_type_code  City_Code_Hospital  \\\n",
       "412482             23                   0                   6   \n",
       "344966             11                   1                   2   \n",
       "308386             25                   4                   1   \n",
       "398823             32                   5                   9   \n",
       "270026             23                   0                   6   \n",
       "\n",
       "        Hospital_region_code  Available Extra Rooms in Hospital  Department  \\\n",
       "412482                     0                                  2           2   \n",
       "344966                     1                                  4           2   \n",
       "308386                     0                                  4           2   \n",
       "398823                     1                                  1           2   \n",
       "270026                     0                                  7           2   \n",
       "\n",
       "        Ward_Type  Ward_Facility_Code  Bed Grade  Type of Admission  \\\n",
       "412482          2                   5   3.000000                  0   \n",
       "344966          1                   3   2.046537                  0   \n",
       "308386          2                   4   3.000000                  0   \n",
       "398823          3                   1   3.000000                  0   \n",
       "270026          1                   5   2.000000                  2   \n",
       "\n",
       "        Severity of Illness  Visitors with Patient  Age  Admission_Deposit  \\\n",
       "412482                    1                      7    4          -1.312446   \n",
       "344966                    2                      6    4          -1.421634   \n",
       "308386                    1                      2    3          -0.526098   \n",
       "398823                    1                      9    5          -0.140223   \n",
       "270026                    2                      2    4           2.881233   \n",
       "\n",
       "                      Stay  \n",
       "412482  More than 100 Days  \n",
       "344966               61-70  \n",
       "308386               21-30  \n",
       "398823              91-100  \n",
       "270026               21-30  "
      ]
     },
     "execution_count": 12,
     "metadata": {},
     "output_type": "execute_result"
    }
   ],
   "source": [
    "x_shuffle.head()"
   ]
  },
  {
   "cell_type": "markdown",
   "metadata": {},
   "source": [
    "<br>\n",
    "<font size = \"5\">Correlation Heatmap "
   ]
  },
  {
   "cell_type": "code",
   "execution_count": 13,
   "metadata": {},
   "outputs": [
    {
     "data": {
      "text/plain": [
       "<matplotlib.axes._subplots.AxesSubplot at 0x1084b1d60>"
      ]
     },
     "execution_count": 13,
     "metadata": {},
     "output_type": "execute_result"
    },
    {
     "data": {
      "image/png": "[encoded data removed]",
      "text/plain": [
       "<Figure size 720x720 with 2 Axes>"
      ]
     },
     "metadata": {
      "needs_background": "light"
     },
     "output_type": "display_data"
    },
    {
     "data": {
      "image/png": "[encoded data removed]",
      "text/plain": [
       "<Figure size 720x720 with 2 Axes>"
      ]
     },
     "metadata": {
      "needs_background": "light"
     },
     "output_type": "display_data"
    }
   ],
   "source": [
    "x_shuffle[\"Stay\"].replace(dept_Stay, inplace=True)\n",
    "c_corr=x_shuffle.drop([\"Hospital_code\", \"Hospital_type_code\", \"City_Code_Hospital\",\"Hospital_region_code\",\n",
    "                   \"Department\",\"Ward_Type\",\"Ward_Facility_Code\",\"Type of Admission\"],axis=1, inplace=False)\n",
    "\n",
    "sc = StandardScaler()\n",
    "c_corr[['Available Extra Rooms in Hospital']] = sc.fit_transform(c_corr[['Available Extra Rooms in Hospital']])\n",
    "c_corr[['Bed Grade']] = sc.fit_transform(c_corr[['Bed Grade']])    \n",
    "c_corr[['Severity of Illness']] = sc.fit_transform(c_corr[['Severity of Illness']])\n",
    "c_corr[['Visitors with Patient']] = sc.fit_transform(c_corr[['Visitors with Patient']])\n",
    "c_corr[['Age']] = sc.fit_transform(c_corr[['Age']])\n",
    "c_corr[['Stay']] = sc.fit_transform(c_corr[['Stay']])\n",
    "\n",
    "PearsonCorr = c_corr.corr(method=\"pearson\") \n",
    "plt.figure(figsize=(10,10))\n",
    "sns.heatmap(PearsonCorr, vmin=-1, vmax=1, square=True,annot=True,cmap='ocean')\n",
    "\n",
    "\n",
    "PearsonCorr = c_corr.corr(method=\"spearman\")\n",
    "plt.figure(figsize=(10,10))\n",
    "sns.heatmap(PearsonCorr, vmin=-1, vmax=1, square=True,annot=True,cmap='ocean')"
   ]
  },
  {
   "cell_type": "code",
   "execution_count": null,
   "metadata": {},
   "outputs": [],
   "source": []
  }
 ],
 "metadata": {
  "kernelspec": {
   "display_name": "Python 3",
   "language": "python",
   "name": "python3"
  },
  "language_info": {
   "codemirror_mode": {
    "name": "ipython",
    "version": 3
   },
   "file_extension": ".py",
   "mimetype": "text/x-python",
   "name": "python",
   "nbconvert_exporter": "python",
   "pygments_lexer": "ipython3",
   "version": "3.8.3"
  }
 },
 "nbformat": 4,
 "nbformat_minor": 4
}
